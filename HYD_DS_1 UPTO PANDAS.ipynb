{
 "cells": [
  {
   "cell_type": "markdown",
   "metadata": {},
   "source": [
    "# BASICS"
   ]
  },
  {
   "cell_type": "code",
   "execution_count": 13,
   "metadata": {},
   "outputs": [],
   "source": [
    "x=5\n",
    "y='10'"
   ]
  },
  {
   "cell_type": "code",
   "execution_count": 15,
   "metadata": {},
   "outputs": [],
   "source": [
    "z=x+int(y)"
   ]
  },
  {
   "cell_type": "code",
   "execution_count": 16,
   "metadata": {},
   "outputs": [
    {
     "data": {
      "text/plain": [
       "15"
      ]
     },
     "execution_count": 16,
     "metadata": {},
     "output_type": "execute_result"
    }
   ],
   "source": [
    "z"
   ]
  },
  {
   "cell_type": "code",
   "execution_count": 143,
   "metadata": {},
   "outputs": [
    {
     "data": {
      "text/plain": [
       "101"
      ]
     },
     "execution_count": 143,
     "metadata": {},
     "output_type": "execute_result"
    }
   ],
   "source": [
    "x='i have a good name by systematic approaches made by a company my parents took advice for my name from'\n",
    "len(x)"
   ]
  },
  {
   "cell_type": "code",
   "execution_count": 144,
   "metadata": {},
   "outputs": [],
   "source": [
    "new = x.split()"
   ]
  },
  {
   "cell_type": "code",
   "execution_count": 146,
   "metadata": {},
   "outputs": [
    {
     "name": "stdout",
     "output_type": "stream",
     "text": [
      "['i', 'have', 'a', 'good', 'name', 'by', 'systematic', 'approaches', 'made', 'by', 'a', 'company', 'my', 'parents', 'took', 'advice', 'for', 'my', 'name', 'from']\n"
     ]
    },
    {
     "data": {
      "text/plain": [
       "20"
      ]
     },
     "execution_count": 146,
     "metadata": {},
     "output_type": "execute_result"
    }
   ],
   "source": [
    "print(new)\n",
    "len(new)"
   ]
  },
  {
   "cell_type": "code",
   "execution_count": 54,
   "metadata": {},
   "outputs": [],
   "source": [
    "splitfuntion=['i', 'have', 'a', 'good', 'name', 'by', 'systematic', 'approaches', 'made', 'by', 'a', 'company', 'my', 'parents', 'took', 'advice', 'for', 'my', 'name', 'from']"
   ]
  },
  {
   "cell_type": "code",
   "execution_count": 65,
   "metadata": {},
   "outputs": [
    {
     "data": {
      "text/plain": [
       "'i  have  a  good  name  by  systematic  approaches  made  by  a  company  my  parents  took  advice  for  my  name  from'"
      ]
     },
     "execution_count": 65,
     "metadata": {},
     "output_type": "execute_result"
    }
   ],
   "source": [
    "\"  \".join(splitfuntion)"
   ]
  },
  {
   "cell_type": "code",
   "execution_count": 5,
   "metadata": {},
   "outputs": [],
   "source": [
    "variable_a=\"an_apple\""
   ]
  },
  {
   "cell_type": "code",
   "execution_count": 6,
   "metadata": {},
   "outputs": [
    {
     "name": "stdout",
     "output_type": "stream",
     "text": [
      "index 1 in string is a\n",
      "index 2 in string is n\n",
      "index 3 in string is _\n",
      "index 4 in string is a\n",
      "index 5 in string is p\n",
      "index 6 in string is p\n",
      "index 7 in string is l\n",
      "index 8 in string is e\n"
     ]
    }
   ],
   "source": [
    "j=1\n",
    "for i in variable_a:\n",
    "    print(\"index {letter} in string is {i}\".format(letter=j,i=i))\n",
    "    j+=1"
   ]
  },
  {
   "cell_type": "markdown",
   "metadata": {},
   "source": [
    "# LAMBDA - FILTER - MAP"
   ]
  },
  {
   "cell_type": "code",
   "execution_count": 87,
   "metadata": {},
   "outputs": [],
   "source": [
    "A=lambda x: x**x"
   ]
  },
  {
   "cell_type": "code",
   "execution_count": 88,
   "metadata": {},
   "outputs": [
    {
     "data": {
      "text/plain": [
       "3125"
      ]
     },
     "execution_count": 88,
     "metadata": {},
     "output_type": "execute_result"
    }
   ],
   "source": [
    "A(5)"
   ]
  },
  {
   "cell_type": "code",
   "execution_count": 140,
   "metadata": {},
   "outputs": [],
   "source": [
    "b=lambda x,y,z:x*y*z"
   ]
  },
  {
   "cell_type": "code",
   "execution_count": 141,
   "metadata": {},
   "outputs": [
    {
     "data": {
      "text/plain": [
       "40"
      ]
     },
     "execution_count": 141,
     "metadata": {},
     "output_type": "execute_result"
    }
   ],
   "source": [
    "b(5,2,4)"
   ]
  },
  {
   "cell_type": "code",
   "execution_count": 142,
   "metadata": {},
   "outputs": [
    {
     "data": {
      "text/plain": [
       "6"
      ]
     },
     "execution_count": 142,
     "metadata": {},
     "output_type": "execute_result"
    }
   ],
   "source": [
    "b=(lambda x,y,z:x*y*z)(1,2,3)"
   ]
  },
  {
   "cell_type": "code",
   "execution_count": null,
   "metadata": {},
   "outputs": [],
   "source": []
  },
  {
   "cell_type": "code",
   "execution_count": null,
   "metadata": {},
   "outputs": [],
   "source": [
    "#LAMBDA WITH filter(function, sequence)\n",
    "def even_f(n):\n",
    "    if n%2==0:\n",
    "        return True\n",
    "    else:\n",
    "        return False\n",
    "list_range=range(1,100)\n",
    "list2=list(filter(even_f,list_range))\n",
    "print(list2)"
   ]
  },
  {
   "cell_type": "code",
   "execution_count": 105,
   "metadata": {},
   "outputs": [
    {
     "name": "stdout",
     "output_type": "stream",
     "text": [
      "[0, 2, 4, 6, 8, 10, 12, 14, 16, 18, 20, 22, 24, 26, 28, 30, 32, 34, 36, 38, 40, 42, 44, 46, 48, 50, 52, 54, 56, 58, 60, 62, 64, 66, 68, 70, 72, 74, 76, 78, 80, 82, 84, 86, 88, 90, 92, 94, 96, 98]\n"
     ]
    }
   ],
   "source": [
    "list3 = list(filter(lambda x:x%2==0,range(100)))\n",
    "print(list3)"
   ]
  },
  {
   "cell_type": "code",
   "execution_count": 109,
   "metadata": {},
   "outputs": [
    {
     "name": "stdout",
     "output_type": "stream",
     "text": [
      "[0, 1, 4, 9, 16, 25, 36, 49, 64, 81, 100, 121, 144, 169, 196, 225, 256, 289, 324, 361, 400, 441, 484, 529, 576, 625, 676, 729, 784, 841, 900, 961, 1024, 1089, 1156, 1225, 1296, 1369, 1444, 1521, 1600, 1681, 1764, 1849, 1936, 2025, 2116, 2209, 2304, 2401, 2500, 2601, 2704, 2809, 2916, 3025, 3136, 3249, 3364, 3481, 3600, 3721, 3844, 3969, 4096, 4225, 4356, 4489, 4624, 4761, 4900, 5041, 5184, 5329, 5476, 5625, 5776, 5929, 6084, 6241, 6400, 6561, 6724, 6889, 7056, 7225, 7396, 7569, 7744, 7921, 8100, 8281, 8464, 8649, 8836, 9025, 9216, 9409, 9604, 9801, 10000]\n"
     ]
    }
   ],
   "source": [
    "#LAMBDA WITH map(function, sequence)\n",
    "listof=range(101)\n",
    "listp=list(map(lambda i:i**2,listof))\n",
    "print(listp)"
   ]
  },
  {
   "cell_type": "markdown",
   "metadata": {},
   "source": [
    "# REDUCE"
   ]
  },
  {
   "cell_type": "code",
   "execution_count": 121,
   "metadata": {},
   "outputs": [],
   "source": [
    "def factorial(n):\n",
    "    prod=1\n",
    "    for i in range(1,n):\n",
    "        prod=prod*i\n",
    "    print(prod)"
   ]
  },
  {
   "cell_type": "code",
   "execution_count": 127,
   "metadata": {},
   "outputs": [
    {
     "name": "stdout",
     "output_type": "stream",
     "text": [
      "362880\n"
     ]
    }
   ],
   "source": [
    "factorial(10)"
   ]
  },
  {
   "cell_type": "code",
   "execution_count": 128,
   "metadata": {},
   "outputs": [
    {
     "data": {
      "text/plain": [
       "Type help() for interactive help, or help(object) for help about object."
      ]
     },
     "execution_count": 128,
     "metadata": {},
     "output_type": "execute_result"
    }
   ],
   "source": [
    "help\n"
   ]
  },
  {
   "cell_type": "code",
   "execution_count": 132,
   "metadata": {},
   "outputs": [
    {
     "name": "stdout",
     "output_type": "stream",
     "text": [
      "24\n"
     ]
    }
   ],
   "source": [
    "from functools import reduce \n",
    "prod=reduce(lambda x,y:x*y,range(1,5))\n",
    "print(prod)"
   ]
  },
  {
   "cell_type": "code",
   "execution_count": 133,
   "metadata": {},
   "outputs": [],
   "source": [
    "value= lambda x,y: x if x>y else y"
   ]
  },
  {
   "cell_type": "code",
   "execution_count": 135,
   "metadata": {},
   "outputs": [
    {
     "data": {
      "text/plain": [
       "711"
      ]
     },
     "execution_count": 135,
     "metadata": {},
     "output_type": "execute_result"
    }
   ],
   "source": [
    "reduce(value,[23,4,56,711,34,89])"
   ]
  },
  {
   "cell_type": "markdown",
   "metadata": {},
   "source": [
    "# Date-24-09-2019"
   ]
  },
  {
   "cell_type": "code",
   "execution_count": 4,
   "metadata": {
    "scrolled": false
   },
   "outputs": [
    {
     "data": {
      "text/plain": [
       "str"
      ]
     },
     "execution_count": 4,
     "metadata": {},
     "output_type": "execute_result"
    }
   ],
   "source": [
    "x=\"I am a data Scientist\"\n",
    "y= x.split()\n",
    "type(y)\n",
    "type(str(y))"
   ]
  },
  {
   "cell_type": "code",
   "execution_count": 12,
   "metadata": {},
   "outputs": [
    {
     "name": "stdout",
     "output_type": "stream",
     "text": [
      "9\n",
      "16\n",
      "25\n",
      "36\n",
      "49\n",
      "64\n",
      "81\n",
      "100\n",
      "121\n",
      "144\n",
      "169\n",
      "196\n",
      "225\n",
      "256\n",
      "289\n",
      "324\n",
      "361\n",
      "400\n",
      "441\n",
      "484\n"
     ]
    }
   ],
   "source": [
    "for i in range(23):\n",
    "        k=i**2\n",
    "        if k>5 and k<500:\n",
    "            print(k)"
   ]
  },
  {
   "cell_type": "code",
   "execution_count": 12,
   "metadata": {},
   "outputs": [
    {
     "name": "stdout",
     "output_type": "stream",
     "text": [
      "9\n",
      "16\n",
      "25\n",
      "36\n",
      "49\n"
     ]
    }
   ],
   "source": [
    "square(11)"
   ]
  },
  {
   "cell_type": "code",
   "execution_count": 5,
   "metadata": {},
   "outputs": [
    {
     "data": {
      "text/plain": [
       "'C:\\\\Users\\\\Windows'"
      ]
     },
     "execution_count": 5,
     "metadata": {},
     "output_type": "execute_result"
    }
   ],
   "source": [
    "import os\n",
    "os.getcwd()"
   ]
  },
  {
   "cell_type": "code",
   "execution_count": 18,
   "metadata": {},
   "outputs": [],
   "source": [
    "os.chdir(\"D:\\\\DS\")"
   ]
  },
  {
   "cell_type": "code",
   "execution_count": 26,
   "metadata": {},
   "outputs": [
    {
     "ename": "SyntaxError",
     "evalue": "(unicode error) 'unicodeescape' codec can't decode bytes in position 10-11: malformed \\N character escape (<ipython-input-26-3b7102741a69>, line 1)",
     "output_type": "error",
     "traceback": [
      "\u001b[1;36m  File \u001b[1;32m\"<ipython-input-26-3b7102741a69>\"\u001b[1;36m, line \u001b[1;32m1\u001b[0m\n\u001b[1;33m    musicfile=open(\"‪\\New folder\\New Text Document.txt\")\u001b[0m\n\u001b[1;37m                  ^\u001b[0m\n\u001b[1;31mSyntaxError\u001b[0m\u001b[1;31m:\u001b[0m (unicode error) 'unicodeescape' codec can't decode bytes in position 10-11: malformed \\N character escape\n"
     ]
    }
   ],
   "source": [
    "musicfile=open(\"‪\\New folder\\New Text Document.txt\")"
   ]
  },
  {
   "cell_type": "code",
   "execution_count": null,
   "metadata": {},
   "outputs": [],
   "source": [
    "os.getcwd()"
   ]
  },
  {
   "cell_type": "code",
   "execution_count": 150,
   "metadata": {},
   "outputs": [
    {
     "name": "stdout",
     "output_type": "stream",
     "text": [
      "[1, 4, 1, 4, 4, 2, 10, 10, 4, 2, 1, 7, 2, 7, 4, 6, 3, 2, 4, 4]\n"
     ]
    }
   ],
   "source": [
    "a=['i', 'have', 'a', 'good', 'name', 'by', 'systematic', 'approaches', 'made', 'by', 'a', 'company', 'my', 'parents', 'took', 'advice', 'for', 'my', 'name', 'from']\n",
    "length=[]\n",
    "for i in a:\n",
    "    length.append(len(i))\n",
    "print(length)    "
   ]
  },
  {
   "cell_type": "markdown",
   "metadata": {},
   "source": [
    "# LIST COMPREHENSIONS"
   ]
  },
  {
   "cell_type": "code",
   "execution_count": 156,
   "metadata": {},
   "outputs": [],
   "source": [
    "listmain=['Anne', 'Amy', 'Bob', 'David', 'Carrie', 'Barbara', 'Zach']"
   ]
  },
  {
   "cell_type": "code",
   "execution_count": 180,
   "metadata": {},
   "outputs": [
    {
     "name": "stdout",
     "output_type": "stream",
     "text": [
      "['n', 'm', 'o', 'i', 'i', 'r', 'c']\n"
     ]
    }
   ],
   "source": [
    "list2=[i[-2] for i in listmain]\n",
    "print(list2)"
   ]
  },
  {
   "cell_type": "code",
   "execution_count": 182,
   "metadata": {},
   "outputs": [
    {
     "name": "stdout",
     "output_type": "stream",
     "text": [
      "[4, 3, 3, 5, 6, 7, 4]\n"
     ]
    }
   ],
   "source": [
    "list3 =[len(x) for x in listmain ]\n",
    "print(list3)"
   ]
  },
  {
   "cell_type": "code",
   "execution_count": 184,
   "metadata": {},
   "outputs": [
    {
     "name": "stdout",
     "output_type": "stream",
     "text": [
      "['ennA', 'ymA', 'boB', 'divaD', 'eirraC', 'arabraB', 'hcaZ']\n"
     ]
    }
   ],
   "source": [
    "list4=[x[::-1] for x in listmain]\n",
    "print(list4)"
   ]
  },
  {
   "cell_type": "code",
   "execution_count": 186,
   "metadata": {},
   "outputs": [
    {
     "name": "stdout",
     "output_type": "stream",
     "text": [
      "['A', 'A', 'B', 'D', 'C', 'B', 'Z']\n"
     ]
    }
   ],
   "source": [
    "list5=[x[-1] for x in list4]\n",
    "print(list5)"
   ]
  },
  {
   "cell_type": "code",
   "execution_count": 191,
   "metadata": {},
   "outputs": [
    {
     "name": "stdout",
     "output_type": "stream",
     "text": [
      "[('Anne', 'A', 4), ('Amy', 'A', 3), ('Bob', 'B', 3), ('David', 'D', 5), ('Carrie', 'C', 6), ('Barbara', 'B', 7), ('Zach', 'Z', 4)]\n"
     ]
    }
   ],
   "source": [
    "list6=[(x,x[0],len(x)) for x in listmain]\n",
    "print(list6)"
   ]
  },
  {
   "cell_type": "code",
   "execution_count": 196,
   "metadata": {},
   "outputs": [
    {
     "name": "stdout",
     "output_type": "stream",
     "text": [
      "[[1, 'one', '1ne'], [1, 'one', '2wo'], [1, 'one', '3ree'], [1, 'two', '1ne'], [1, 'two', '2wo'], [1, 'two', '3ree'], [1, 'three', '1ne'], [1, 'three', '2wo'], [1, 'three', '3ree'], [2, 'one', '1ne'], [2, 'one', '2wo'], [2, 'one', '3ree'], [2, 'two', '1ne'], [2, 'two', '2wo'], [2, 'two', '3ree'], [2, 'three', '1ne'], [2, 'three', '2wo'], [2, 'three', '3ree'], [3, 'one', '1ne'], [3, 'one', '2wo'], [3, 'one', '3ree'], [3, 'two', '1ne'], [3, 'two', '2wo'], [3, 'two', '3ree'], [3, 'three', '1ne'], [3, 'three', '2wo'], [3, 'three', '3ree']]\n"
     ]
    }
   ],
   "source": [
    "list7=[1,2,3]\n",
    "list8=['one','two','three']\n",
    "list9=['1ne','2wo','3ree']\n",
    "list7_8_9=[[x,y,z] for x in list7 for y in list8 for z in list9]\n",
    "print(list7_8_9)"
   ]
  },
  {
   "cell_type": "code",
   "execution_count": 201,
   "metadata": {},
   "outputs": [
    {
     "name": "stdout",
     "output_type": "stream",
     "text": [
      "[9, 16, 25, 36, 49, 64, 81]\n"
     ]
    }
   ],
   "source": [
    "list11=[x**2 for x in range(11) if x**2>4 and x**2<100]\n",
    "print(list11)"
   ]
  },
  {
   "cell_type": "code",
   "execution_count": 204,
   "metadata": {},
   "outputs": [
    {
     "data": {
      "text/plain": [
       "[9, 16, 25, 36, 49]"
      ]
     },
     "execution_count": 204,
     "metadata": {},
     "output_type": "execute_result"
    }
   ],
   "source": [
    "square=[x**2 for x in range(11)]\n",
    "list13=[x for x in square if x>4 and x<50]\n",
    "list13"
   ]
  },
  {
   "cell_type": "code",
   "execution_count": 206,
   "metadata": {},
   "outputs": [
    {
     "data": {
      "text/plain": [
       "[9, 16, 25, 36, 49]"
      ]
     },
     "execution_count": 206,
     "metadata": {},
     "output_type": "execute_result"
    }
   ],
   "source": [
    "list14=[x for x in [x**2 for x in range(11)] if x>4 and x<50]\n",
    "list14\n"
   ]
  },
  {
   "cell_type": "code",
   "execution_count": 208,
   "metadata": {},
   "outputs": [
    {
     "data": {
      "text/plain": [
       "['Bob', 'Barbara']"
      ]
     },
     "execution_count": 208,
     "metadata": {},
     "output_type": "execute_result"
    }
   ],
   "source": [
    "list15=[x for x in listmain if x.startswith(\"B\")]\n",
    "list15"
   ]
  },
  {
   "cell_type": "markdown",
   "metadata": {},
   "source": [
    "\n",
    "# Date-25-09-2019"
   ]
  },
  {
   "cell_type": "code",
   "execution_count": 7,
   "metadata": {},
   "outputs": [],
   "source": [
    "import numpy as np"
   ]
  },
  {
   "cell_type": "code",
   "execution_count": 13,
   "metadata": {},
   "outputs": [],
   "source": [
    "array= np.array([1,2,3,4,5,6])"
   ]
  },
  {
   "cell_type": "code",
   "execution_count": 3,
   "metadata": {},
   "outputs": [
    {
     "data": {
      "text/plain": [
       "array([1, 2, 3, 4, 5])"
      ]
     },
     "execution_count": 3,
     "metadata": {},
     "output_type": "execute_result"
    }
   ],
   "source": [
    "array"
   ]
  },
  {
   "cell_type": "code",
   "execution_count": 8,
   "metadata": {},
   "outputs": [
    {
     "data": {
      "text/plain": [
       "(5,)"
      ]
     },
     "execution_count": 8,
     "metadata": {},
     "output_type": "execute_result"
    }
   ],
   "source": [
    "array.shape"
   ]
  },
  {
   "cell_type": "code",
   "execution_count": 6,
   "metadata": {},
   "outputs": [
    {
     "data": {
      "text/plain": [
       "1"
      ]
     },
     "execution_count": 6,
     "metadata": {},
     "output_type": "execute_result"
    }
   ],
   "source": [
    "array.ndim"
   ]
  },
  {
   "cell_type": "code",
   "execution_count": 7,
   "metadata": {},
   "outputs": [
    {
     "data": {
      "text/plain": [
       "5"
      ]
     },
     "execution_count": 7,
     "metadata": {},
     "output_type": "execute_result"
    }
   ],
   "source": [
    "array.size"
   ]
  },
  {
   "cell_type": "code",
   "execution_count": 16,
   "metadata": {},
   "outputs": [],
   "source": [
    "array.shape =[2,3]"
   ]
  },
  {
   "cell_type": "code",
   "execution_count": 17,
   "metadata": {},
   "outputs": [
    {
     "data": {
      "text/plain": [
       "array([[1, 2, 3],\n",
       "       [4, 5, 6]])"
      ]
     },
     "execution_count": 17,
     "metadata": {},
     "output_type": "execute_result"
    }
   ],
   "source": [
    "array"
   ]
  },
  {
   "cell_type": "code",
   "execution_count": 12,
   "metadata": {},
   "outputs": [
    {
     "data": {
      "text/plain": [
       "numpy.ndarray"
      ]
     },
     "execution_count": 12,
     "metadata": {},
     "output_type": "execute_result"
    }
   ],
   "source": [
    "type(array)"
   ]
  },
  {
   "cell_type": "code",
   "execution_count": 24,
   "metadata": {},
   "outputs": [],
   "source": [
    "#dimentions\n",
    "a= np.arange(100)"
   ]
  },
  {
   "cell_type": "code",
   "execution_count": 25,
   "metadata": {},
   "outputs": [
    {
     "data": {
      "text/plain": [
       "array([ 0,  1,  2,  3,  4,  5,  6,  7,  8,  9, 10, 11, 12, 13, 14, 15, 16,\n",
       "       17, 18, 19, 20, 21, 22, 23, 24, 25, 26, 27, 28, 29, 30, 31, 32, 33,\n",
       "       34, 35, 36, 37, 38, 39, 40, 41, 42, 43, 44, 45, 46, 47, 48, 49, 50,\n",
       "       51, 52, 53, 54, 55, 56, 57, 58, 59, 60, 61, 62, 63, 64, 65, 66, 67,\n",
       "       68, 69, 70, 71, 72, 73, 74, 75, 76, 77, 78, 79, 80, 81, 82, 83, 84,\n",
       "       85, 86, 87, 88, 89, 90, 91, 92, 93, 94, 95, 96, 97, 98, 99])"
      ]
     },
     "execution_count": 25,
     "metadata": {},
     "output_type": "execute_result"
    }
   ],
   "source": [
    "a"
   ]
  },
  {
   "cell_type": "code",
   "execution_count": 27,
   "metadata": {},
   "outputs": [
    {
     "data": {
      "text/plain": [
       "array([[ 0,  1,  2,  3,  4,  5,  6,  7,  8,  9, 10, 11, 12, 13, 14, 15,\n",
       "        16, 17, 18, 19, 20, 21, 22, 23, 24],\n",
       "       [25, 26, 27, 28, 29, 30, 31, 32, 33, 34, 35, 36, 37, 38, 39, 40,\n",
       "        41, 42, 43, 44, 45, 46, 47, 48, 49],\n",
       "       [50, 51, 52, 53, 54, 55, 56, 57, 58, 59, 60, 61, 62, 63, 64, 65,\n",
       "        66, 67, 68, 69, 70, 71, 72, 73, 74],\n",
       "       [75, 76, 77, 78, 79, 80, 81, 82, 83, 84, 85, 86, 87, 88, 89, 90,\n",
       "        91, 92, 93, 94, 95, 96, 97, 98, 99]])"
      ]
     },
     "execution_count": 27,
     "metadata": {},
     "output_type": "execute_result"
    }
   ],
   "source": [
    "a.reshape(4,25)"
   ]
  },
  {
   "cell_type": "code",
   "execution_count": 33,
   "metadata": {
    "scrolled": false
   },
   "outputs": [
    {
     "data": {
      "text/plain": [
       "array([[[ 0,  1,  2,  3,  4,  5,  6,  7,  8,  9],\n",
       "        [10, 11, 12, 13, 14, 15, 16, 17, 18, 19],\n",
       "        [20, 21, 22, 23, 24, 25, 26, 27, 28, 29],\n",
       "        [30, 31, 32, 33, 34, 35, 36, 37, 38, 39],\n",
       "        [40, 41, 42, 43, 44, 45, 46, 47, 48, 49]],\n",
       "\n",
       "       [[50, 51, 52, 53, 54, 55, 56, 57, 58, 59],\n",
       "        [60, 61, 62, 63, 64, 65, 66, 67, 68, 69],\n",
       "        [70, 71, 72, 73, 74, 75, 76, 77, 78, 79],\n",
       "        [80, 81, 82, 83, 84, 85, 86, 87, 88, 89],\n",
       "        [90, 91, 92, 93, 94, 95, 96, 97, 98, 99]]])"
      ]
     },
     "execution_count": 33,
     "metadata": {},
     "output_type": "execute_result"
    }
   ],
   "source": [
    "a.reshape(2,5,10)"
   ]
  },
  {
   "cell_type": "code",
   "execution_count": 8,
   "metadata": {},
   "outputs": [],
   "source": [
    "a= np.arange(100).reshape(10,10)"
   ]
  },
  {
   "cell_type": "code",
   "execution_count": 9,
   "metadata": {},
   "outputs": [
    {
     "data": {
      "text/plain": [
       "array([[ 0,  1,  2,  3,  4,  5,  6,  7,  8,  9],\n",
       "       [10, 11, 12, 13, 14, 15, 16, 17, 18, 19],\n",
       "       [20, 21, 22, 23, 24, 25, 26, 27, 28, 29],\n",
       "       [30, 31, 32, 33, 34, 35, 36, 37, 38, 39],\n",
       "       [40, 41, 42, 43, 44, 45, 46, 47, 48, 49],\n",
       "       [50, 51, 52, 53, 54, 55, 56, 57, 58, 59],\n",
       "       [60, 61, 62, 63, 64, 65, 66, 67, 68, 69],\n",
       "       [70, 71, 72, 73, 74, 75, 76, 77, 78, 79],\n",
       "       [80, 81, 82, 83, 84, 85, 86, 87, 88, 89],\n",
       "       [90, 91, 92, 93, 94, 95, 96, 97, 98, 99]])"
      ]
     },
     "execution_count": 9,
     "metadata": {},
     "output_type": "execute_result"
    }
   ],
   "source": [
    "a"
   ]
  },
  {
   "cell_type": "code",
   "execution_count": 17,
   "metadata": {},
   "outputs": [
    {
     "data": {
      "text/plain": [
       "array([[51, 52],\n",
       "       [61, 62]])"
      ]
     },
     "execution_count": 17,
     "metadata": {},
     "output_type": "execute_result"
    }
   ],
   "source": [
    "a[5:7,1:3]"
   ]
  },
  {
   "cell_type": "code",
   "execution_count": 37,
   "metadata": {},
   "outputs": [
    {
     "data": {
      "text/plain": [
       "array([41, 44])"
      ]
     },
     "execution_count": 37,
     "metadata": {},
     "output_type": "execute_result"
    }
   ],
   "source": [
    "a[4,[1,4]]"
   ]
  },
  {
   "cell_type": "code",
   "execution_count": 39,
   "metadata": {},
   "outputs": [
    {
     "data": {
      "text/plain": [
       "array([36, 93])"
      ]
     },
     "execution_count": 39,
     "metadata": {},
     "output_type": "execute_result"
    }
   ],
   "source": [
    "a[[3,9],[6,3]]"
   ]
  },
  {
   "cell_type": "code",
   "execution_count": 40,
   "metadata": {},
   "outputs": [
    {
     "data": {
      "text/plain": [
       "99"
      ]
     },
     "execution_count": 40,
     "metadata": {},
     "output_type": "execute_result"
    }
   ],
   "source": [
    "a.max()"
   ]
  },
  {
   "cell_type": "code",
   "execution_count": 41,
   "metadata": {},
   "outputs": [
    {
     "data": {
      "text/plain": [
       "array([[  0,   2,   4,   6,   8,  10,  12,  14,  16,  18],\n",
       "       [ 20,  22,  24,  26,  28,  30,  32,  34,  36,  38],\n",
       "       [ 40,  42,  44,  46,  48,  50,  52,  54,  56,  58],\n",
       "       [ 60,  62,  64,  66,  68,  70,  72,  74,  76,  78],\n",
       "       [ 80,  82,  84,  86,  88,  90,  92,  94,  96,  98],\n",
       "       [100, 102, 104, 106, 108, 110, 112, 114, 116, 118],\n",
       "       [120, 122, 124, 126, 128, 130, 132, 134, 136, 138],\n",
       "       [140, 142, 144, 146, 148, 150, 152, 154, 156, 158],\n",
       "       [160, 162, 164, 166, 168, 170, 172, 174, 176, 178],\n",
       "       [180, 182, 184, 186, 188, 190, 192, 194, 196, 198]])"
      ]
     },
     "execution_count": 41,
     "metadata": {},
     "output_type": "execute_result"
    }
   ],
   "source": [
    "a+a"
   ]
  },
  {
   "cell_type": "code",
   "execution_count": 42,
   "metadata": {},
   "outputs": [
    {
     "data": {
      "text/plain": [
       "array([[ 0,  1,  2,  3,  4,  5,  6,  7,  8,  9],\n",
       "       [10, 11, 12, 13, 14, 15, 16, 17, 18, 19],\n",
       "       [20, 21, 22, 23, 24, 25, 26, 27, 28, 29],\n",
       "       [30, 31, 32, 33, 34, 35, 36, 37, 38, 39],\n",
       "       [40, 41, 42, 43, 44, 45, 46, 47, 48, 49],\n",
       "       [50, 51, 52, 53, 54, 55, 56, 57, 58, 59],\n",
       "       [60, 61, 62, 63, 64, 65, 66, 67, 68, 69],\n",
       "       [70, 71, 72, 73, 74, 75, 76, 77, 78, 79],\n",
       "       [80, 81, 82, 83, 84, 85, 86, 87, 88, 89],\n",
       "       [90, 91, 92, 93, 94, 95, 96, 97, 98, 99]])"
      ]
     },
     "execution_count": 42,
     "metadata": {},
     "output_type": "execute_result"
    }
   ],
   "source": [
    "a"
   ]
  },
  {
   "cell_type": "code",
   "execution_count": 54,
   "metadata": {
    "scrolled": true
   },
   "outputs": [
    {
     "data": {
      "text/plain": [
       "array([[1.00000000e+00, 2.71828183e+00, 4.11325038e+00, 5.65223367e+00,\n",
       "        7.38905610e+00, 9.35646902e+00, 1.15824352e+01, 1.40940301e+01,\n",
       "        1.69188287e+01, 2.00855369e+01],\n",
       "       [2.36243429e+01, 2.75671485e+01, 3.19477455e+01, 3.68019663e+01,\n",
       "        4.21678207e+01, 4.80856284e+01, 5.45981500e+01, 6.17507194e+01,\n",
       "        6.95913785e+01, 7.81710163e+01],\n",
       "       [8.75435125e+01, 9.77658853e+01, 1.08898446e+02, 1.21004958e+02,\n",
       "        1.34152805e+02, 1.48413159e+02, 1.63861165e+02, 1.80576123e+02,\n",
       "        1.98641685e+02, 2.18146053e+02],\n",
       "       [2.39182193e+02, 2.61848047e+02, 2.86246764e+02, 3.12486931e+02,\n",
       "        3.40682819e+02, 3.70954637e+02, 4.03428793e+02, 4.38238170e+02,\n",
       "        4.75522407e+02, 5.15428193e+02],\n",
       "       [5.58109578e+02, 6.03728285e+02, 6.52454039e+02, 7.04464912e+02,\n",
       "        7.59947674e+02, 8.19098162e+02, 8.82121660e+02, 9.49233295e+02,\n",
       "        1.02065844e+03, 1.09663316e+03],\n",
       "       [1.17740461e+03, 1.26323154e+03, 1.35438472e+03, 1.45114748e+03,\n",
       "        1.55381617e+03, 1.66270070e+03, 1.77812510e+03, 1.90042806e+03,\n",
       "        2.02996353e+03, 2.16710130e+03],\n",
       "       [2.31222766e+03, 2.46574600e+03, 2.62807751e+03, 2.79966188e+03,\n",
       "        2.98095799e+03, 3.17244464e+03, 3.37462135e+03, 3.58800914e+03,\n",
       "        3.81315135e+03, 4.05061444e+03],\n",
       "       [4.30098896e+03, 4.56489035e+03, 4.84295996e+03, 5.13586595e+03,\n",
       "        5.44430435e+03, 5.76900002e+03, 6.11070779e+03, 6.47021351e+03,\n",
       "        6.84833521e+03, 7.24592425e+03],\n",
       "       [7.66386657e+03, 8.10308393e+03, 8.56453517e+03, 9.04921759e+03,\n",
       "        9.55816833e+03, 1.00924657e+04, 1.06532309e+04, 1.12416291e+04,\n",
       "        1.18588715e+04, 1.25062167e+04],\n",
       "       [1.31849721e+04, 1.38964962e+04, 1.46422000e+04, 1.54235488e+04,\n",
       "        1.62420643e+04, 1.70993263e+04, 1.79969751e+04, 1.89367130e+04,\n",
       "        1.99203069e+04, 2.09495903e+04]])"
      ]
     },
     "execution_count": 54,
     "metadata": {},
     "output_type": "execute_result"
    }
   ],
   "source": [
    "np.exp(np.sqrt(a))"
   ]
  },
  {
   "cell_type": "markdown",
   "metadata": {},
   "source": [
    "# numpy excersize udemy"
   ]
  },
  {
   "cell_type": "code",
   "execution_count": 209,
   "metadata": {},
   "outputs": [],
   "source": [
    "import numpy as np"
   ]
  },
  {
   "cell_type": "code",
   "execution_count": 212,
   "metadata": {},
   "outputs": [
    {
     "data": {
      "text/plain": [
       "array([[0, 0, 0, 0, 0],\n",
       "       [0, 0, 0, 0, 0],\n",
       "       [0, 0, 0, 0, 0],\n",
       "       [0, 0, 0, 0, 0],\n",
       "       [0, 0, 0, 0, 0],\n",
       "       [0, 0, 0, 0, 0],\n",
       "       [0, 0, 0, 0, 0],\n",
       "       [0, 0, 0, 0, 0],\n",
       "       [0, 0, 0, 0, 0],\n",
       "       [0, 0, 0, 0, 0]])"
      ]
     },
     "execution_count": 212,
     "metadata": {},
     "output_type": "execute_result"
    }
   ],
   "source": [
    "np.zeros([10,5],dtype=int)"
   ]
  },
  {
   "cell_type": "code",
   "execution_count": 19,
   "metadata": {},
   "outputs": [
    {
     "data": {
      "text/plain": [
       "array([[1., 1., 1., 1., 1.],\n",
       "       [1., 1., 1., 1., 1.]])"
      ]
     },
     "execution_count": 19,
     "metadata": {},
     "output_type": "execute_result"
    }
   ],
   "source": [
    "np.ones(10).reshape(2,5)"
   ]
  },
  {
   "cell_type": "code",
   "execution_count": 58,
   "metadata": {},
   "outputs": [
    {
     "data": {
      "text/plain": [
       "array([5., 5., 5., 5., 5., 5., 5., 5., 5., 5.])"
      ]
     },
     "execution_count": 58,
     "metadata": {},
     "output_type": "execute_result"
    }
   ],
   "source": [
    "np.ones(10)*5"
   ]
  },
  {
   "cell_type": "code",
   "execution_count": 60,
   "metadata": {},
   "outputs": [
    {
     "data": {
      "text/plain": [
       "array([10, 11, 12, 13, 14, 15, 16, 17, 18, 19, 20, 21, 22, 23, 24, 25, 26,\n",
       "       27, 28, 29, 30, 31, 32, 33, 34, 35, 36, 37, 38, 39, 40, 41, 42, 43,\n",
       "       44, 45, 46, 47, 48, 49, 50])"
      ]
     },
     "execution_count": 60,
     "metadata": {},
     "output_type": "execute_result"
    }
   ],
   "source": [
    "np.arange(41)+10"
   ]
  },
  {
   "cell_type": "code",
   "execution_count": 64,
   "metadata": {},
   "outputs": [
    {
     "data": {
      "text/plain": [
       "array([10, 11, 12, 13, 14, 15, 16, 17, 18, 19, 20, 21, 22, 23, 24, 25, 26,\n",
       "       27, 28, 29, 30, 31, 32, 33, 34, 35, 36, 37, 38, 39, 40, 41, 42, 43,\n",
       "       44, 45, 46, 47, 48, 49, 50])"
      ]
     },
     "execution_count": 64,
     "metadata": {},
     "output_type": "execute_result"
    }
   ],
   "source": [
    "np.arange(10,51)"
   ]
  },
  {
   "cell_type": "code",
   "execution_count": 65,
   "metadata": {
    "scrolled": true
   },
   "outputs": [
    {
     "data": {
      "text/plain": [
       "array([10, 12, 14, 16, 18, 20, 22, 24, 26, 28, 30, 32, 34, 36, 38, 40, 42,\n",
       "       44, 46, 48, 50])"
      ]
     },
     "execution_count": 65,
     "metadata": {},
     "output_type": "execute_result"
    }
   ],
   "source": [
    "np.arange(10,51,2)"
   ]
  },
  {
   "cell_type": "code",
   "execution_count": 66,
   "metadata": {},
   "outputs": [],
   "source": [
    "a= np.arange(10,51)"
   ]
  },
  {
   "cell_type": "code",
   "execution_count": 67,
   "metadata": {},
   "outputs": [
    {
     "data": {
      "text/plain": [
       "array([10, 12, 14, 16, 18, 20, 22, 24, 26, 28, 30, 32, 34, 36, 38, 40, 42,\n",
       "       44, 46, 48, 50])"
      ]
     },
     "execution_count": 67,
     "metadata": {},
     "output_type": "execute_result"
    }
   ],
   "source": [
    "a[a%2==0]"
   ]
  },
  {
   "cell_type": "markdown",
   "metadata": {},
   "source": [
    "# File handling"
   ]
  },
  {
   "cell_type": "code",
   "execution_count": 11,
   "metadata": {},
   "outputs": [
    {
     "data": {
      "text/plain": [
       "'C:\\\\Users\\\\Windows'"
      ]
     },
     "execution_count": 11,
     "metadata": {},
     "output_type": "execute_result"
    }
   ],
   "source": [
    "import os\n",
    "os.getcwd()"
   ]
  },
  {
   "cell_type": "code",
   "execution_count": 12,
   "metadata": {},
   "outputs": [],
   "source": [
    "os.chdir(\"C:\\\\Users\\\\Windows\\\\Desktop\\\\python lab\")"
   ]
  },
  {
   "cell_type": "code",
   "execution_count": 5,
   "metadata": {},
   "outputs": [],
   "source": [
    "new_doc=open(\"New Text Document.txt\")"
   ]
  },
  {
   "cell_type": "code",
   "execution_count": 6,
   "metadata": {},
   "outputs": [],
   "source": [
    "read_doc=new_doc.read()  #read"
   ]
  },
  {
   "cell_type": "code",
   "execution_count": 7,
   "metadata": {},
   "outputs": [
    {
     "name": "stdout",
     "output_type": "stream",
     "text": [
      "ab cd\n"
     ]
    }
   ],
   "source": [
    "print(read_doc)"
   ]
  },
  {
   "cell_type": "code",
   "execution_count": 24,
   "metadata": {},
   "outputs": [],
   "source": [
    "new_doc=open(\"New Text Documen.txt\",\"a\")"
   ]
  },
  {
   "cell_type": "code",
   "execution_count": 25,
   "metadata": {},
   "outputs": [
    {
     "data": {
      "text/plain": [
       "6"
      ]
     },
     "execution_count": 25,
     "metadata": {},
     "output_type": "execute_result"
    }
   ],
   "source": [
    "new_doc.write(\" hello\")"
   ]
  },
  {
   "cell_type": "code",
   "execution_count": 26,
   "metadata": {},
   "outputs": [],
   "source": [
    "new_doc.close()"
   ]
  },
  {
   "cell_type": "code",
   "execution_count": 37,
   "metadata": {},
   "outputs": [],
   "source": [
    "my=open(\"New Text Documen.txt\",'w')            #append"
   ]
  },
  {
   "cell_type": "code",
   "execution_count": 38,
   "metadata": {},
   "outputs": [
    {
     "data": {
      "text/plain": [
       "5"
      ]
     },
     "execution_count": 38,
     "metadata": {},
     "output_type": "execute_result"
    }
   ],
   "source": [
    "my.write(\"first\")"
   ]
  },
  {
   "cell_type": "code",
   "execution_count": 39,
   "metadata": {},
   "outputs": [],
   "source": [
    "my.close()"
   ]
  },
  {
   "cell_type": "code",
   "execution_count": 40,
   "metadata": {},
   "outputs": [],
   "source": [
    "my_=open(\"New Text Documen.txt\",\"a\")"
   ]
  },
  {
   "cell_type": "code",
   "execution_count": 41,
   "metadata": {},
   "outputs": [
    {
     "data": {
      "text/plain": [
       "7"
      ]
     },
     "execution_count": 41,
     "metadata": {},
     "output_type": "execute_result"
    }
   ],
   "source": [
    "my_.write(' second')"
   ]
  },
  {
   "cell_type": "code",
   "execution_count": 42,
   "metadata": {},
   "outputs": [],
   "source": [
    "my_.close()"
   ]
  },
  {
   "cell_type": "code",
   "execution_count": 43,
   "metadata": {},
   "outputs": [],
   "source": [
    "my__=open(\"New Text Documen.txt\")"
   ]
  },
  {
   "cell_type": "code",
   "execution_count": 44,
   "metadata": {},
   "outputs": [
    {
     "data": {
      "text/plain": [
       "'first second'"
      ]
     },
     "execution_count": 44,
     "metadata": {},
     "output_type": "execute_result"
    }
   ],
   "source": [
    "my__.read()"
   ]
  },
  {
   "cell_type": "code",
   "execution_count": 45,
   "metadata": {},
   "outputs": [],
   "source": [
    "my__.close()"
   ]
  },
  {
   "cell_type": "code",
   "execution_count": null,
   "metadata": {},
   "outputs": [],
   "source": []
  },
  {
   "cell_type": "code",
   "execution_count": 8,
   "metadata": {},
   "outputs": [],
   "source": [
    "import shutil           #copy"
   ]
  },
  {
   "cell_type": "code",
   "execution_count": 54,
   "metadata": {},
   "outputs": [
    {
     "data": {
      "text/plain": [
       "'New Text Document.txt'"
      ]
     },
     "execution_count": 54,
     "metadata": {},
     "output_type": "execute_result"
    }
   ],
   "source": [
    "shutil.copy(\"New Text Documen.txt\",\"New Text Document.txt\")"
   ]
  },
  {
   "cell_type": "code",
   "execution_count": 62,
   "metadata": {},
   "outputs": [
    {
     "data": {
      "text/plain": [
       "'C:\\\\Users\\\\Windows\\\\Desktop\\\\New Text Documen.txt'"
      ]
     },
     "execution_count": 62,
     "metadata": {},
     "output_type": "execute_result"
    }
   ],
   "source": [
    "shutil.copy(\"New Text Documen.txt\",\"C:\\\\Users\\\\Windows\\\\Desktop\")"
   ]
  },
  {
   "cell_type": "code",
   "execution_count": 58,
   "metadata": {},
   "outputs": [
    {
     "data": {
      "text/plain": [
       "'D:\\\\GRE\\\\COPIED'"
      ]
     },
     "execution_count": 58,
     "metadata": {},
     "output_type": "execute_result"
    }
   ],
   "source": [
    "shutil.copytree(\"D:\\GRE\\math_final_videos\",\"D:\\GRE\\COPIED\")"
   ]
  },
  {
   "cell_type": "code",
   "execution_count": 13,
   "metadata": {},
   "outputs": [
    {
     "data": {
      "text/plain": [
       "'C:\\\\Users\\\\Windows\\\\Desktop\\\\New Text Documen.txt'"
      ]
     },
     "execution_count": 13,
     "metadata": {},
     "output_type": "execute_result"
    }
   ],
   "source": [
    "shutil.move(\"New Text Documen.txt\",\"C:\\\\Users\\\\Windows\\\\Desktop\")"
   ]
  },
  {
   "cell_type": "code",
   "execution_count": 15,
   "metadata": {},
   "outputs": [
    {
     "data": {
      "text/plain": [
       "'C:\\\\Users\\\\Windows\\\\Desktop\\\\new_file.txt'"
      ]
     },
     "execution_count": 15,
     "metadata": {},
     "output_type": "execute_result"
    }
   ],
   "source": [
    "shutil.move(\"New Text Documen.txt\",\"C:\\\\Users\\\\Windows\\\\Desktop\\\\new_file.txt\")"
   ]
  },
  {
   "cell_type": "code",
   "execution_count": null,
   "metadata": {},
   "outputs": [],
   "source": []
  },
  {
   "cell_type": "code",
   "execution_count": 5,
   "metadata": {},
   "outputs": [],
   "source": [
    "import zipfile"
   ]
  },
  {
   "cell_type": "code",
   "execution_count": 6,
   "metadata": {},
   "outputs": [],
   "source": [
    "examplezip=zipfile.ZipFile(\"D:/SOFT/ExpressPCBsetup7_4_1.zip\")            #zip"
   ]
  },
  {
   "cell_type": "code",
   "execution_count": 7,
   "metadata": {},
   "outputs": [
    {
     "data": {
      "text/plain": [
       "['ExpressPCBsetup7_4_1.exe']"
      ]
     },
     "execution_count": 7,
     "metadata": {},
     "output_type": "execute_result"
    }
   ],
   "source": [
    "examplezip.namelist()"
   ]
  },
  {
   "cell_type": "markdown",
   "metadata": {},
   "source": [
    "# ROUTINES"
   ]
  },
  {
   "cell_type": "code",
   "execution_count": 9,
   "metadata": {},
   "outputs": [],
   "source": [
    "import numpy as np"
   ]
  },
  {
   "cell_type": "code",
   "execution_count": 28,
   "metadata": {},
   "outputs": [],
   "source": [
    "n=np.empty([3,2],dtype=int)"
   ]
  },
  {
   "cell_type": "code",
   "execution_count": 29,
   "metadata": {},
   "outputs": [
    {
     "data": {
      "text/plain": [
       "array([[       110,          0],\n",
       "       [ 538976288, 1953723754],\n",
       "       [1701344288, 1869770784]])"
      ]
     },
     "execution_count": 29,
     "metadata": {},
     "output_type": "execute_result"
    }
   ],
   "source": [
    "n"
   ]
  },
  {
   "cell_type": "code",
   "execution_count": 37,
   "metadata": {},
   "outputs": [
    {
     "data": {
      "text/plain": [
       "array([[0, 0]])"
      ]
     },
     "execution_count": 37,
     "metadata": {},
     "output_type": "execute_result"
    }
   ],
   "source": [
    "n=np.zeros([1,2],dtype=int)\n",
    "n"
   ]
  },
  {
   "cell_type": "code",
   "execution_count": 40,
   "metadata": {},
   "outputs": [
    {
     "data": {
      "text/plain": [
       "array([[0., 0., 1.]])"
      ]
     },
     "execution_count": 40,
     "metadata": {},
     "output_type": "execute_result"
    }
   ],
   "source": [
    "np.eye(1,3,2)"
   ]
  },
  {
   "cell_type": "code",
   "execution_count": 43,
   "metadata": {},
   "outputs": [
    {
     "data": {
      "text/plain": [
       "array([[1.]])"
      ]
     },
     "execution_count": 43,
     "metadata": {},
     "output_type": "execute_result"
    }
   ],
   "source": [
    "np.eye(1)"
   ]
  },
  {
   "cell_type": "code",
   "execution_count": 46,
   "metadata": {},
   "outputs": [
    {
     "data": {
      "text/plain": [
       "array([[1., 0.],\n",
       "       [0., 1.]])"
      ]
     },
     "execution_count": 46,
     "metadata": {},
     "output_type": "execute_result"
    }
   ],
   "source": [
    "np.identity(2)"
   ]
  },
  {
   "cell_type": "code",
   "execution_count": 47,
   "metadata": {},
   "outputs": [
    {
     "name": "stdout",
     "output_type": "stream",
     "text": [
      "[[1 2]\n",
      " [3 4]\n",
      " [5 6]]\n"
     ]
    }
   ],
   "source": [
    "x = np.array([[1,2],[3,4],[5,6]])\n",
    "\n",
    "y = np.asmatrix(x)\n",
    "print(y)"
   ]
  },
  {
   "cell_type": "code",
   "execution_count": 49,
   "metadata": {},
   "outputs": [
    {
     "name": "stdout",
     "output_type": "stream",
     "text": [
      "[[7 7 7]\n",
      " [7 7 7]]\n"
     ]
    }
   ],
   "source": [
    "#np.full(shape, fill_value)\n",
    "\n",
    "x = np.full(shape=(2,3), fill_value=7)\n",
    "print(x)"
   ]
  },
  {
   "cell_type": "code",
   "execution_count": 52,
   "metadata": {},
   "outputs": [
    {
     "data": {
      "text/plain": [
       "array([[ 0,  1,  2,  3],\n",
       "       [ 4,  5,  6,  7],\n",
       "       [ 8,  9, 10, 11]])"
      ]
     },
     "execution_count": 52,
     "metadata": {},
     "output_type": "execute_result"
    }
   ],
   "source": [
    "s=np.arange(12).reshape(3,4)\n",
    "s"
   ]
  },
  {
   "cell_type": "code",
   "execution_count": 54,
   "metadata": {},
   "outputs": [
    {
     "data": {
      "text/plain": [
       "array([ 0,  1,  2,  3,  4,  5,  6,  7,  8,  9, 10, 11])"
      ]
     },
     "execution_count": 54,
     "metadata": {},
     "output_type": "execute_result"
    }
   ],
   "source": [
    "s.ravel()      # AND MANY MORE FUNCTIONS LIKE X.T, TRANSPOSE, SPLIT, INSERT"
   ]
  },
  {
   "cell_type": "code",
   "execution_count": 67,
   "metadata": {},
   "outputs": [
    {
     "data": {
      "text/plain": [
       "[array([], shape=(3, 0), dtype=int32), array([[0, 1],\n",
       "        [4, 5],\n",
       "        [8, 9]]), array([[ 2,  3],\n",
       "        [ 6,  7],\n",
       "        [10, 11]])]"
      ]
     },
     "execution_count": 67,
     "metadata": {},
     "output_type": "execute_result"
    }
   ],
   "source": [
    "b=np.asarray(s)\n",
    "b\n",
    "np.split(b,[0,2],1)"
   ]
  },
  {
   "cell_type": "code",
   "execution_count": 71,
   "metadata": {},
   "outputs": [
    {
     "data": {
      "text/plain": [
       "array([[ 0, 87,  1,  2,  3],\n",
       "       [ 4, 87,  5,  6,  7],\n",
       "       [ 8, 87,  9, 10, 11]])"
      ]
     },
     "execution_count": 71,
     "metadata": {},
     "output_type": "execute_result"
    }
   ],
   "source": [
    "s\n",
    "np.insert(s,1,87,1)"
   ]
  },
  {
   "cell_type": "code",
   "execution_count": 74,
   "metadata": {},
   "outputs": [
    {
     "data": {
      "text/plain": [
       "array([[[ 0,  1,  2,  3],\n",
       "        [ 0,  1,  2,  3]],\n",
       "\n",
       "       [[ 4,  5,  6,  7],\n",
       "        [ 4,  5,  6,  7]],\n",
       "\n",
       "       [[ 8,  9, 10, 11],\n",
       "        [ 8,  9, 10, 11]]])"
      ]
     },
     "execution_count": 74,
     "metadata": {},
     "output_type": "execute_result"
    }
   ],
   "source": [
    "np.stack([s,s],axis=1)"
   ]
  },
  {
   "cell_type": "markdown",
   "metadata": {},
   "source": [
    "# PANDAS"
   ]
  },
  {
   "cell_type": "code",
   "execution_count": 158,
   "metadata": {},
   "outputs": [],
   "source": [
    "import numpy as np\n",
    "import pandas as pd"
   ]
  },
  {
   "cell_type": "code",
   "execution_count": 82,
   "metadata": {
    "collapsed": true
   },
   "outputs": [
    {
     "name": "stdout",
     "output_type": "stream",
     "text": [
      "array formation\n",
      "    -dictionary\n",
      "    -ndarray\n",
      "    -scalar values like 1,2,3\n"
     ]
    }
   ],
   "source": [
    "print(\"\"\"array formation\n",
    "    -dictionary\n",
    "    -ndarray\n",
    "    -scalar values like 1,2,3\"\"\")"
   ]
  },
  {
   "cell_type": "code",
   "execution_count": 86,
   "metadata": {},
   "outputs": [
    {
     "data": {
      "text/plain": [
       "0     Apple\n",
       "1     Mango\n",
       "2    Orange\n",
       "dtype: object"
      ]
     },
     "execution_count": 86,
     "metadata": {},
     "output_type": "execute_result"
    }
   ],
   "source": [
    "data = np.array(['Apple', 'Mango', 'Orange'])\n",
    "data\n",
    "pd.Series(data)"
   ]
  },
  {
   "cell_type": "code",
   "execution_count": 87,
   "metadata": {},
   "outputs": [
    {
     "name": "stdout",
     "output_type": "stream",
     "text": [
      "101     Aditya\n",
      "102     Vamshi\n",
      "103    Kranthi\n",
      "dtype: object\n"
     ]
    }
   ],
   "source": [
    "data1 = np.array(['Aditya', 'Vamshi', 'Kranthi'])\n",
    "s1 = pd.Series(data1, index=[101, 102, 103])\n",
    "print(s1)"
   ]
  },
  {
   "cell_type": "code",
   "execution_count": 90,
   "metadata": {},
   "outputs": [
    {
     "data": {
      "text/plain": [
       "a    0\n",
       "b    1\n",
       "c    2\n",
       "d    3\n",
       "e    4\n",
       "dtype: int64"
      ]
     },
     "execution_count": 90,
     "metadata": {},
     "output_type": "execute_result"
    }
   ],
   "source": [
    "#data2 = {'a':0, 'b':1, 'c':2, 'd':3, 'e':4}\n",
    "s2 = pd.Series({'a':0, 'b':1, 'c':2, 'd':3, 'e':4})\n",
    "s2"
   ]
  },
  {
   "cell_type": "code",
   "execution_count": 91,
   "metadata": {},
   "outputs": [
    {
     "name": "stdout",
     "output_type": "stream",
     "text": [
      "x    NaN\n",
      "y    NaN\n",
      "z    NaN\n",
      "a    0.0\n",
      "b    1.0\n",
      "dtype: float64\n"
     ]
    }
   ],
   "source": [
    "data3 = {'a':0, 'b':1, 'c':2, 'd':3, 'e':4}\n",
    "s3 = pd.Series(data3, index=['x', 'y', 'z', 'a', 'b'])\n",
    "print(s3)"
   ]
  },
  {
   "cell_type": "code",
   "execution_count": 96,
   "metadata": {},
   "outputs": [
    {
     "name": "stdout",
     "output_type": "stream",
     "text": [
      "0    2\n",
      "1    2\n",
      "2    2\n",
      "3    2\n",
      "4    2\n",
      "dtype: int64\n"
     ]
    }
   ],
   "source": [
    "s = pd.Series(2, index=[0,1,2,3,4])\n",
    "print(s)"
   ]
  },
  {
   "cell_type": "code",
   "execution_count": 97,
   "metadata": {},
   "outputs": [
    {
     "data": {
      "text/plain": [
       "2"
      ]
     },
     "execution_count": 97,
     "metadata": {},
     "output_type": "execute_result"
    }
   ],
   "source": [
    "s[3]"
   ]
  },
  {
   "cell_type": "code",
   "execution_count": 104,
   "metadata": {},
   "outputs": [
    {
     "name": "stdout",
     "output_type": "stream",
     "text": [
      "0    2\n",
      "3    2\n",
      "dtype: int64\n"
     ]
    }
   ],
   "source": [
    "print(s[[0,3]])"
   ]
  },
  {
   "cell_type": "markdown",
   "metadata": {},
   "source": [
    "# DATAFRAME OPERATION 3"
   ]
  },
  {
   "cell_type": "code",
   "execution_count": 106,
   "metadata": {},
   "outputs": [
    {
     "data": {
      "text/plain": [
       "'pandas dataframe\\n   -Lists\\n   -dictionary\\n   -Series\\n   -Numpy ndarrays'"
      ]
     },
     "execution_count": 106,
     "metadata": {},
     "output_type": "execute_result"
    }
   ],
   "source": [
    "\"\"\"pandas dataframe can be created by;\n",
    "   -Lists\n",
    "   -dictionary\n",
    "   -Series\n",
    "   -Numpy ndarrays\"\"\""
   ]
  },
  {
   "cell_type": "code",
   "execution_count": 111,
   "metadata": {},
   "outputs": [
    {
     "name": "stdout",
     "output_type": "stream",
     "text": [
      "Empty DataFrame\n",
      "Columns: []\n",
      "Index: []\n"
     ]
    }
   ],
   "source": [
    "df=pd.DataFrame()\n",
    "print(df)"
   ]
  },
  {
   "cell_type": "code",
   "execution_count": 112,
   "metadata": {},
   "outputs": [
    {
     "name": "stdout",
     "output_type": "stream",
     "text": [
      "   0\n",
      "0  1\n",
      "1  2\n",
      "2  3\n",
      "3  4\n",
      "4  5\n"
     ]
    }
   ],
   "source": [
    "lst1 = [1,2,3,4,5]\n",
    "df2 = pd.DataFrame(lst1)\n",
    "print(df2)"
   ]
  },
  {
   "cell_type": "code",
   "execution_count": 114,
   "metadata": {},
   "outputs": [
    {
     "name": "stdout",
     "output_type": "stream",
     "text": [
      "   cl\n",
      "a   1\n",
      "b   2\n",
      "c   3\n",
      "d   4\n",
      "e   5\n"
     ]
    }
   ],
   "source": [
    "df3 = pd.DataFrame(lst1, index = ['a','b','c','d','e'],columns=[\"cl\"])\n",
    "print(df3)"
   ]
  },
  {
   "cell_type": "code",
   "execution_count": 117,
   "metadata": {},
   "outputs": [
    {
     "data": {
      "text/html": [
       "<div>\n",
       "<style scoped>\n",
       "    .dataframe tbody tr th:only-of-type {\n",
       "        vertical-align: middle;\n",
       "    }\n",
       "\n",
       "    .dataframe tbody tr th {\n",
       "        vertical-align: top;\n",
       "    }\n",
       "\n",
       "    .dataframe thead th {\n",
       "        text-align: right;\n",
       "    }\n",
       "</style>\n",
       "<table border=\"1\" class=\"dataframe\">\n",
       "  <thead>\n",
       "    <tr style=\"text-align: right;\">\n",
       "      <th></th>\n",
       "      <th>Emp_Name</th>\n",
       "      <th>Age</th>\n",
       "    </tr>\n",
       "  </thead>\n",
       "  <tbody>\n",
       "    <tr>\n",
       "      <th>Emp1</th>\n",
       "      <td>Amar</td>\n",
       "      <td>30</td>\n",
       "    </tr>\n",
       "    <tr>\n",
       "      <th>Emp2</th>\n",
       "      <td>Akbar</td>\n",
       "      <td>31</td>\n",
       "    </tr>\n",
       "    <tr>\n",
       "      <th>Emp3</th>\n",
       "      <td>Anthony</td>\n",
       "      <td>32</td>\n",
       "    </tr>\n",
       "  </tbody>\n",
       "</table>\n",
       "</div>"
      ],
      "text/plain": [
       "     Emp_Name  Age\n",
       "Emp1     Amar   30\n",
       "Emp2    Akbar   31\n",
       "Emp3  Anthony   32"
      ]
     },
     "execution_count": 117,
     "metadata": {},
     "output_type": "execute_result"
    }
   ],
   "source": [
    "lst2 = [['Amar', 30], ['Akbar', 31], ['Anthony', 32]]\n",
    "df5 = pd.DataFrame(lst2, index = ['Emp1', 'Emp2','Emp3'], columns =\n",
    "['Emp_Name', 'Age'])\n",
    "df5"
   ]
  },
  {
   "cell_type": "code",
   "execution_count": 119,
   "metadata": {},
   "outputs": [
    {
     "name": "stdout",
     "output_type": "stream",
     "text": [
      "    Name  Age\n",
      "0    Tom   28\n",
      "1   Jack   34\n",
      "2  Steve   29\n",
      "3  Ricky   42\n"
     ]
    }
   ],
   "source": [
    "data = {'Name':['Tom', 'Jack', 'Steve', 'Ricky'], 'Age':[28,34,29,42]}\n",
    "df6 = pd.DataFrame(data)\n",
    "print(df6)"
   ]
  },
  {
   "cell_type": "code",
   "execution_count": 121,
   "metadata": {},
   "outputs": [
    {
     "name": "stdout",
     "output_type": "stream",
     "text": [
      "        Name  Age\n",
      "rank1    Tom   28\n",
      "rank2   Jack   34\n",
      "rank3  Steve   29\n",
      "rank4  Ricky   42\n"
     ]
    }
   ],
   "source": [
    "data = {'Name':['Tom', 'Jack', 'Steve', 'Ricky'],'Age':[28,34,29,42]}                             #USNING ARRAYS\n",
    "df7 = pd.DataFrame(data, index=['rank1','rank2','rank3','rank4'])\n",
    "print(df7)"
   ]
  },
  {
   "cell_type": "code",
   "execution_count": 124,
   "metadata": {},
   "outputs": [
    {
     "data": {
      "text/html": [
       "<div>\n",
       "<style scoped>\n",
       "    .dataframe tbody tr th:only-of-type {\n",
       "        vertical-align: middle;\n",
       "    }\n",
       "\n",
       "    .dataframe tbody tr th {\n",
       "        vertical-align: top;\n",
       "    }\n",
       "\n",
       "    .dataframe thead th {\n",
       "        text-align: right;\n",
       "    }\n",
       "</style>\n",
       "<table border=\"1\" class=\"dataframe\">\n",
       "  <thead>\n",
       "    <tr style=\"text-align: right;\">\n",
       "      <th></th>\n",
       "      <th>a</th>\n",
       "      <th>b</th>\n",
       "      <th>c</th>\n",
       "    </tr>\n",
       "  </thead>\n",
       "  <tbody>\n",
       "    <tr>\n",
       "      <th>0</th>\n",
       "      <td>1</td>\n",
       "      <td>2</td>\n",
       "      <td>NaN</td>\n",
       "    </tr>\n",
       "    <tr>\n",
       "      <th>1</th>\n",
       "      <td>5</td>\n",
       "      <td>10</td>\n",
       "      <td>20.0</td>\n",
       "    </tr>\n",
       "  </tbody>\n",
       "</table>\n",
       "</div>"
      ],
      "text/plain": [
       "   a   b     c\n",
       "0  1   2   NaN\n",
       "1  5  10  20.0"
      ]
     },
     "execution_count": 124,
     "metadata": {},
     "output_type": "execute_result"
    }
   ],
   "source": [
    "data = [{'a': 1, 'b': 2}, {'a': 5, 'b': 10, 'c': 20}]                                                #USNING DICTIONARY\n",
    "df7 = pd.DataFrame(data)\n",
    "df7"
   ]
  },
  {
   "cell_type": "code",
   "execution_count": 128,
   "metadata": {},
   "outputs": [
    {
     "data": {
      "text/html": [
       "<div>\n",
       "<style scoped>\n",
       "    .dataframe tbody tr th:only-of-type {\n",
       "        vertical-align: middle;\n",
       "    }\n",
       "\n",
       "    .dataframe tbody tr th {\n",
       "        vertical-align: top;\n",
       "    }\n",
       "\n",
       "    .dataframe thead th {\n",
       "        text-align: right;\n",
       "    }\n",
       "</style>\n",
       "<table border=\"1\" class=\"dataframe\">\n",
       "  <thead>\n",
       "    <tr style=\"text-align: right;\">\n",
       "      <th></th>\n",
       "      <th>a</th>\n",
       "      <th>b</th>\n",
       "    </tr>\n",
       "  </thead>\n",
       "  <tbody>\n",
       "    <tr>\n",
       "      <th>first</th>\n",
       "      <td>1</td>\n",
       "      <td>2</td>\n",
       "    </tr>\n",
       "    <tr>\n",
       "      <th>second</th>\n",
       "      <td>5</td>\n",
       "      <td>10</td>\n",
       "    </tr>\n",
       "  </tbody>\n",
       "</table>\n",
       "</div>"
      ],
      "text/plain": [
       "        a   b\n",
       "first   1   2\n",
       "second  5  10"
      ]
     },
     "execution_count": 128,
     "metadata": {},
     "output_type": "execute_result"
    }
   ],
   "source": [
    "data = [{'a': 1, 'b': 2},{'a': 5, 'b': 10, 'c': 20}]\n",
    "#With two column indices, values same as dictionary keys\n",
    "df9 = pd.DataFrame(data, index=['first', 'second'], columns=['a', 'b'])\n",
    "df9"
   ]
  },
  {
   "cell_type": "code",
   "execution_count": 130,
   "metadata": {
    "collapsed": true
   },
   "outputs": [
    {
     "data": {
      "text/html": [
       "<div>\n",
       "<style scoped>\n",
       "    .dataframe tbody tr th:only-of-type {\n",
       "        vertical-align: middle;\n",
       "    }\n",
       "\n",
       "    .dataframe tbody tr th {\n",
       "        vertical-align: top;\n",
       "    }\n",
       "\n",
       "    .dataframe thead th {\n",
       "        text-align: right;\n",
       "    }\n",
       "</style>\n",
       "<table border=\"1\" class=\"dataframe\">\n",
       "  <thead>\n",
       "    <tr style=\"text-align: right;\">\n",
       "      <th></th>\n",
       "      <th>one</th>\n",
       "      <th>two</th>\n",
       "    </tr>\n",
       "  </thead>\n",
       "  <tbody>\n",
       "    <tr>\n",
       "      <th>a</th>\n",
       "      <td>1.0</td>\n",
       "      <td>1</td>\n",
       "    </tr>\n",
       "    <tr>\n",
       "      <th>b</th>\n",
       "      <td>2.0</td>\n",
       "      <td>2</td>\n",
       "    </tr>\n",
       "    <tr>\n",
       "      <th>c</th>\n",
       "      <td>3.0</td>\n",
       "      <td>3</td>\n",
       "    </tr>\n",
       "    <tr>\n",
       "      <th>d</th>\n",
       "      <td>NaN</td>\n",
       "      <td>4</td>\n",
       "    </tr>\n",
       "  </tbody>\n",
       "</table>\n",
       "</div>"
      ],
      "text/plain": [
       "   one  two\n",
       "a  1.0    1\n",
       "b  2.0    2\n",
       "c  3.0    3\n",
       "d  NaN    4"
      ]
     },
     "execution_count": 130,
     "metadata": {},
     "output_type": "execute_result"
    }
   ],
   "source": [
    "d = {'one':pd.Series([1, 2, 3], index=['a', 'b', 'c']),\n",
    "'two' : pd.Series([1, 2, 3, 4], index=['a', 'b', 'c', 'd'])}\n",
    "df11 = pd.DataFrame(d)\n",
    "df11"
   ]
  },
  {
   "cell_type": "code",
   "execution_count": 131,
   "metadata": {},
   "outputs": [],
   "source": [
    "dff={'one' :pd.Series([1,2,3],index=['one','two','three']),\n",
    "    'two' :pd.Series([1,2,3],index=['one','two','three'])}"
   ]
  },
  {
   "cell_type": "code",
   "execution_count": null,
   "metadata": {},
   "outputs": [],
   "source": []
  },
  {
   "cell_type": "code",
   "execution_count": 78,
   "metadata": {},
   "outputs": [],
   "source": [
    "grades = [76,95,77,78,99]\n",
    "bsdegrees = [1,1,0,0,1]\n",
    "msdegrees = [2,1,0,0,0]\n",
    "phddegrees = [0,1,0,0,0]"
   ]
  },
  {
   "cell_type": "code",
   "execution_count": 79,
   "metadata": {},
   "outputs": [],
   "source": [
    "material=zip(grades,bsdegrees,msdegrees,phddegrees)"
   ]
  },
  {
   "cell_type": "code",
   "execution_count": 80,
   "metadata": {},
   "outputs": [
    {
     "ename": "TypeError",
     "evalue": "data argument can't be an iterator",
     "output_type": "error",
     "traceback": [
      "\u001b[1;31m---------------------------------------------------------------------------\u001b[0m",
      "\u001b[1;31mTypeError\u001b[0m                                 Traceback (most recent call last)",
      "\u001b[1;32m<ipython-input-80-672d4dea246e>\u001b[0m in \u001b[0;36m<module>\u001b[1;34m()\u001b[0m\n\u001b[1;32m----> 1\u001b[1;33m \u001b[0mdf\u001b[0m\u001b[1;33m=\u001b[0m\u001b[0mpd\u001b[0m\u001b[1;33m.\u001b[0m\u001b[0mDataFrame\u001b[0m\u001b[1;33m(\u001b[0m\u001b[0mmaterial\u001b[0m\u001b[1;33m)\u001b[0m\u001b[1;33m\u001b[0m\u001b[0m\n\u001b[0m",
      "\u001b[1;32m~\\Anaconda3\\lib\\site-packages\\pandas\\core\\frame.py\u001b[0m in \u001b[0;36m__init__\u001b[1;34m(self, data, index, columns, dtype, copy)\u001b[0m\n\u001b[0;32m    405\u001b[0m                 \u001b[0mmgr\u001b[0m \u001b[1;33m=\u001b[0m \u001b[0mself\u001b[0m\u001b[1;33m.\u001b[0m\u001b[0m_init_dict\u001b[0m\u001b[1;33m(\u001b[0m\u001b[1;33m{\u001b[0m\u001b[1;33m}\u001b[0m\u001b[1;33m,\u001b[0m \u001b[0mindex\u001b[0m\u001b[1;33m,\u001b[0m \u001b[0mcolumns\u001b[0m\u001b[1;33m,\u001b[0m \u001b[0mdtype\u001b[0m\u001b[1;33m=\u001b[0m\u001b[0mdtype\u001b[0m\u001b[1;33m)\u001b[0m\u001b[1;33m\u001b[0m\u001b[0m\n\u001b[0;32m    406\u001b[0m         \u001b[1;32melif\u001b[0m \u001b[0misinstance\u001b[0m\u001b[1;33m(\u001b[0m\u001b[0mdata\u001b[0m\u001b[1;33m,\u001b[0m \u001b[0mcollections\u001b[0m\u001b[1;33m.\u001b[0m\u001b[0mIterator\u001b[0m\u001b[1;33m)\u001b[0m\u001b[1;33m:\u001b[0m\u001b[1;33m\u001b[0m\u001b[0m\n\u001b[1;32m--> 407\u001b[1;33m             \u001b[1;32mraise\u001b[0m \u001b[0mTypeError\u001b[0m\u001b[1;33m(\u001b[0m\u001b[1;34m\"data argument can't be an iterator\"\u001b[0m\u001b[1;33m)\u001b[0m\u001b[1;33m\u001b[0m\u001b[0m\n\u001b[0m\u001b[0;32m    408\u001b[0m         \u001b[1;32melse\u001b[0m\u001b[1;33m:\u001b[0m\u001b[1;33m\u001b[0m\u001b[0m\n\u001b[0;32m    409\u001b[0m             \u001b[1;32mtry\u001b[0m\u001b[1;33m:\u001b[0m\u001b[1;33m\u001b[0m\u001b[0m\n",
      "\u001b[1;31mTypeError\u001b[0m: data argument can't be an iterator"
     ]
    }
   ],
   "source": [
    "df=pd.DataFrame(material)"
   ]
  },
  {
   "cell_type": "code",
   "execution_count": null,
   "metadata": {},
   "outputs": [],
   "source": [
    "list1=[['one',1],['two',2],['three',3]]"
   ]
  },
  {
   "cell_type": "code",
   "execution_count": 32,
   "metadata": {
    "scrolled": true
   },
   "outputs": [
    {
     "data": {
      "text/html": [
       "<div>\n",
       "<style scoped>\n",
       "    .dataframe tbody tr th:only-of-type {\n",
       "        vertical-align: middle;\n",
       "    }\n",
       "\n",
       "    .dataframe tbody tr th {\n",
       "        vertical-align: top;\n",
       "    }\n",
       "\n",
       "    .dataframe thead th {\n",
       "        text-align: right;\n",
       "    }\n",
       "</style>\n",
       "<table border=\"1\" class=\"dataframe\">\n",
       "  <thead>\n",
       "    <tr style=\"text-align: right;\">\n",
       "      <th></th>\n",
       "      <th>words</th>\n",
       "      <th>number</th>\n",
       "    </tr>\n",
       "  </thead>\n",
       "  <tbody>\n",
       "    <tr>\n",
       "      <th>1</th>\n",
       "      <td>one</td>\n",
       "      <td>1</td>\n",
       "    </tr>\n",
       "    <tr>\n",
       "      <th>2</th>\n",
       "      <td>two</td>\n",
       "      <td>2</td>\n",
       "    </tr>\n",
       "    <tr>\n",
       "      <th>3</th>\n",
       "      <td>three</td>\n",
       "      <td>3</td>\n",
       "    </tr>\n",
       "  </tbody>\n",
       "</table>\n",
       "</div>"
      ],
      "text/plain": [
       "   words  number\n",
       "1    one       1\n",
       "2    two       2\n",
       "3  three       3"
      ]
     },
     "execution_count": 32,
     "metadata": {},
     "output_type": "execute_result"
    }
   ],
   "source": [
    "pd.DataFrame(list1,index=[1,2,3],columns=['words','number'])"
   ]
  },
  {
   "cell_type": "code",
   "execution_count": 151,
   "metadata": {},
   "outputs": [],
   "source": [
    "df = pd.DataFrame({'userid':[1,1,1,1, 2,2,2],\n",
    "'itemid':[1,1,3,4, 1,2,3] })"
   ]
  },
  {
   "cell_type": "code",
   "execution_count": 152,
   "metadata": {},
   "outputs": [
    {
     "data": {
      "text/html": [
       "<div>\n",
       "<style scoped>\n",
       "    .dataframe tbody tr th:only-of-type {\n",
       "        vertical-align: middle;\n",
       "    }\n",
       "\n",
       "    .dataframe tbody tr th {\n",
       "        vertical-align: top;\n",
       "    }\n",
       "\n",
       "    .dataframe thead th {\n",
       "        text-align: right;\n",
       "    }\n",
       "</style>\n",
       "<table border=\"1\" class=\"dataframe\">\n",
       "  <thead>\n",
       "    <tr style=\"text-align: right;\">\n",
       "      <th></th>\n",
       "      <th>userid</th>\n",
       "      <th>itemid</th>\n",
       "    </tr>\n",
       "  </thead>\n",
       "  <tbody>\n",
       "    <tr>\n",
       "      <th>0</th>\n",
       "      <td>1</td>\n",
       "      <td>1</td>\n",
       "    </tr>\n",
       "    <tr>\n",
       "      <th>1</th>\n",
       "      <td>1</td>\n",
       "      <td>1</td>\n",
       "    </tr>\n",
       "    <tr>\n",
       "      <th>2</th>\n",
       "      <td>1</td>\n",
       "      <td>3</td>\n",
       "    </tr>\n",
       "    <tr>\n",
       "      <th>3</th>\n",
       "      <td>1</td>\n",
       "      <td>4</td>\n",
       "    </tr>\n",
       "    <tr>\n",
       "      <th>4</th>\n",
       "      <td>2</td>\n",
       "      <td>1</td>\n",
       "    </tr>\n",
       "    <tr>\n",
       "      <th>5</th>\n",
       "      <td>2</td>\n",
       "      <td>2</td>\n",
       "    </tr>\n",
       "    <tr>\n",
       "      <th>6</th>\n",
       "      <td>2</td>\n",
       "      <td>3</td>\n",
       "    </tr>\n",
       "  </tbody>\n",
       "</table>\n",
       "</div>"
      ],
      "text/plain": [
       "   userid  itemid\n",
       "0       1       1\n",
       "1       1       1\n",
       "2       1       3\n",
       "3       1       4\n",
       "4       2       1\n",
       "5       2       2\n",
       "6       2       3"
      ]
     },
     "execution_count": 152,
     "metadata": {},
     "output_type": "execute_result"
    }
   ],
   "source": [
    "df"
   ]
  },
  {
   "cell_type": "code",
   "execution_count": 166,
   "metadata": {},
   "outputs": [
    {
     "data": {
      "text/html": [
       "<div>\n",
       "<style scoped>\n",
       "    .dataframe tbody tr th:only-of-type {\n",
       "        vertical-align: middle;\n",
       "    }\n",
       "\n",
       "    .dataframe tbody tr th {\n",
       "        vertical-align: top;\n",
       "    }\n",
       "\n",
       "    .dataframe thead th {\n",
       "        text-align: right;\n",
       "    }\n",
       "</style>\n",
       "<table border=\"1\" class=\"dataframe\">\n",
       "  <thead>\n",
       "    <tr style=\"text-align: right;\">\n",
       "      <th></th>\n",
       "      <th>userid</th>\n",
       "      <th>itemid</th>\n",
       "    </tr>\n",
       "  </thead>\n",
       "  <tbody>\n",
       "    <tr>\n",
       "      <th>0</th>\n",
       "      <td>1</td>\n",
       "      <td>1</td>\n",
       "    </tr>\n",
       "    <tr>\n",
       "      <th>2</th>\n",
       "      <td>1</td>\n",
       "      <td>3</td>\n",
       "    </tr>\n",
       "    <tr>\n",
       "      <th>3</th>\n",
       "      <td>1</td>\n",
       "      <td>4</td>\n",
       "    </tr>\n",
       "    <tr>\n",
       "      <th>4</th>\n",
       "      <td>2</td>\n",
       "      <td>1</td>\n",
       "    </tr>\n",
       "    <tr>\n",
       "      <th>5</th>\n",
       "      <td>2</td>\n",
       "      <td>2</td>\n",
       "    </tr>\n",
       "    <tr>\n",
       "      <th>6</th>\n",
       "      <td>2</td>\n",
       "      <td>3</td>\n",
       "    </tr>\n",
       "  </tbody>\n",
       "</table>\n",
       "</div>"
      ],
      "text/plain": [
       "   userid  itemid\n",
       "0       1       1\n",
       "2       1       3\n",
       "3       1       4\n",
       "4       2       1\n",
       "5       2       2\n",
       "6       2       3"
      ]
     },
     "execution_count": 166,
     "metadata": {},
     "output_type": "execute_result"
    }
   ],
   "source": [
    "df.drop_duplicates()"
   ]
  },
  {
   "cell_type": "code",
   "execution_count": 170,
   "metadata": {},
   "outputs": [
    {
     "name": "stdout",
     "output_type": "stream",
     "text": [
      "None\n"
     ]
    }
   ],
   "source": [
    "print(df.drop_duplicates(inplace=True))"
   ]
  },
  {
   "cell_type": "code",
   "execution_count": 24,
   "metadata": {},
   "outputs": [],
   "source": [
    "df = pd.DataFrame(data=np.array([[1, 2, 3], [1, 2, 3], [7, 8, 9], [40, 50, 60], [23, 35, 37]]),\n",
    "index= [2.5, 12.6, 4.8, 4.8, 2.5],\n",
    "columns=[48, 49, 50])"
   ]
  },
  {
   "cell_type": "code",
   "execution_count": 25,
   "metadata": {},
   "outputs": [],
   "source": [
    "df.drop_duplicates(inplace=True)"
   ]
  },
  {
   "cell_type": "code",
   "execution_count": 27,
   "metadata": {},
   "outputs": [],
   "source": [
    "df.reset_index(inplace=True)"
   ]
  },
  {
   "cell_type": "code",
   "execution_count": 28,
   "metadata": {},
   "outputs": [
    {
     "data": {
      "text/html": [
       "<div>\n",
       "<style scoped>\n",
       "    .dataframe tbody tr th:only-of-type {\n",
       "        vertical-align: middle;\n",
       "    }\n",
       "\n",
       "    .dataframe tbody tr th {\n",
       "        vertical-align: top;\n",
       "    }\n",
       "\n",
       "    .dataframe thead th {\n",
       "        text-align: right;\n",
       "    }\n",
       "</style>\n",
       "<table border=\"1\" class=\"dataframe\">\n",
       "  <thead>\n",
       "    <tr style=\"text-align: right;\">\n",
       "      <th></th>\n",
       "      <th>index</th>\n",
       "      <th>48</th>\n",
       "      <th>49</th>\n",
       "      <th>50</th>\n",
       "    </tr>\n",
       "  </thead>\n",
       "  <tbody>\n",
       "    <tr>\n",
       "      <th>0</th>\n",
       "      <td>2.5</td>\n",
       "      <td>1</td>\n",
       "      <td>2</td>\n",
       "      <td>3</td>\n",
       "    </tr>\n",
       "    <tr>\n",
       "      <th>1</th>\n",
       "      <td>4.8</td>\n",
       "      <td>7</td>\n",
       "      <td>8</td>\n",
       "      <td>9</td>\n",
       "    </tr>\n",
       "    <tr>\n",
       "      <th>2</th>\n",
       "      <td>4.8</td>\n",
       "      <td>40</td>\n",
       "      <td>50</td>\n",
       "      <td>60</td>\n",
       "    </tr>\n",
       "    <tr>\n",
       "      <th>3</th>\n",
       "      <td>2.5</td>\n",
       "      <td>23</td>\n",
       "      <td>35</td>\n",
       "      <td>37</td>\n",
       "    </tr>\n",
       "  </tbody>\n",
       "</table>\n",
       "</div>"
      ],
      "text/plain": [
       "   index  48  49  50\n",
       "0    2.5   1   2   3\n",
       "1    4.8   7   8   9\n",
       "2    4.8  40  50  60\n",
       "3    2.5  23  35  37"
      ]
     },
     "execution_count": 28,
     "metadata": {},
     "output_type": "execute_result"
    }
   ],
   "source": [
    "df"
   ]
  },
  {
   "cell_type": "code",
   "execution_count": 184,
   "metadata": {},
   "outputs": [
    {
     "name": "stdout",
     "output_type": "stream",
     "text": [
      "None\n"
     ]
    }
   ],
   "source": [
    "print(df.rename(columns={48:'a',49:'b',50:'c'},inplace=True))"
   ]
  },
  {
   "cell_type": "code",
   "execution_count": 189,
   "metadata": {},
   "outputs": [
    {
     "data": {
      "text/html": [
       "<div>\n",
       "<style scoped>\n",
       "    .dataframe tbody tr th:only-of-type {\n",
       "        vertical-align: middle;\n",
       "    }\n",
       "\n",
       "    .dataframe tbody tr th {\n",
       "        vertical-align: top;\n",
       "    }\n",
       "\n",
       "    .dataframe thead th {\n",
       "        text-align: right;\n",
       "    }\n",
       "</style>\n",
       "<table border=\"1\" class=\"dataframe\">\n",
       "  <thead>\n",
       "    <tr style=\"text-align: right;\">\n",
       "      <th></th>\n",
       "      <th>index</th>\n",
       "      <th>48</th>\n",
       "      <th>49</th>\n",
       "      <th>50</th>\n",
       "    </tr>\n",
       "  </thead>\n",
       "  <tbody>\n",
       "    <tr>\n",
       "      <th>0</th>\n",
       "      <td>2.5</td>\n",
       "      <td>1</td>\n",
       "      <td>2</td>\n",
       "      <td>3</td>\n",
       "    </tr>\n",
       "    <tr>\n",
       "      <th>1</th>\n",
       "      <td>4.8</td>\n",
       "      <td>7</td>\n",
       "      <td>8</td>\n",
       "      <td>9</td>\n",
       "    </tr>\n",
       "    <tr>\n",
       "      <th>2</th>\n",
       "      <td>4.8</td>\n",
       "      <td>40</td>\n",
       "      <td>50</td>\n",
       "      <td>60</td>\n",
       "    </tr>\n",
       "    <tr>\n",
       "      <th>3</th>\n",
       "      <td>2.5</td>\n",
       "      <td>23</td>\n",
       "      <td>35</td>\n",
       "      <td>37</td>\n",
       "    </tr>\n",
       "  </tbody>\n",
       "</table>\n",
       "</div>"
      ],
      "text/plain": [
       "   index  48  49  50\n",
       "0    2.5   1   2   3\n",
       "1    4.8   7   8   9\n",
       "2    4.8  40  50  60\n",
       "3    2.5  23  35  37"
      ]
     },
     "execution_count": 189,
     "metadata": {},
     "output_type": "execute_result"
    }
   ],
   "source": [
    "df"
   ]
  },
  {
   "cell_type": "markdown",
   "metadata": {},
   "source": [
    "# DATAFRAME OPERATION 1"
   ]
  },
  {
   "cell_type": "code",
   "execution_count": 237,
   "metadata": {},
   "outputs": [],
   "source": [
    "x = {'one' : pd.Series([1, 2, 3], index=['a','b','c']),\n",
    "     'two' : pd.Series([1, 2, 3, 4], index=['a','b','c','d'])}\n",
    "df = pd.DataFrame(x)"
   ]
  },
  {
   "cell_type": "code",
   "execution_count": 192,
   "metadata": {
    "scrolled": false
   },
   "outputs": [
    {
     "data": {
      "text/html": [
       "<div>\n",
       "<style scoped>\n",
       "    .dataframe tbody tr th:only-of-type {\n",
       "        vertical-align: middle;\n",
       "    }\n",
       "\n",
       "    .dataframe tbody tr th {\n",
       "        vertical-align: top;\n",
       "    }\n",
       "\n",
       "    .dataframe thead th {\n",
       "        text-align: right;\n",
       "    }\n",
       "</style>\n",
       "<table border=\"1\" class=\"dataframe\">\n",
       "  <thead>\n",
       "    <tr style=\"text-align: right;\">\n",
       "      <th></th>\n",
       "      <th>one</th>\n",
       "      <th>two</th>\n",
       "    </tr>\n",
       "  </thead>\n",
       "  <tbody>\n",
       "    <tr>\n",
       "      <th>a</th>\n",
       "      <td>1.0</td>\n",
       "      <td>1</td>\n",
       "    </tr>\n",
       "    <tr>\n",
       "      <th>b</th>\n",
       "      <td>2.0</td>\n",
       "      <td>2</td>\n",
       "    </tr>\n",
       "    <tr>\n",
       "      <th>c</th>\n",
       "      <td>3.0</td>\n",
       "      <td>3</td>\n",
       "    </tr>\n",
       "    <tr>\n",
       "      <th>d</th>\n",
       "      <td>NaN</td>\n",
       "      <td>4</td>\n",
       "    </tr>\n",
       "  </tbody>\n",
       "</table>\n",
       "</div>"
      ],
      "text/plain": [
       "   one  two\n",
       "a  1.0    1\n",
       "b  2.0    2\n",
       "c  3.0    3\n",
       "d  NaN    4"
      ]
     },
     "execution_count": 192,
     "metadata": {},
     "output_type": "execute_result"
    }
   ],
   "source": [
    "df"
   ]
  },
  {
   "cell_type": "code",
   "execution_count": 225,
   "metadata": {},
   "outputs": [
    {
     "data": {
      "text/plain": [
       "a    1.0\n",
       "b    2.0\n",
       "c    3.0\n",
       "d    NaN\n",
       "Name: one, dtype: float64"
      ]
     },
     "execution_count": 225,
     "metadata": {},
     "output_type": "execute_result"
    }
   ],
   "source": [
    "df['one']"
   ]
  },
  {
   "cell_type": "code",
   "execution_count": 194,
   "metadata": {},
   "outputs": [],
   "source": [
    "df['three']=df['one']+df['two']*2"
   ]
  },
  {
   "cell_type": "code",
   "execution_count": 238,
   "metadata": {},
   "outputs": [],
   "source": [
    "df['four']=pd.Series([1,2,3,4],index=['a','b','d','c'])"
   ]
  },
  {
   "cell_type": "code",
   "execution_count": 222,
   "metadata": {},
   "outputs": [
    {
     "data": {
      "text/html": [
       "<div>\n",
       "<style scoped>\n",
       "    .dataframe tbody tr th:only-of-type {\n",
       "        vertical-align: middle;\n",
       "    }\n",
       "\n",
       "    .dataframe tbody tr th {\n",
       "        vertical-align: top;\n",
       "    }\n",
       "\n",
       "    .dataframe thead th {\n",
       "        text-align: right;\n",
       "    }\n",
       "</style>\n",
       "<table border=\"1\" class=\"dataframe\">\n",
       "  <thead>\n",
       "    <tr style=\"text-align: right;\">\n",
       "      <th></th>\n",
       "      <th>one</th>\n",
       "      <th>three</th>\n",
       "    </tr>\n",
       "  </thead>\n",
       "  <tbody>\n",
       "    <tr>\n",
       "      <th>a</th>\n",
       "      <td>1.0</td>\n",
       "      <td>3.0</td>\n",
       "    </tr>\n",
       "    <tr>\n",
       "      <th>b</th>\n",
       "      <td>2.0</td>\n",
       "      <td>6.0</td>\n",
       "    </tr>\n",
       "    <tr>\n",
       "      <th>c</th>\n",
       "      <td>3.0</td>\n",
       "      <td>9.0</td>\n",
       "    </tr>\n",
       "    <tr>\n",
       "      <th>d</th>\n",
       "      <td>NaN</td>\n",
       "      <td>NaN</td>\n",
       "    </tr>\n",
       "  </tbody>\n",
       "</table>\n",
       "</div>"
      ],
      "text/plain": [
       "   one  three\n",
       "a  1.0    3.0\n",
       "b  2.0    6.0\n",
       "c  3.0    9.0\n",
       "d  NaN    NaN"
      ]
     },
     "execution_count": 222,
     "metadata": {},
     "output_type": "execute_result"
    }
   ],
   "source": [
    "df"
   ]
  },
  {
   "cell_type": "code",
   "execution_count": 239,
   "metadata": {},
   "outputs": [],
   "source": [
    "del(df['four'])                                #DEL is only for columns,for rows DROP is used"
   ]
  },
  {
   "cell_type": "code",
   "execution_count": 206,
   "metadata": {},
   "outputs": [
    {
     "data": {
      "text/plain": [
       "a    1\n",
       "b    2\n",
       "c    3\n",
       "d    4\n",
       "Name: two, dtype: int64"
      ]
     },
     "execution_count": 206,
     "metadata": {},
     "output_type": "execute_result"
    }
   ],
   "source": [
    "df.pop('two')"
   ]
  },
  {
   "cell_type": "markdown",
   "metadata": {},
   "source": [
    "# Row operation"
   ]
  },
  {
   "cell_type": "code",
   "execution_count": 214,
   "metadata": {},
   "outputs": [],
   "source": [
    "\"\"\"Rows in a Dataframe can be selected in two ways:\n",
    "   (1) row label ; (2) integer location\"\"\""
   ]
  },
  {
   "cell_type": "code",
   "execution_count": 216,
   "metadata": {},
   "outputs": [
    {
     "data": {
      "text/plain": [
       "one      1.0\n",
       "three    3.0\n",
       "Name: a, dtype: float64"
      ]
     },
     "execution_count": 216,
     "metadata": {},
     "output_type": "execute_result"
    }
   ],
   "source": [
    "df.loc['a']"
   ]
  },
  {
   "cell_type": "code",
   "execution_count": 217,
   "metadata": {},
   "outputs": [
    {
     "data": {
      "text/plain": [
       "one      2.0\n",
       "three    6.0\n",
       "Name: b, dtype: float64"
      ]
     },
     "execution_count": 217,
     "metadata": {},
     "output_type": "execute_result"
    }
   ],
   "source": [
    "df.iloc[1]"
   ]
  },
  {
   "cell_type": "code",
   "execution_count": 218,
   "metadata": {},
   "outputs": [],
   "source": [
    "df1 = pd.DataFrame([[1, 2], [3, 4]], columns=['a','b'])\n",
    "df2 = pd.DataFrame([[5, 6], [7, 8]], columns=['a','b'])\n",
    "df1 = df1.append(df2)"
   ]
  },
  {
   "cell_type": "code",
   "execution_count": 219,
   "metadata": {},
   "outputs": [
    {
     "data": {
      "text/html": [
       "<div>\n",
       "<style scoped>\n",
       "    .dataframe tbody tr th:only-of-type {\n",
       "        vertical-align: middle;\n",
       "    }\n",
       "\n",
       "    .dataframe tbody tr th {\n",
       "        vertical-align: top;\n",
       "    }\n",
       "\n",
       "    .dataframe thead th {\n",
       "        text-align: right;\n",
       "    }\n",
       "</style>\n",
       "<table border=\"1\" class=\"dataframe\">\n",
       "  <thead>\n",
       "    <tr style=\"text-align: right;\">\n",
       "      <th></th>\n",
       "      <th>a</th>\n",
       "      <th>b</th>\n",
       "    </tr>\n",
       "  </thead>\n",
       "  <tbody>\n",
       "    <tr>\n",
       "      <th>0</th>\n",
       "      <td>1</td>\n",
       "      <td>2</td>\n",
       "    </tr>\n",
       "    <tr>\n",
       "      <th>1</th>\n",
       "      <td>3</td>\n",
       "      <td>4</td>\n",
       "    </tr>\n",
       "    <tr>\n",
       "      <th>0</th>\n",
       "      <td>5</td>\n",
       "      <td>6</td>\n",
       "    </tr>\n",
       "    <tr>\n",
       "      <th>1</th>\n",
       "      <td>7</td>\n",
       "      <td>8</td>\n",
       "    </tr>\n",
       "  </tbody>\n",
       "</table>\n",
       "</div>"
      ],
      "text/plain": [
       "   a  b\n",
       "0  1  2\n",
       "1  3  4\n",
       "0  5  6\n",
       "1  7  8"
      ]
     },
     "execution_count": 219,
     "metadata": {},
     "output_type": "execute_result"
    }
   ],
   "source": [
    "df1"
   ]
  },
  {
   "cell_type": "code",
   "execution_count": 227,
   "metadata": {},
   "outputs": [
    {
     "data": {
      "text/html": [
       "<div>\n",
       "<style scoped>\n",
       "    .dataframe tbody tr th:only-of-type {\n",
       "        vertical-align: middle;\n",
       "    }\n",
       "\n",
       "    .dataframe tbody tr th {\n",
       "        vertical-align: top;\n",
       "    }\n",
       "\n",
       "    .dataframe thead th {\n",
       "        text-align: right;\n",
       "    }\n",
       "</style>\n",
       "<table border=\"1\" class=\"dataframe\">\n",
       "  <thead>\n",
       "    <tr style=\"text-align: right;\">\n",
       "      <th></th>\n",
       "      <th>one</th>\n",
       "      <th>three</th>\n",
       "    </tr>\n",
       "  </thead>\n",
       "  <tbody>\n",
       "    <tr>\n",
       "      <th>a</th>\n",
       "      <td>1.0</td>\n",
       "      <td>3.0</td>\n",
       "    </tr>\n",
       "    <tr>\n",
       "      <th>b</th>\n",
       "      <td>2.0</td>\n",
       "      <td>6.0</td>\n",
       "    </tr>\n",
       "  </tbody>\n",
       "</table>\n",
       "</div>"
      ],
      "text/plain": [
       "   one  three\n",
       "a  1.0    3.0\n",
       "b  2.0    6.0"
      ]
     },
     "execution_count": 227,
     "metadata": {},
     "output_type": "execute_result"
    }
   ],
   "source": [
    "df[0:2]                                              #slicing only available for rows hence no need of loc or iloc"
   ]
  },
  {
   "cell_type": "code",
   "execution_count": 234,
   "metadata": {},
   "outputs": [
    {
     "data": {
      "text/html": [
       "<div>\n",
       "<style scoped>\n",
       "    .dataframe tbody tr th:only-of-type {\n",
       "        vertical-align: middle;\n",
       "    }\n",
       "\n",
       "    .dataframe tbody tr th {\n",
       "        vertical-align: top;\n",
       "    }\n",
       "\n",
       "    .dataframe thead th {\n",
       "        text-align: right;\n",
       "    }\n",
       "</style>\n",
       "<table border=\"1\" class=\"dataframe\">\n",
       "  <thead>\n",
       "    <tr style=\"text-align: right;\">\n",
       "      <th></th>\n",
       "      <th>one</th>\n",
       "      <th>three</th>\n",
       "    </tr>\n",
       "  </thead>\n",
       "  <tbody>\n",
       "    <tr>\n",
       "      <th>b</th>\n",
       "      <td>2.0</td>\n",
       "      <td>6.0</td>\n",
       "    </tr>\n",
       "    <tr>\n",
       "      <th>c</th>\n",
       "      <td>3.0</td>\n",
       "      <td>9.0</td>\n",
       "    </tr>\n",
       "    <tr>\n",
       "      <th>d</th>\n",
       "      <td>NaN</td>\n",
       "      <td>NaN</td>\n",
       "    </tr>\n",
       "  </tbody>\n",
       "</table>\n",
       "</div>"
      ],
      "text/plain": [
       "   one  three\n",
       "b  2.0    6.0\n",
       "c  3.0    9.0\n",
       "d  NaN    NaN"
      ]
     },
     "execution_count": 234,
     "metadata": {},
     "output_type": "execute_result"
    }
   ],
   "source": [
    "df.drop('a')                                         #deletion can only be done by name"
   ]
  },
  {
   "cell_type": "markdown",
   "metadata": {},
   "source": [
    "# DATAFRAME OPERATION 2"
   ]
  },
  {
   "cell_type": "code",
   "execution_count": 240,
   "metadata": {},
   "outputs": [],
   "source": [
    "x = {'one' : pd.Series([1, 2, 3], index=['a','b','c']),\n",
    "     'two' : pd.Series([1, 2, 3, 4], index=['a','b','c','d'])}\n",
    "df = pd.DataFrame(x)"
   ]
  },
  {
   "cell_type": "code",
   "execution_count": 248,
   "metadata": {},
   "outputs": [],
   "source": [
    "def multiplication(val1):\n",
    "    return val1*2"
   ]
  },
  {
   "cell_type": "code",
   "execution_count": 249,
   "metadata": {},
   "outputs": [
    {
     "data": {
      "text/html": [
       "<div>\n",
       "<style scoped>\n",
       "    .dataframe tbody tr th:only-of-type {\n",
       "        vertical-align: middle;\n",
       "    }\n",
       "\n",
       "    .dataframe tbody tr th {\n",
       "        vertical-align: top;\n",
       "    }\n",
       "\n",
       "    .dataframe thead th {\n",
       "        text-align: right;\n",
       "    }\n",
       "</style>\n",
       "<table border=\"1\" class=\"dataframe\">\n",
       "  <thead>\n",
       "    <tr style=\"text-align: right;\">\n",
       "      <th></th>\n",
       "      <th>one</th>\n",
       "      <th>two</th>\n",
       "    </tr>\n",
       "  </thead>\n",
       "  <tbody>\n",
       "    <tr>\n",
       "      <th>a</th>\n",
       "      <td>2.0</td>\n",
       "      <td>2</td>\n",
       "    </tr>\n",
       "    <tr>\n",
       "      <th>b</th>\n",
       "      <td>4.0</td>\n",
       "      <td>4</td>\n",
       "    </tr>\n",
       "    <tr>\n",
       "      <th>c</th>\n",
       "      <td>6.0</td>\n",
       "      <td>6</td>\n",
       "    </tr>\n",
       "    <tr>\n",
       "      <th>d</th>\n",
       "      <td>NaN</td>\n",
       "      <td>8</td>\n",
       "    </tr>\n",
       "  </tbody>\n",
       "</table>\n",
       "</div>"
      ],
      "text/plain": [
       "   one  two\n",
       "a  2.0    2\n",
       "b  4.0    4\n",
       "c  6.0    6\n",
       "d  NaN    8"
      ]
     },
     "execution_count": 249,
     "metadata": {},
     "output_type": "execute_result"
    }
   ],
   "source": [
    "df.pipe(multiplication)"
   ]
  },
  {
   "cell_type": "code",
   "execution_count": 250,
   "metadata": {},
   "outputs": [
    {
     "data": {
      "text/html": [
       "<div>\n",
       "<style scoped>\n",
       "    .dataframe tbody tr th:only-of-type {\n",
       "        vertical-align: middle;\n",
       "    }\n",
       "\n",
       "    .dataframe tbody tr th {\n",
       "        vertical-align: top;\n",
       "    }\n",
       "\n",
       "    .dataframe thead th {\n",
       "        text-align: right;\n",
       "    }\n",
       "</style>\n",
       "<table border=\"1\" class=\"dataframe\">\n",
       "  <thead>\n",
       "    <tr style=\"text-align: right;\">\n",
       "      <th></th>\n",
       "      <th>one</th>\n",
       "      <th>two</th>\n",
       "    </tr>\n",
       "  </thead>\n",
       "  <tbody>\n",
       "    <tr>\n",
       "      <th>a</th>\n",
       "      <td>5.0</td>\n",
       "      <td>5</td>\n",
       "    </tr>\n",
       "    <tr>\n",
       "      <th>b</th>\n",
       "      <td>10.0</td>\n",
       "      <td>10</td>\n",
       "    </tr>\n",
       "    <tr>\n",
       "      <th>c</th>\n",
       "      <td>15.0</td>\n",
       "      <td>15</td>\n",
       "    </tr>\n",
       "    <tr>\n",
       "      <th>d</th>\n",
       "      <td>NaN</td>\n",
       "      <td>20</td>\n",
       "    </tr>\n",
       "  </tbody>\n",
       "</table>\n",
       "</div>"
      ],
      "text/plain": [
       "    one  two\n",
       "a   5.0    5\n",
       "b  10.0   10\n",
       "c  15.0   15\n",
       "d   NaN   20"
      ]
     },
     "execution_count": 250,
     "metadata": {},
     "output_type": "execute_result"
    }
   ],
   "source": [
    "def mul10(val1,val2):\n",
    "    return val1*val2\n",
    "df.pipe(mul10,5)"
   ]
  },
  {
   "cell_type": "code",
   "execution_count": 258,
   "metadata": {},
   "outputs": [
    {
     "data": {
      "text/plain": [
       "one    NaN\n",
       "two    4.0\n",
       "Name: d, dtype: float64"
      ]
     },
     "execution_count": 258,
     "metadata": {},
     "output_type": "execute_result"
    }
   ],
   "source": [
    "df.iloc[3].apply(np.mean)"
   ]
  },
  {
   "cell_type": "code",
   "execution_count": 260,
   "metadata": {},
   "outputs": [
    {
     "data": {
      "text/plain": [
       "a    1.0\n",
       "b    2.0\n",
       "c    3.0\n",
       "d    4.0\n",
       "dtype: float64"
      ]
     },
     "execution_count": 260,
     "metadata": {},
     "output_type": "execute_result"
    }
   ],
   "source": [
    "df.apply(np.mean,axis=1)"
   ]
  },
  {
   "cell_type": "code",
   "execution_count": 265,
   "metadata": {},
   "outputs": [],
   "source": [
    "df2 = df.apply(lambda x: x.max() - x.min(),axis=1)"
   ]
  },
  {
   "cell_type": "code",
   "execution_count": 266,
   "metadata": {},
   "outputs": [
    {
     "data": {
      "text/plain": [
       "a    0.0\n",
       "b    0.0\n",
       "c    0.0\n",
       "d    0.0\n",
       "dtype: float64"
      ]
     },
     "execution_count": 266,
     "metadata": {},
     "output_type": "execute_result"
    }
   ],
   "source": [
    "df2"
   ]
  },
  {
   "cell_type": "code",
   "execution_count": 267,
   "metadata": {},
   "outputs": [],
   "source": [
    "df2 = df.applymap(lambda p: p*10)"
   ]
  },
  {
   "cell_type": "code",
   "execution_count": 268,
   "metadata": {},
   "outputs": [
    {
     "data": {
      "text/html": [
       "<div>\n",
       "<style scoped>\n",
       "    .dataframe tbody tr th:only-of-type {\n",
       "        vertical-align: middle;\n",
       "    }\n",
       "\n",
       "    .dataframe tbody tr th {\n",
       "        vertical-align: top;\n",
       "    }\n",
       "\n",
       "    .dataframe thead th {\n",
       "        text-align: right;\n",
       "    }\n",
       "</style>\n",
       "<table border=\"1\" class=\"dataframe\">\n",
       "  <thead>\n",
       "    <tr style=\"text-align: right;\">\n",
       "      <th></th>\n",
       "      <th>one</th>\n",
       "      <th>two</th>\n",
       "    </tr>\n",
       "  </thead>\n",
       "  <tbody>\n",
       "    <tr>\n",
       "      <th>a</th>\n",
       "      <td>10.0</td>\n",
       "      <td>10</td>\n",
       "    </tr>\n",
       "    <tr>\n",
       "      <th>b</th>\n",
       "      <td>20.0</td>\n",
       "      <td>20</td>\n",
       "    </tr>\n",
       "    <tr>\n",
       "      <th>c</th>\n",
       "      <td>30.0</td>\n",
       "      <td>30</td>\n",
       "    </tr>\n",
       "    <tr>\n",
       "      <th>d</th>\n",
       "      <td>NaN</td>\n",
       "      <td>40</td>\n",
       "    </tr>\n",
       "  </tbody>\n",
       "</table>\n",
       "</div>"
      ],
      "text/plain": [
       "    one  two\n",
       "a  10.0   10\n",
       "b  20.0   20\n",
       "c  30.0   30\n",
       "d   NaN   40"
      ]
     },
     "execution_count": 268,
     "metadata": {},
     "output_type": "execute_result"
    }
   ],
   "source": [
    "df2"
   ]
  },
  {
   "cell_type": "code",
   "execution_count": 270,
   "metadata": {},
   "outputs": [],
   "source": [
    "df2 = df.mul([10, 100,4,3], axis=0)"
   ]
  },
  {
   "cell_type": "code",
   "execution_count": 271,
   "metadata": {},
   "outputs": [
    {
     "data": {
      "text/html": [
       "<div>\n",
       "<style scoped>\n",
       "    .dataframe tbody tr th:only-of-type {\n",
       "        vertical-align: middle;\n",
       "    }\n",
       "\n",
       "    .dataframe tbody tr th {\n",
       "        vertical-align: top;\n",
       "    }\n",
       "\n",
       "    .dataframe thead th {\n",
       "        text-align: right;\n",
       "    }\n",
       "</style>\n",
       "<table border=\"1\" class=\"dataframe\">\n",
       "  <thead>\n",
       "    <tr style=\"text-align: right;\">\n",
       "      <th></th>\n",
       "      <th>one</th>\n",
       "      <th>two</th>\n",
       "    </tr>\n",
       "  </thead>\n",
       "  <tbody>\n",
       "    <tr>\n",
       "      <th>a</th>\n",
       "      <td>10.0</td>\n",
       "      <td>10.0</td>\n",
       "    </tr>\n",
       "    <tr>\n",
       "      <th>b</th>\n",
       "      <td>200.0</td>\n",
       "      <td>200.0</td>\n",
       "    </tr>\n",
       "    <tr>\n",
       "      <th>c</th>\n",
       "      <td>12.0</td>\n",
       "      <td>12.0</td>\n",
       "    </tr>\n",
       "    <tr>\n",
       "      <th>d</th>\n",
       "      <td>NaN</td>\n",
       "      <td>12.0</td>\n",
       "    </tr>\n",
       "  </tbody>\n",
       "</table>\n",
       "</div>"
      ],
      "text/plain": [
       "     one    two\n",
       "a   10.0   10.0\n",
       "b  200.0  200.0\n",
       "c   12.0   12.0\n",
       "d    NaN   12.0"
      ]
     },
     "execution_count": 271,
     "metadata": {},
     "output_type": "execute_result"
    }
   ],
   "source": [
    "df2"
   ]
  },
  {
   "cell_type": "code",
   "execution_count": 272,
   "metadata": {},
   "outputs": [
    {
     "name": "stdout",
     "output_type": "stream",
     "text": [
      "   c  d\n",
      "p  4  4\n",
      "q  4  4\n"
     ]
    }
   ],
   "source": [
    "df2 = pd.DataFrame([[4,4], [4,4]], index = ['p','q'], columns = ['c','d'])\n",
    "print(df2)"
   ]
  },
  {
   "cell_type": "code",
   "execution_count": 273,
   "metadata": {},
   "outputs": [
    {
     "name": "stdout",
     "output_type": "stream",
     "text": [
      "   c  d\n",
      "p  4  4\n",
      "q  4  4\n"
     ]
    }
   ],
   "source": [
    "df1 = pd.DataFrame([[4,4], [4,4]], index = ['p','q'], columns = ['c','d'])\n",
    "print(df1)"
   ]
  },
  {
   "cell_type": "code",
   "execution_count": 274,
   "metadata": {},
   "outputs": [
    {
     "data": {
      "text/html": [
       "<div>\n",
       "<style scoped>\n",
       "    .dataframe tbody tr th:only-of-type {\n",
       "        vertical-align: middle;\n",
       "    }\n",
       "\n",
       "    .dataframe tbody tr th {\n",
       "        vertical-align: top;\n",
       "    }\n",
       "\n",
       "    .dataframe thead th {\n",
       "        text-align: right;\n",
       "    }\n",
       "</style>\n",
       "<table border=\"1\" class=\"dataframe\">\n",
       "  <thead>\n",
       "    <tr style=\"text-align: right;\">\n",
       "      <th></th>\n",
       "      <th>c</th>\n",
       "      <th>d</th>\n",
       "    </tr>\n",
       "  </thead>\n",
       "  <tbody>\n",
       "    <tr>\n",
       "      <th>p</th>\n",
       "      <td>16</td>\n",
       "      <td>16</td>\n",
       "    </tr>\n",
       "    <tr>\n",
       "      <th>q</th>\n",
       "      <td>16</td>\n",
       "      <td>16</td>\n",
       "    </tr>\n",
       "  </tbody>\n",
       "</table>\n",
       "</div>"
      ],
      "text/plain": [
       "    c   d\n",
       "p  16  16\n",
       "q  16  16"
      ]
     },
     "execution_count": 274,
     "metadata": {},
     "output_type": "execute_result"
    }
   ],
   "source": [
    "pd.np.multiply(df1,df2)"
   ]
  },
  {
   "cell_type": "code",
   "execution_count": 277,
   "metadata": {},
   "outputs": [],
   "source": [
    "df.loc[2] = [11, 12]                           #Row creation"
   ]
  },
  {
   "cell_type": "code",
   "execution_count": 278,
   "metadata": {},
   "outputs": [
    {
     "data": {
      "text/html": [
       "<div>\n",
       "<style scoped>\n",
       "    .dataframe tbody tr th:only-of-type {\n",
       "        vertical-align: middle;\n",
       "    }\n",
       "\n",
       "    .dataframe tbody tr th {\n",
       "        vertical-align: top;\n",
       "    }\n",
       "\n",
       "    .dataframe thead th {\n",
       "        text-align: right;\n",
       "    }\n",
       "</style>\n",
       "<table border=\"1\" class=\"dataframe\">\n",
       "  <thead>\n",
       "    <tr style=\"text-align: right;\">\n",
       "      <th></th>\n",
       "      <th>one</th>\n",
       "      <th>two</th>\n",
       "    </tr>\n",
       "  </thead>\n",
       "  <tbody>\n",
       "    <tr>\n",
       "      <th>a</th>\n",
       "      <td>1.0</td>\n",
       "      <td>1</td>\n",
       "    </tr>\n",
       "    <tr>\n",
       "      <th>b</th>\n",
       "      <td>2.0</td>\n",
       "      <td>2</td>\n",
       "    </tr>\n",
       "    <tr>\n",
       "      <th>c</th>\n",
       "      <td>3.0</td>\n",
       "      <td>3</td>\n",
       "    </tr>\n",
       "    <tr>\n",
       "      <th>d</th>\n",
       "      <td>NaN</td>\n",
       "      <td>4</td>\n",
       "    </tr>\n",
       "    <tr>\n",
       "      <th>2</th>\n",
       "      <td>11.0</td>\n",
       "      <td>12</td>\n",
       "    </tr>\n",
       "  </tbody>\n",
       "</table>\n",
       "</div>"
      ],
      "text/plain": [
       "    one  two\n",
       "a   1.0    1\n",
       "b   2.0    2\n",
       "c   3.0    3\n",
       "d   NaN    4\n",
       "2  11.0   12"
      ]
     },
     "execution_count": 278,
     "metadata": {},
     "output_type": "execute_result"
    }
   ],
   "source": [
    "df"
   ]
  },
  {
   "cell_type": "code",
   "execution_count": 279,
   "metadata": {},
   "outputs": [],
   "source": [
    "df.iloc[2] = [11, 12]                                 #Row editing"
   ]
  },
  {
   "cell_type": "code",
   "execution_count": 280,
   "metadata": {},
   "outputs": [
    {
     "data": {
      "text/html": [
       "<div>\n",
       "<style scoped>\n",
       "    .dataframe tbody tr th:only-of-type {\n",
       "        vertical-align: middle;\n",
       "    }\n",
       "\n",
       "    .dataframe tbody tr th {\n",
       "        vertical-align: top;\n",
       "    }\n",
       "\n",
       "    .dataframe thead th {\n",
       "        text-align: right;\n",
       "    }\n",
       "</style>\n",
       "<table border=\"1\" class=\"dataframe\">\n",
       "  <thead>\n",
       "    <tr style=\"text-align: right;\">\n",
       "      <th></th>\n",
       "      <th>one</th>\n",
       "      <th>two</th>\n",
       "    </tr>\n",
       "  </thead>\n",
       "  <tbody>\n",
       "    <tr>\n",
       "      <th>a</th>\n",
       "      <td>1.0</td>\n",
       "      <td>1</td>\n",
       "    </tr>\n",
       "    <tr>\n",
       "      <th>b</th>\n",
       "      <td>2.0</td>\n",
       "      <td>2</td>\n",
       "    </tr>\n",
       "    <tr>\n",
       "      <th>c</th>\n",
       "      <td>11.0</td>\n",
       "      <td>12</td>\n",
       "    </tr>\n",
       "    <tr>\n",
       "      <th>d</th>\n",
       "      <td>NaN</td>\n",
       "      <td>4</td>\n",
       "    </tr>\n",
       "    <tr>\n",
       "      <th>2</th>\n",
       "      <td>11.0</td>\n",
       "      <td>12</td>\n",
       "    </tr>\n",
       "  </tbody>\n",
       "</table>\n",
       "</div>"
      ],
      "text/plain": [
       "    one  two\n",
       "a   1.0    1\n",
       "b   2.0    2\n",
       "c  11.0   12\n",
       "d   NaN    4\n",
       "2  11.0   12"
      ]
     },
     "execution_count": 280,
     "metadata": {},
     "output_type": "execute_result"
    }
   ],
   "source": [
    "df"
   ]
  },
  {
   "cell_type": "code",
   "execution_count": 281,
   "metadata": {},
   "outputs": [
    {
     "name": "stdout",
     "output_type": "stream",
     "text": [
      "   col1  col2\n",
      "0     1     2\n",
      "1     3     4\n",
      "2     1     2\n",
      "3     1     4\n",
      "4     1     2\n"
     ]
    }
   ],
   "source": [
    "df=pd.DataFrame(data=[[1,2],[3,4],[1,2],[1,4],[1,2]],columns=['col1','col2'])\n",
    "print(df)"
   ]
  },
  {
   "cell_type": "code",
   "execution_count": 286,
   "metadata": {},
   "outputs": [
    {
     "data": {
      "text/plain": [
       "0     True\n",
       "1    False\n",
       "2     True\n",
       "3    False\n",
       "4    False\n",
       "dtype: bool"
      ]
     },
     "execution_count": 286,
     "metadata": {},
     "output_type": "execute_result"
    }
   ],
   "source": [
    "df.duplicated(keep=\"last\")"
   ]
  },
  {
   "cell_type": "code",
   "execution_count": 287,
   "metadata": {},
   "outputs": [],
   "source": [
    "names = ['a','b','c','d','d']\n",
    "grades = [76,-2,77,78,101]"
   ]
  },
  {
   "cell_type": "code",
   "execution_count": 288,
   "metadata": {},
   "outputs": [],
   "source": [
    "d=pd.DataFrame([names,grades])"
   ]
  },
  {
   "cell_type": "code",
   "execution_count": 293,
   "metadata": {},
   "outputs": [
    {
     "data": {
      "text/html": [
       "<div>\n",
       "<style scoped>\n",
       "    .dataframe tbody tr th:only-of-type {\n",
       "        vertical-align: middle;\n",
       "    }\n",
       "\n",
       "    .dataframe tbody tr th {\n",
       "        vertical-align: top;\n",
       "    }\n",
       "\n",
       "    .dataframe thead th {\n",
       "        text-align: right;\n",
       "    }\n",
       "</style>\n",
       "<table border=\"1\" class=\"dataframe\">\n",
       "  <thead>\n",
       "    <tr style=\"text-align: right;\">\n",
       "      <th></th>\n",
       "      <th>0</th>\n",
       "      <th>1</th>\n",
       "      <th>2</th>\n",
       "      <th>3</th>\n",
       "      <th>4</th>\n",
       "    </tr>\n",
       "  </thead>\n",
       "  <tbody>\n",
       "    <tr>\n",
       "      <th>0</th>\n",
       "      <td>a</td>\n",
       "      <td>b</td>\n",
       "      <td>c</td>\n",
       "      <td>d</td>\n",
       "      <td>d</td>\n",
       "    </tr>\n",
       "    <tr>\n",
       "      <th>1</th>\n",
       "      <td>76</td>\n",
       "      <td>-2</td>\n",
       "      <td>77</td>\n",
       "      <td>78</td>\n",
       "      <td>101</td>\n",
       "    </tr>\n",
       "  </tbody>\n",
       "</table>\n",
       "</div>"
      ],
      "text/plain": [
       "    0   1   2   3    4\n",
       "0   a   b   c   d    d\n",
       "1  76  -2  77  78  101"
      ]
     },
     "execution_count": 293,
     "metadata": {},
     "output_type": "execute_result"
    }
   ],
   "source": [
    "d"
   ]
  },
  {
   "cell_type": "code",
   "execution_count": 297,
   "metadata": {},
   "outputs": [
    {
     "data": {
      "text/html": [
       "<div>\n",
       "<style scoped>\n",
       "    .dataframe tbody tr th:only-of-type {\n",
       "        vertical-align: middle;\n",
       "    }\n",
       "\n",
       "    .dataframe tbody tr th {\n",
       "        vertical-align: top;\n",
       "    }\n",
       "\n",
       "    .dataframe thead th {\n",
       "        text-align: right;\n",
       "    }\n",
       "</style>\n",
       "<table border=\"1\" class=\"dataframe\">\n",
       "  <thead>\n",
       "    <tr style=\"text-align: right;\">\n",
       "      <th></th>\n",
       "      <th>0</th>\n",
       "      <th>1</th>\n",
       "      <th>2</th>\n",
       "      <th>3</th>\n",
       "      <th>4</th>\n",
       "    </tr>\n",
       "  </thead>\n",
       "  <tbody>\n",
       "    <tr>\n",
       "      <th>0</th>\n",
       "      <td>1</td>\n",
       "      <td>4</td>\n",
       "      <td>2</td>\n",
       "      <td>1</td>\n",
       "      <td>8</td>\n",
       "    </tr>\n",
       "    <tr>\n",
       "      <th>1</th>\n",
       "      <td>76</td>\n",
       "      <td>-2</td>\n",
       "      <td>77</td>\n",
       "      <td>78</td>\n",
       "      <td>101</td>\n",
       "    </tr>\n",
       "  </tbody>\n",
       "</table>\n",
       "</div>"
      ],
      "text/plain": [
       "    0  1   2   3    4\n",
       "0   1  4   2   1    8\n",
       "1  76 -2  77  78  101"
      ]
     },
     "execution_count": 297,
     "metadata": {},
     "output_type": "execute_result"
    }
   ],
   "source": [
    "d.iloc[0]=[1,4,2,1,8]\n",
    "d"
   ]
  },
  {
   "cell_type": "code",
   "execution_count": 309,
   "metadata": {},
   "outputs": [],
   "source": [
    "d.loc[(d[1]>0)]=100"
   ]
  },
  {
   "cell_type": "code",
   "execution_count": 310,
   "metadata": {},
   "outputs": [
    {
     "data": {
      "text/html": [
       "<div>\n",
       "<style scoped>\n",
       "    .dataframe tbody tr th:only-of-type {\n",
       "        vertical-align: middle;\n",
       "    }\n",
       "\n",
       "    .dataframe tbody tr th {\n",
       "        vertical-align: top;\n",
       "    }\n",
       "\n",
       "    .dataframe thead th {\n",
       "        text-align: right;\n",
       "    }\n",
       "</style>\n",
       "<table border=\"1\" class=\"dataframe\">\n",
       "  <thead>\n",
       "    <tr style=\"text-align: right;\">\n",
       "      <th></th>\n",
       "      <th>0</th>\n",
       "      <th>1</th>\n",
       "      <th>2</th>\n",
       "      <th>3</th>\n",
       "      <th>4</th>\n",
       "      <th>1</th>\n",
       "      <th>9</th>\n",
       "    </tr>\n",
       "  </thead>\n",
       "  <tbody>\n",
       "    <tr>\n",
       "      <th>0</th>\n",
       "      <td>100</td>\n",
       "      <td>100</td>\n",
       "      <td>100</td>\n",
       "      <td>100</td>\n",
       "      <td>100</td>\n",
       "      <td>100.0</td>\n",
       "      <td>100.0</td>\n",
       "    </tr>\n",
       "    <tr>\n",
       "      <th>1</th>\n",
       "      <td>76</td>\n",
       "      <td>-2</td>\n",
       "      <td>77</td>\n",
       "      <td>78</td>\n",
       "      <td>101</td>\n",
       "      <td>NaN</td>\n",
       "      <td>NaN</td>\n",
       "    </tr>\n",
       "  </tbody>\n",
       "</table>\n",
       "</div>"
      ],
      "text/plain": [
       "     0    1    2    3    4      1      9\n",
       "0  100  100  100  100  100  100.0  100.0\n",
       "1   76   -2   77   78  101    NaN    NaN"
      ]
     },
     "execution_count": 310,
     "metadata": {},
     "output_type": "execute_result"
    }
   ],
   "source": [
    "d"
   ]
  },
  {
   "cell_type": "code",
   "execution_count": 311,
   "metadata": {},
   "outputs": [
    {
     "data": {
      "text/html": [
       "<div>\n",
       "<style scoped>\n",
       "    .dataframe tbody tr th:only-of-type {\n",
       "        vertical-align: middle;\n",
       "    }\n",
       "\n",
       "    .dataframe tbody tr th {\n",
       "        vertical-align: top;\n",
       "    }\n",
       "\n",
       "    .dataframe thead th {\n",
       "        text-align: right;\n",
       "    }\n",
       "</style>\n",
       "<table border=\"1\" class=\"dataframe\">\n",
       "  <thead>\n",
       "    <tr style=\"text-align: right;\">\n",
       "      <th></th>\n",
       "      <th>0</th>\n",
       "      <th>1</th>\n",
       "      <th>2</th>\n",
       "      <th>3</th>\n",
       "      <th>4</th>\n",
       "      <th>1</th>\n",
       "      <th>9</th>\n",
       "    </tr>\n",
       "  </thead>\n",
       "  <tbody>\n",
       "    <tr>\n",
       "      <th>0</th>\n",
       "      <td>100</td>\n",
       "      <td>100</td>\n",
       "      <td>100</td>\n",
       "      <td>100</td>\n",
       "      <td>100</td>\n",
       "      <td>100.0</td>\n",
       "      <td>100.0</td>\n",
       "    </tr>\n",
       "  </tbody>\n",
       "</table>\n",
       "</div>"
      ],
      "text/plain": [
       "     0    1    2    3    4      1      9\n",
       "0  100  100  100  100  100  100.0  100.0"
      ]
     },
     "execution_count": 311,
     "metadata": {},
     "output_type": "execute_result"
    }
   ],
   "source": [
    "d.loc[(d[1]>0)]"
   ]
  },
  {
   "cell_type": "code",
   "execution_count": 314,
   "metadata": {},
   "outputs": [],
   "source": [
    "d[d[2]==77]=100"
   ]
  },
  {
   "cell_type": "code",
   "execution_count": 315,
   "metadata": {},
   "outputs": [
    {
     "data": {
      "text/html": [
       "<div>\n",
       "<style scoped>\n",
       "    .dataframe tbody tr th:only-of-type {\n",
       "        vertical-align: middle;\n",
       "    }\n",
       "\n",
       "    .dataframe tbody tr th {\n",
       "        vertical-align: top;\n",
       "    }\n",
       "\n",
       "    .dataframe thead th {\n",
       "        text-align: right;\n",
       "    }\n",
       "</style>\n",
       "<table border=\"1\" class=\"dataframe\">\n",
       "  <thead>\n",
       "    <tr style=\"text-align: right;\">\n",
       "      <th></th>\n",
       "      <th>0</th>\n",
       "      <th>1</th>\n",
       "      <th>2</th>\n",
       "      <th>3</th>\n",
       "      <th>4</th>\n",
       "      <th>1</th>\n",
       "      <th>9</th>\n",
       "    </tr>\n",
       "  </thead>\n",
       "  <tbody>\n",
       "    <tr>\n",
       "      <th>0</th>\n",
       "      <td>100</td>\n",
       "      <td>100</td>\n",
       "      <td>100</td>\n",
       "      <td>100</td>\n",
       "      <td>100</td>\n",
       "      <td>100.0</td>\n",
       "      <td>100.0</td>\n",
       "    </tr>\n",
       "    <tr>\n",
       "      <th>1</th>\n",
       "      <td>100</td>\n",
       "      <td>100</td>\n",
       "      <td>100</td>\n",
       "      <td>100</td>\n",
       "      <td>100</td>\n",
       "      <td>100.0</td>\n",
       "      <td>100.0</td>\n",
       "    </tr>\n",
       "  </tbody>\n",
       "</table>\n",
       "</div>"
      ],
      "text/plain": [
       "     0    1    2    3    4      1      9\n",
       "0  100  100  100  100  100  100.0  100.0\n",
       "1  100  100  100  100  100  100.0  100.0"
      ]
     },
     "execution_count": 315,
     "metadata": {},
     "output_type": "execute_result"
    }
   ],
   "source": [
    "d"
   ]
  },
  {
   "cell_type": "code",
   "execution_count": 316,
   "metadata": {},
   "outputs": [
    {
     "data": {
      "text/html": [
       "<div>\n",
       "<style scoped>\n",
       "    .dataframe tbody tr th:only-of-type {\n",
       "        vertical-align: middle;\n",
       "    }\n",
       "\n",
       "    .dataframe tbody tr th {\n",
       "        vertical-align: top;\n",
       "    }\n",
       "\n",
       "    .dataframe thead th {\n",
       "        text-align: right;\n",
       "    }\n",
       "</style>\n",
       "<table border=\"1\" class=\"dataframe\">\n",
       "  <thead>\n",
       "    <tr style=\"text-align: right;\">\n",
       "      <th></th>\n",
       "      <th>0</th>\n",
       "      <th>1</th>\n",
       "      <th>2</th>\n",
       "      <th>3</th>\n",
       "      <th>4</th>\n",
       "      <th>1</th>\n",
       "      <th>9</th>\n",
       "    </tr>\n",
       "  </thead>\n",
       "  <tbody>\n",
       "    <tr>\n",
       "      <th>0</th>\n",
       "      <td>100</td>\n",
       "      <td>100</td>\n",
       "      <td>100</td>\n",
       "      <td>100</td>\n",
       "      <td>100</td>\n",
       "      <td>100.0</td>\n",
       "      <td>100.0</td>\n",
       "    </tr>\n",
       "    <tr>\n",
       "      <th>1</th>\n",
       "      <td>100</td>\n",
       "      <td>100</td>\n",
       "      <td>100</td>\n",
       "      <td>100</td>\n",
       "      <td>100</td>\n",
       "      <td>100.0</td>\n",
       "      <td>100.0</td>\n",
       "    </tr>\n",
       "  </tbody>\n",
       "</table>\n",
       "</div>"
      ],
      "text/plain": [
       "     0    1    2    3    4      1      9\n",
       "0  100  100  100  100  100  100.0  100.0\n",
       "1  100  100  100  100  100  100.0  100.0"
      ]
     },
     "execution_count": 316,
     "metadata": {},
     "output_type": "execute_result"
    }
   ],
   "source": [
    "d[d[2]==100]"
   ]
  },
  {
   "cell_type": "code",
   "execution_count": 318,
   "metadata": {},
   "outputs": [],
   "source": [
    "from numpy.random import randn\n",
    "np.random.seed(101)\n",
    "\n",
    "df = pd.DataFrame(randn(5,4),index='A B C D E'.split(),columns='W X Y Z'.split())\n"
   ]
  },
  {
   "cell_type": "code",
   "execution_count": 319,
   "metadata": {},
   "outputs": [
    {
     "data": {
      "text/html": [
       "<div>\n",
       "<style scoped>\n",
       "    .dataframe tbody tr th:only-of-type {\n",
       "        vertical-align: middle;\n",
       "    }\n",
       "\n",
       "    .dataframe tbody tr th {\n",
       "        vertical-align: top;\n",
       "    }\n",
       "\n",
       "    .dataframe thead th {\n",
       "        text-align: right;\n",
       "    }\n",
       "</style>\n",
       "<table border=\"1\" class=\"dataframe\">\n",
       "  <thead>\n",
       "    <tr style=\"text-align: right;\">\n",
       "      <th></th>\n",
       "      <th>W</th>\n",
       "      <th>X</th>\n",
       "      <th>Y</th>\n",
       "      <th>Z</th>\n",
       "    </tr>\n",
       "  </thead>\n",
       "  <tbody>\n",
       "    <tr>\n",
       "      <th>A</th>\n",
       "      <td>2.706850</td>\n",
       "      <td>0.628133</td>\n",
       "      <td>0.907969</td>\n",
       "      <td>0.503826</td>\n",
       "    </tr>\n",
       "    <tr>\n",
       "      <th>B</th>\n",
       "      <td>0.651118</td>\n",
       "      <td>-0.319318</td>\n",
       "      <td>-0.848077</td>\n",
       "      <td>0.605965</td>\n",
       "    </tr>\n",
       "    <tr>\n",
       "      <th>C</th>\n",
       "      <td>-2.018168</td>\n",
       "      <td>0.740122</td>\n",
       "      <td>0.528813</td>\n",
       "      <td>-0.589001</td>\n",
       "    </tr>\n",
       "    <tr>\n",
       "      <th>D</th>\n",
       "      <td>0.188695</td>\n",
       "      <td>-0.758872</td>\n",
       "      <td>-0.933237</td>\n",
       "      <td>0.955057</td>\n",
       "    </tr>\n",
       "    <tr>\n",
       "      <th>E</th>\n",
       "      <td>0.190794</td>\n",
       "      <td>1.978757</td>\n",
       "      <td>2.605967</td>\n",
       "      <td>0.683509</td>\n",
       "    </tr>\n",
       "  </tbody>\n",
       "</table>\n",
       "</div>"
      ],
      "text/plain": [
       "          W         X         Y         Z\n",
       "A  2.706850  0.628133  0.907969  0.503826\n",
       "B  0.651118 -0.319318 -0.848077  0.605965\n",
       "C -2.018168  0.740122  0.528813 -0.589001\n",
       "D  0.188695 -0.758872 -0.933237  0.955057\n",
       "E  0.190794  1.978757  2.605967  0.683509"
      ]
     },
     "execution_count": 319,
     "metadata": {},
     "output_type": "execute_result"
    }
   ],
   "source": [
    "df"
   ]
  },
  {
   "cell_type": "code",
   "execution_count": 330,
   "metadata": {},
   "outputs": [
    {
     "data": {
      "text/html": [
       "<div>\n",
       "<style scoped>\n",
       "    .dataframe tbody tr th:only-of-type {\n",
       "        vertical-align: middle;\n",
       "    }\n",
       "\n",
       "    .dataframe tbody tr th {\n",
       "        vertical-align: top;\n",
       "    }\n",
       "\n",
       "    .dataframe thead th {\n",
       "        text-align: right;\n",
       "    }\n",
       "</style>\n",
       "<table border=\"1\" class=\"dataframe\">\n",
       "  <thead>\n",
       "    <tr style=\"text-align: right;\">\n",
       "      <th></th>\n",
       "      <th>W</th>\n",
       "      <th>X</th>\n",
       "      <th>Y</th>\n",
       "      <th>Z</th>\n",
       "    </tr>\n",
       "  </thead>\n",
       "  <tbody>\n",
       "    <tr>\n",
       "      <th>C</th>\n",
       "      <td>-2.018168</td>\n",
       "      <td>0.740122</td>\n",
       "      <td>0.528813</td>\n",
       "      <td>-0.589001</td>\n",
       "    </tr>\n",
       "  </tbody>\n",
       "</table>\n",
       "</div>"
      ],
      "text/plain": [
       "          W         X         Y         Z\n",
       "C -2.018168  0.740122  0.528813 -0.589001"
      ]
     },
     "execution_count": 330,
     "metadata": {},
     "output_type": "execute_result"
    }
   ],
   "source": [
    "df[df['W']<0]"
   ]
  },
  {
   "cell_type": "code",
   "execution_count": 326,
   "metadata": {},
   "outputs": [
    {
     "data": {
      "text/html": [
       "<div>\n",
       "<style scoped>\n",
       "    .dataframe tbody tr th:only-of-type {\n",
       "        vertical-align: middle;\n",
       "    }\n",
       "\n",
       "    .dataframe tbody tr th {\n",
       "        vertical-align: top;\n",
       "    }\n",
       "\n",
       "    .dataframe thead th {\n",
       "        text-align: right;\n",
       "    }\n",
       "</style>\n",
       "<table border=\"1\" class=\"dataframe\">\n",
       "  <thead>\n",
       "    <tr style=\"text-align: right;\">\n",
       "      <th></th>\n",
       "      <th>W</th>\n",
       "      <th>X</th>\n",
       "      <th>Y</th>\n",
       "      <th>Z</th>\n",
       "    </tr>\n",
       "  </thead>\n",
       "  <tbody>\n",
       "    <tr>\n",
       "      <th>A</th>\n",
       "      <td>2.706850</td>\n",
       "      <td>0.628133</td>\n",
       "      <td>0.907969</td>\n",
       "      <td>0.503826</td>\n",
       "    </tr>\n",
       "    <tr>\n",
       "      <th>B</th>\n",
       "      <td>0.651118</td>\n",
       "      <td>-0.319318</td>\n",
       "      <td>-0.848077</td>\n",
       "      <td>0.605965</td>\n",
       "    </tr>\n",
       "    <tr>\n",
       "      <th>D</th>\n",
       "      <td>0.188695</td>\n",
       "      <td>-0.758872</td>\n",
       "      <td>-0.933237</td>\n",
       "      <td>0.955057</td>\n",
       "    </tr>\n",
       "    <tr>\n",
       "      <th>E</th>\n",
       "      <td>0.190794</td>\n",
       "      <td>1.978757</td>\n",
       "      <td>2.605967</td>\n",
       "      <td>0.683509</td>\n",
       "    </tr>\n",
       "  </tbody>\n",
       "</table>\n",
       "</div>"
      ],
      "text/plain": [
       "          W         X         Y         Z\n",
       "A  2.706850  0.628133  0.907969  0.503826\n",
       "B  0.651118 -0.319318 -0.848077  0.605965\n",
       "D  0.188695 -0.758872 -0.933237  0.955057\n",
       "E  0.190794  1.978757  2.605967  0.683509"
      ]
     },
     "execution_count": 326,
     "metadata": {},
     "output_type": "execute_result"
    }
   ],
   "source": [
    "df[df['W']>0]\n"
   ]
  },
  {
   "cell_type": "markdown",
   "metadata": {},
   "source": [
    "# CSV EXCEL etc"
   ]
  },
  {
   "cell_type": "code",
   "execution_count": 331,
   "metadata": {},
   "outputs": [],
   "source": [
    "import os"
   ]
  },
  {
   "cell_type": "code",
   "execution_count": 347,
   "metadata": {},
   "outputs": [
    {
     "data": {
      "text/plain": [
       "'D:\\\\DOWNLOADS\\\\DATA SCIENCE\\\\datasets\\\\datasets'"
      ]
     },
     "execution_count": 347,
     "metadata": {},
     "output_type": "execute_result"
    }
   ],
   "source": [
    "os.getcwd()\n",
    "os.chdir(\"D:\\DOWNLOADS\\DATA SCIENCE\\datasets\\datasets\")\n",
    "os.getcwd()"
   ]
  },
  {
   "cell_type": "code",
   "execution_count": 350,
   "metadata": {},
   "outputs": [],
   "source": [
    "location=\"D:/DOWNLOADS/DATA SCIENCE/datasets/datasets/axisdata.csv\""
   ]
  },
  {
   "cell_type": "code",
   "execution_count": 352,
   "metadata": {},
   "outputs": [
    {
     "data": {
      "text/html": [
       "<div>\n",
       "<style scoped>\n",
       "    .dataframe tbody tr th:only-of-type {\n",
       "        vertical-align: middle;\n",
       "    }\n",
       "\n",
       "    .dataframe tbody tr th {\n",
       "        vertical-align: top;\n",
       "    }\n",
       "\n",
       "    .dataframe thead th {\n",
       "        text-align: right;\n",
       "    }\n",
       "</style>\n",
       "<table border=\"1\" class=\"dataframe\">\n",
       "  <thead>\n",
       "    <tr style=\"text-align: right;\">\n",
       "      <th></th>\n",
       "      <th>Fname</th>\n",
       "      <th>Lname</th>\n",
       "      <th>Gender</th>\n",
       "      <th>Hours Worked</th>\n",
       "      <th>SalesTraining</th>\n",
       "      <th>Years Experience</th>\n",
       "      <th>Cars Sold</th>\n",
       "    </tr>\n",
       "  </thead>\n",
       "  <tbody>\n",
       "    <tr>\n",
       "      <th>0</th>\n",
       "      <td>Jada</td>\n",
       "      <td>Walters</td>\n",
       "      <td>F</td>\n",
       "      <td>39</td>\n",
       "      <td>N</td>\n",
       "      <td>3</td>\n",
       "      <td>2</td>\n",
       "    </tr>\n",
       "    <tr>\n",
       "      <th>1</th>\n",
       "      <td>Nicole</td>\n",
       "      <td>Henderson</td>\n",
       "      <td>F</td>\n",
       "      <td>46</td>\n",
       "      <td>N</td>\n",
       "      <td>3</td>\n",
       "      <td>6</td>\n",
       "    </tr>\n",
       "    <tr>\n",
       "      <th>2</th>\n",
       "      <td>Tanya</td>\n",
       "      <td>Moore</td>\n",
       "      <td>F</td>\n",
       "      <td>42</td>\n",
       "      <td>Y</td>\n",
       "      <td>4</td>\n",
       "      <td>6</td>\n",
       "    </tr>\n",
       "    <tr>\n",
       "      <th>3</th>\n",
       "      <td>Ronelle</td>\n",
       "      <td>Jackson</td>\n",
       "      <td>F</td>\n",
       "      <td>38</td>\n",
       "      <td>Y</td>\n",
       "      <td>5</td>\n",
       "      <td>3</td>\n",
       "    </tr>\n",
       "    <tr>\n",
       "      <th>4</th>\n",
       "      <td>Brad</td>\n",
       "      <td>Sears</td>\n",
       "      <td>M</td>\n",
       "      <td>33</td>\n",
       "      <td>N</td>\n",
       "      <td>4</td>\n",
       "      <td>2</td>\n",
       "    </tr>\n",
       "  </tbody>\n",
       "</table>\n",
       "</div>"
      ],
      "text/plain": [
       "     Fname      Lname Gender  Hours Worked SalesTraining  Years Experience  \\\n",
       "0     Jada   Walters       F            39             N                 3   \n",
       "1   Nicole  Henderson      F            46             N                 3   \n",
       "2    Tanya      Moore      F            42             Y                 4   \n",
       "3  Ronelle    Jackson      F            38             Y                 5   \n",
       "4     Brad      Sears      M            33             N                 4   \n",
       "\n",
       "   Cars Sold  \n",
       "0          2  \n",
       "1          6  \n",
       "2          6  \n",
       "3          3  \n",
       "4          2  "
      ]
     },
     "execution_count": 352,
     "metadata": {},
     "output_type": "execute_result"
    }
   ],
   "source": [
    "df=pd.read_csv(location)\n",
    "df.head()"
   ]
  },
  {
   "cell_type": "code",
   "execution_count": 353,
   "metadata": {},
   "outputs": [
    {
     "data": {
      "text/plain": [
       "Hours Worked        33.727728\n",
       "Years Experience     3.026026\n",
       "Cars Sold            3.922923\n",
       "dtype: float64"
      ]
     },
     "execution_count": 353,
     "metadata": {},
     "output_type": "execute_result"
    }
   ],
   "source": [
    "df.mean()"
   ]
  },
  {
   "cell_type": "code",
   "execution_count": 354,
   "metadata": {},
   "outputs": [
    {
     "data": {
      "text/html": [
       "<div>\n",
       "<style scoped>\n",
       "    .dataframe tbody tr th:only-of-type {\n",
       "        vertical-align: middle;\n",
       "    }\n",
       "\n",
       "    .dataframe tbody tr th {\n",
       "        vertical-align: top;\n",
       "    }\n",
       "\n",
       "    .dataframe thead th {\n",
       "        text-align: right;\n",
       "    }\n",
       "</style>\n",
       "<table border=\"1\" class=\"dataframe\">\n",
       "  <thead>\n",
       "    <tr style=\"text-align: right;\">\n",
       "      <th></th>\n",
       "      <th>Hours Worked</th>\n",
       "      <th>Years Experience</th>\n",
       "      <th>Cars Sold</th>\n",
       "    </tr>\n",
       "  </thead>\n",
       "  <tbody>\n",
       "    <tr>\n",
       "      <th>count</th>\n",
       "      <td>999.000000</td>\n",
       "      <td>999.000000</td>\n",
       "      <td>999.000000</td>\n",
       "    </tr>\n",
       "    <tr>\n",
       "      <th>mean</th>\n",
       "      <td>33.727728</td>\n",
       "      <td>3.026026</td>\n",
       "      <td>3.922923</td>\n",
       "    </tr>\n",
       "    <tr>\n",
       "      <th>std</th>\n",
       "      <td>8.223454</td>\n",
       "      <td>1.394709</td>\n",
       "      <td>1.527000</td>\n",
       "    </tr>\n",
       "    <tr>\n",
       "      <th>min</th>\n",
       "      <td>20.000000</td>\n",
       "      <td>1.000000</td>\n",
       "      <td>1.000000</td>\n",
       "    </tr>\n",
       "    <tr>\n",
       "      <th>25%</th>\n",
       "      <td>27.000000</td>\n",
       "      <td>2.000000</td>\n",
       "      <td>3.000000</td>\n",
       "    </tr>\n",
       "    <tr>\n",
       "      <th>50%</th>\n",
       "      <td>34.000000</td>\n",
       "      <td>3.000000</td>\n",
       "      <td>4.000000</td>\n",
       "    </tr>\n",
       "    <tr>\n",
       "      <th>75%</th>\n",
       "      <td>41.000000</td>\n",
       "      <td>4.000000</td>\n",
       "      <td>5.000000</td>\n",
       "    </tr>\n",
       "    <tr>\n",
       "      <th>max</th>\n",
       "      <td>48.000000</td>\n",
       "      <td>5.000000</td>\n",
       "      <td>7.000000</td>\n",
       "    </tr>\n",
       "  </tbody>\n",
       "</table>\n",
       "</div>"
      ],
      "text/plain": [
       "       Hours Worked  Years Experience   Cars Sold\n",
       "count    999.000000        999.000000  999.000000\n",
       "mean      33.727728          3.026026    3.922923\n",
       "std        8.223454          1.394709    1.527000\n",
       "min       20.000000          1.000000    1.000000\n",
       "25%       27.000000          2.000000    3.000000\n",
       "50%       34.000000          3.000000    4.000000\n",
       "75%       41.000000          4.000000    5.000000\n",
       "max       48.000000          5.000000    7.000000"
      ]
     },
     "execution_count": 354,
     "metadata": {},
     "output_type": "execute_result"
    }
   ],
   "source": [
    "df.describe()"
   ]
  },
  {
   "cell_type": "code",
   "execution_count": 20,
   "metadata": {},
   "outputs": [],
   "source": [
    "import pandas as pd                                #exporting csv"
   ]
  },
  {
   "cell_type": "code",
   "execution_count": 21,
   "metadata": {},
   "outputs": [],
   "source": [
    "names='Bob Jessica Mary John Mel'.split()"
   ]
  },
  {
   "cell_type": "code",
   "execution_count": 22,
   "metadata": {},
   "outputs": [],
   "source": [
    "grades='76 45 43 21 67'.split()\n",
    "GradeZip=zip(names,grades)"
   ]
  },
  {
   "cell_type": "code",
   "execution_count": 24,
   "metadata": {},
   "outputs": [],
   "source": [
    "df= pd.DataFrame(list(GradeZip))"
   ]
  },
  {
   "cell_type": "code",
   "execution_count": 25,
   "metadata": {},
   "outputs": [
    {
     "data": {
      "text/html": [
       "<div>\n",
       "<style scoped>\n",
       "    .dataframe tbody tr th:only-of-type {\n",
       "        vertical-align: middle;\n",
       "    }\n",
       "\n",
       "    .dataframe tbody tr th {\n",
       "        vertical-align: top;\n",
       "    }\n",
       "\n",
       "    .dataframe thead th {\n",
       "        text-align: right;\n",
       "    }\n",
       "</style>\n",
       "<table border=\"1\" class=\"dataframe\">\n",
       "  <thead>\n",
       "    <tr style=\"text-align: right;\">\n",
       "      <th></th>\n",
       "      <th>0</th>\n",
       "      <th>1</th>\n",
       "    </tr>\n",
       "  </thead>\n",
       "  <tbody>\n",
       "    <tr>\n",
       "      <th>0</th>\n",
       "      <td>Bob</td>\n",
       "      <td>76</td>\n",
       "    </tr>\n",
       "    <tr>\n",
       "      <th>1</th>\n",
       "      <td>Jessica</td>\n",
       "      <td>45</td>\n",
       "    </tr>\n",
       "    <tr>\n",
       "      <th>2</th>\n",
       "      <td>Mary</td>\n",
       "      <td>43</td>\n",
       "    </tr>\n",
       "    <tr>\n",
       "      <th>3</th>\n",
       "      <td>John</td>\n",
       "      <td>21</td>\n",
       "    </tr>\n",
       "    <tr>\n",
       "      <th>4</th>\n",
       "      <td>Mel</td>\n",
       "      <td>67</td>\n",
       "    </tr>\n",
       "  </tbody>\n",
       "</table>\n",
       "</div>"
      ],
      "text/plain": [
       "         0   1\n",
       "0      Bob  76\n",
       "1  Jessica  45\n",
       "2     Mary  43\n",
       "3     John  21\n",
       "4      Mel  67"
      ]
     },
     "execution_count": 25,
     "metadata": {},
     "output_type": "execute_result"
    }
   ],
   "source": [
    "df"
   ]
  },
  {
   "cell_type": "code",
   "execution_count": 26,
   "metadata": {},
   "outputs": [
    {
     "data": {
      "text/plain": [
       "'C:\\\\Users\\\\Windows'"
      ]
     },
     "execution_count": 26,
     "metadata": {},
     "output_type": "execute_result"
    }
   ],
   "source": [
    "import os\n",
    "os.getcwd()"
   ]
  },
  {
   "cell_type": "code",
   "execution_count": 29,
   "metadata": {},
   "outputs": [],
   "source": [
    "os.chdir('C://Users//Windows/Desktop/')"
   ]
  },
  {
   "cell_type": "code",
   "execution_count": 30,
   "metadata": {},
   "outputs": [
    {
     "data": {
      "text/plain": [
       "'C:\\\\Users\\\\Windows\\\\Desktop'"
      ]
     },
     "execution_count": 30,
     "metadata": {},
     "output_type": "execute_result"
    }
   ],
   "source": [
    "os.getcwd()"
   ]
  },
  {
   "cell_type": "code",
   "execution_count": 38,
   "metadata": {},
   "outputs": [],
   "source": [
    "df.to_csv('C:/Users/Windows/Desktop/filecsv.csv',header=False)"
   ]
  },
  {
   "cell_type": "code",
   "execution_count": null,
   "metadata": {},
   "outputs": [],
   "source": []
  },
  {
   "cell_type": "code",
   "execution_count": 37,
   "metadata": {},
   "outputs": [],
   "source": [
    "df= pd.read_excel('D:\\\\DOWNLOADS\\\\DATA SCIENCE\\\\datasets\\\\datasets\\\\algebradata.xlsx') # EXCEL IMPORT"
   ]
  },
  {
   "cell_type": "code",
   "execution_count": 35,
   "metadata": {},
   "outputs": [
    {
     "data": {
      "text/html": [
       "<div>\n",
       "<style scoped>\n",
       "    .dataframe tbody tr th:only-of-type {\n",
       "        vertical-align: middle;\n",
       "    }\n",
       "\n",
       "    .dataframe tbody tr th {\n",
       "        vertical-align: top;\n",
       "    }\n",
       "\n",
       "    .dataframe thead th {\n",
       "        text-align: right;\n",
       "    }\n",
       "</style>\n",
       "<table border=\"1\" class=\"dataframe\">\n",
       "  <thead>\n",
       "    <tr style=\"text-align: right;\">\n",
       "      <th></th>\n",
       "      <th>Fname</th>\n",
       "      <th>Lname</th>\n",
       "      <th>Gender</th>\n",
       "      <th>Grade</th>\n",
       "      <th>Hours of Study</th>\n",
       "    </tr>\n",
       "  </thead>\n",
       "  <tbody>\n",
       "    <tr>\n",
       "      <th>0</th>\n",
       "      <td>Mary</td>\n",
       "      <td>Ettienne</td>\n",
       "      <td>F</td>\n",
       "      <td>B</td>\n",
       "      <td>16</td>\n",
       "    </tr>\n",
       "    <tr>\n",
       "      <th>1</th>\n",
       "      <td>Charles</td>\n",
       "      <td>Looner</td>\n",
       "      <td>M</td>\n",
       "      <td>F</td>\n",
       "      <td>8</td>\n",
       "    </tr>\n",
       "    <tr>\n",
       "      <th>2</th>\n",
       "      <td>Betty</td>\n",
       "      <td>Franklin</td>\n",
       "      <td>F</td>\n",
       "      <td>A</td>\n",
       "      <td>24</td>\n",
       "    </tr>\n",
       "    <tr>\n",
       "      <th>3</th>\n",
       "      <td>Roger</td>\n",
       "      <td>Withers</td>\n",
       "      <td>M</td>\n",
       "      <td>C</td>\n",
       "      <td>5</td>\n",
       "    </tr>\n",
       "    <tr>\n",
       "      <th>4</th>\n",
       "      <td>John</td>\n",
       "      <td>Mulgrew</td>\n",
       "      <td>M</td>\n",
       "      <td>A</td>\n",
       "      <td>5</td>\n",
       "    </tr>\n",
       "  </tbody>\n",
       "</table>\n",
       "</div>"
      ],
      "text/plain": [
       "     Fname     Lname Gender Grade  Hours of Study\n",
       "0     Mary  Ettienne      F     B              16\n",
       "1  Charles    Looner      M     F               8\n",
       "2    Betty  Franklin      F     A              24\n",
       "3    Roger   Withers      M     C               5\n",
       "4     John   Mulgrew      M     A               5"
      ]
     },
     "execution_count": 35,
     "metadata": {},
     "output_type": "execute_result"
    }
   ],
   "source": [
    "df.head()"
   ]
  },
  {
   "cell_type": "markdown",
   "metadata": {},
   "source": []
  },
  {
   "cell_type": "code",
   "execution_count": 44,
   "metadata": {},
   "outputs": [],
   "source": [
    "df.to_excel('C:\\\\Users\\\\Windows\\\\Desktop\\\\theexcelfile.xlsx',sheet_name='sheet2')         #EXPORTING single EXCEL"
   ]
  },
  {
   "cell_type": "code",
   "execution_count": 47,
   "metadata": {},
   "outputs": [],
   "source": [
    "df = pd.DataFrame(list(GradeZip), columns=['Names','Grades'])"
   ]
  },
  {
   "cell_type": "code",
   "execution_count": 48,
   "metadata": {},
   "outputs": [
    {
     "data": {
      "text/html": [
       "<div>\n",
       "<style scoped>\n",
       "    .dataframe tbody tr th:only-of-type {\n",
       "        vertical-align: middle;\n",
       "    }\n",
       "\n",
       "    .dataframe tbody tr th {\n",
       "        vertical-align: top;\n",
       "    }\n",
       "\n",
       "    .dataframe thead th {\n",
       "        text-align: right;\n",
       "    }\n",
       "</style>\n",
       "<table border=\"1\" class=\"dataframe\">\n",
       "  <thead>\n",
       "    <tr style=\"text-align: right;\">\n",
       "      <th></th>\n",
       "      <th>Names</th>\n",
       "      <th>Grades</th>\n",
       "    </tr>\n",
       "  </thead>\n",
       "  <tbody>\n",
       "  </tbody>\n",
       "</table>\n",
       "</div>"
      ],
      "text/plain": [
       "Empty DataFrame\n",
       "Columns: [Names, Grades]\n",
       "Index: []"
      ]
     },
     "execution_count": 48,
     "metadata": {},
     "output_type": "execute_result"
    }
   ],
   "source": [
    "df"
   ]
  },
  {
   "cell_type": "code",
   "execution_count": 49,
   "metadata": {},
   "outputs": [],
   "source": [
    "df2 = pd.DataFrame(list(GradeZip), columns=['Names','Grades'])"
   ]
  },
  {
   "cell_type": "code",
   "execution_count": 50,
   "metadata": {},
   "outputs": [
    {
     "data": {
      "text/html": [
       "<div>\n",
       "<style scoped>\n",
       "    .dataframe tbody tr th:only-of-type {\n",
       "        vertical-align: middle;\n",
       "    }\n",
       "\n",
       "    .dataframe tbody tr th {\n",
       "        vertical-align: top;\n",
       "    }\n",
       "\n",
       "    .dataframe thead th {\n",
       "        text-align: right;\n",
       "    }\n",
       "</style>\n",
       "<table border=\"1\" class=\"dataframe\">\n",
       "  <thead>\n",
       "    <tr style=\"text-align: right;\">\n",
       "      <th></th>\n",
       "      <th>Names</th>\n",
       "      <th>Grades</th>\n",
       "    </tr>\n",
       "  </thead>\n",
       "  <tbody>\n",
       "  </tbody>\n",
       "</table>\n",
       "</div>"
      ],
      "text/plain": [
       "Empty DataFrame\n",
       "Columns: [Names, Grades]\n",
       "Index: []"
      ]
     },
     "execution_count": 50,
     "metadata": {},
     "output_type": "execute_result"
    }
   ],
   "source": [
    "df2"
   ]
  },
  {
   "cell_type": "code",
   "execution_count": 51,
   "metadata": {},
   "outputs": [],
   "source": [
    "writer=pd.ExcelWriter('D:\\\\DOWNLOADS\\\\DATA SCIENCE\\\\datasets\\\\datasets\\\\algebradata.xlsx',engine=\"xlsxwriter\") #for multiple excel exports"
   ]
  },
  {
   "cell_type": "code",
   "execution_count": 52,
   "metadata": {},
   "outputs": [],
   "source": [
    "df.to_excel(writer,\"Sheet_1\")\n",
    "df2.to_excel(writer,\"Sheet_1\")"
   ]
  },
  {
   "cell_type": "code",
   "execution_count": 53,
   "metadata": {},
   "outputs": [],
   "source": [
    "writer.save()"
   ]
  },
  {
   "cell_type": "code",
   "execution_count": null,
   "metadata": {},
   "outputs": [],
   "source": []
  },
  {
   "cell_type": "code",
   "execution_count": 59,
   "metadata": {},
   "outputs": [],
   "source": [
    "import glob"
   ]
  },
  {
   "cell_type": "code",
   "execution_count": 82,
   "metadata": {},
   "outputs": [
    {
     "data": {
      "text/plain": [
       "'C:\\\\Users\\\\Windows\\\\Desktop'"
      ]
     },
     "execution_count": 82,
     "metadata": {},
     "output_type": "execute_result"
    }
   ],
   "source": [
    "os.getcwd()"
   ]
  },
  {
   "cell_type": "code",
   "execution_count": 84,
   "metadata": {},
   "outputs": [],
   "source": [
    "all_data=pd.DataFrame()     # combining excel files using glob\n",
    "\n",
    "for x in glob.glob('D:\\DOWNLOADS\\DATA SCIENCE\\datasets\\datasets\\weekly_call_data\\weekdata_*.xlsx'):\n",
    "    df =pd.read_excel(x)\n",
    "    all_data=all_data.append(df,ignore_index=True)"
   ]
  },
  {
   "cell_type": "code",
   "execution_count": 85,
   "metadata": {},
   "outputs": [
    {
     "data": {
      "text/html": [
       "<div>\n",
       "<style scoped>\n",
       "    .dataframe tbody tr th:only-of-type {\n",
       "        vertical-align: middle;\n",
       "    }\n",
       "\n",
       "    .dataframe tbody tr th {\n",
       "        vertical-align: top;\n",
       "    }\n",
       "\n",
       "    .dataframe thead th {\n",
       "        text-align: right;\n",
       "    }\n",
       "</style>\n",
       "<table border=\"1\" class=\"dataframe\">\n",
       "  <thead>\n",
       "    <tr style=\"text-align: right;\">\n",
       "      <th></th>\n",
       "      <th>CallingNumber</th>\n",
       "      <th>DayOfWeek</th>\n",
       "      <th>TimeOfDay</th>\n",
       "      <th>CallDuration</th>\n",
       "      <th>ReasonForCall</th>\n",
       "      <th>AnsweringAgent</th>\n",
       "    </tr>\n",
       "  </thead>\n",
       "  <tbody>\n",
       "    <tr>\n",
       "      <th>129583</th>\n",
       "      <td>420-535-7591</td>\n",
       "      <td>mon</td>\n",
       "      <td>09:34</td>\n",
       "      <td>23</td>\n",
       "      <td>Product Inquiry</td>\n",
       "      <td>David</td>\n",
       "    </tr>\n",
       "    <tr>\n",
       "      <th>129584</th>\n",
       "      <td>351-682-2460</td>\n",
       "      <td>wed</td>\n",
       "      <td>10:11</td>\n",
       "      <td>9</td>\n",
       "      <td>Complaint</td>\n",
       "      <td>Maria</td>\n",
       "    </tr>\n",
       "    <tr>\n",
       "      <th>129585</th>\n",
       "      <td>143-883-4281</td>\n",
       "      <td>wed</td>\n",
       "      <td>10:26</td>\n",
       "      <td>3</td>\n",
       "      <td>Technical Support</td>\n",
       "      <td>Lisa</td>\n",
       "    </tr>\n",
       "    <tr>\n",
       "      <th>129586</th>\n",
       "      <td>847-303-7391</td>\n",
       "      <td>tue</td>\n",
       "      <td>14:28</td>\n",
       "      <td>24</td>\n",
       "      <td>Return</td>\n",
       "      <td>Roland</td>\n",
       "    </tr>\n",
       "    <tr>\n",
       "      <th>129587</th>\n",
       "      <td>365-513-5324</td>\n",
       "      <td>mon</td>\n",
       "      <td>15:09</td>\n",
       "      <td>2</td>\n",
       "      <td>Product Inquiry</td>\n",
       "      <td>Kennedy</td>\n",
       "    </tr>\n",
       "  </tbody>\n",
       "</table>\n",
       "</div>"
      ],
      "text/plain": [
       "       CallingNumber DayOfWeek TimeOfDay  CallDuration      ReasonForCall  \\\n",
       "129583  420-535-7591       mon     09:34            23    Product Inquiry   \n",
       "129584  351-682-2460       wed     10:11             9          Complaint   \n",
       "129585  143-883-4281       wed     10:26             3  Technical Support   \n",
       "129586  847-303-7391       tue     14:28            24             Return   \n",
       "129587  365-513-5324       mon     15:09             2    Product Inquiry   \n",
       "\n",
       "       AnsweringAgent  \n",
       "129583          David  \n",
       "129584          Maria  \n",
       "129585           Lisa  \n",
       "129586         Roland  \n",
       "129587        Kennedy  "
      ]
     },
     "execution_count": 85,
     "metadata": {},
     "output_type": "execute_result"
    }
   ],
   "source": [
    "all_data.tail()"
   ]
  },
  {
   "cell_type": "code",
   "execution_count": 74,
   "metadata": {},
   "outputs": [
    {
     "name": "stdout",
     "output_type": "stream",
     "text": [
      "Empty DataFrame\n",
      "Columns: []\n",
      "Index: []\n"
     ]
    }
   ],
   "source": [
    "print(all_data)"
   ]
  },
  {
   "cell_type": "code",
   "execution_count": null,
   "metadata": {},
   "outputs": [],
   "source": []
  },
  {
   "cell_type": "code",
   "execution_count": null,
   "metadata": {},
   "outputs": [],
   "source": []
  },
  {
   "cell_type": "code",
   "execution_count": 76,
   "metadata": {},
   "outputs": [],
   "source": [
    "import pandas as pd              #DATAFRAME FROM RANDOM VALUES\n",
    "from numpy import random\n",
    "from numpy.random import randint"
   ]
  },
  {
   "cell_type": "code",
   "execution_count": 95,
   "metadata": {},
   "outputs": [],
   "source": [
    "#names = ['Bob','Jessica','Mary','John','Mel']\n",
    "randnames = [] \n",
    "for i in range(1000):\n",
    "    name = names[randint(low=0, high=len(names))]\n",
    "    randnames.append(name)                                            "
   ]
  },
  {
   "cell_type": "code",
   "execution_count": 96,
   "metadata": {},
   "outputs": [],
   "source": [
    "births = []\n",
    "for i in range(1000):\n",
    "    births.append(randint(low=0, high=1000))\n"
   ]
  },
  {
   "cell_type": "code",
   "execution_count": 99,
   "metadata": {},
   "outputs": [
    {
     "data": {
      "text/html": [
       "<div>\n",
       "<style scoped>\n",
       "    .dataframe tbody tr th:only-of-type {\n",
       "        vertical-align: middle;\n",
       "    }\n",
       "\n",
       "    .dataframe tbody tr th {\n",
       "        vertical-align: top;\n",
       "    }\n",
       "\n",
       "    .dataframe thead th {\n",
       "        text-align: right;\n",
       "    }\n",
       "</style>\n",
       "<table border=\"1\" class=\"dataframe\">\n",
       "  <thead>\n",
       "    <tr style=\"text-align: right;\">\n",
       "      <th></th>\n",
       "      <th>Names</th>\n",
       "      <th>Births</th>\n",
       "    </tr>\n",
       "  </thead>\n",
       "  <tbody>\n",
       "    <tr>\n",
       "      <th>0</th>\n",
       "      <td>Bob</td>\n",
       "      <td>942</td>\n",
       "    </tr>\n",
       "    <tr>\n",
       "      <th>1</th>\n",
       "      <td>John</td>\n",
       "      <td>714</td>\n",
       "    </tr>\n",
       "    <tr>\n",
       "      <th>2</th>\n",
       "      <td>Mel</td>\n",
       "      <td>969</td>\n",
       "    </tr>\n",
       "    <tr>\n",
       "      <th>3</th>\n",
       "      <td>John</td>\n",
       "      <td>342</td>\n",
       "    </tr>\n",
       "    <tr>\n",
       "      <th>4</th>\n",
       "      <td>Bob</td>\n",
       "      <td>338</td>\n",
       "    </tr>\n",
       "  </tbody>\n",
       "</table>\n",
       "</div>"
      ],
      "text/plain": [
       "  Names  Births\n",
       "0   Bob     942\n",
       "1  John     714\n",
       "2   Mel     969\n",
       "3  John     342\n",
       "4   Bob     338"
      ]
     },
     "execution_count": 99,
     "metadata": {},
     "output_type": "execute_result"
    }
   ],
   "source": [
    "Babydataset = list(zip(randnames, births))\n",
    "df = pd.DataFrame(data = Babydataset, columns=['Names', 'Births'])\n",
    "df.head()"
   ]
  },
  {
   "cell_type": "code",
   "execution_count": null,
   "metadata": {},
   "outputs": [],
   "source": []
  },
  {
   "cell_type": "markdown",
   "metadata": {},
   "source": [
    "# CREATING NEW VARIABLES"
   ]
  },
  {
   "cell_type": "code",
   "execution_count": 3,
   "metadata": {},
   "outputs": [],
   "source": [
    "import numpy as np\n",
    "import pandas as pd\n"
   ]
  },
  {
   "cell_type": "code",
   "execution_count": 33,
   "metadata": {},
   "outputs": [],
   "source": [
    "df=pd.read_csv('D:\\\\DOWNLOADS\\\\DATA SCIENCE\\\\datasets\\\\datasets\\\\algebradata.csv')"
   ]
  },
  {
   "cell_type": "code",
   "execution_count": 34,
   "metadata": {},
   "outputs": [
    {
     "data": {
      "text/html": [
       "<div>\n",
       "<style scoped>\n",
       "    .dataframe tbody tr th:only-of-type {\n",
       "        vertical-align: middle;\n",
       "    }\n",
       "\n",
       "    .dataframe tbody tr th {\n",
       "        vertical-align: top;\n",
       "    }\n",
       "\n",
       "    .dataframe thead th {\n",
       "        text-align: right;\n",
       "    }\n",
       "</style>\n",
       "<table border=\"1\" class=\"dataframe\">\n",
       "  <thead>\n",
       "    <tr style=\"text-align: right;\">\n",
       "      <th></th>\n",
       "      <th>Fname</th>\n",
       "      <th>Lname</th>\n",
       "      <th>Gender</th>\n",
       "      <th>Grade</th>\n",
       "      <th>Hours of Study</th>\n",
       "    </tr>\n",
       "  </thead>\n",
       "  <tbody>\n",
       "    <tr>\n",
       "      <th>0</th>\n",
       "      <td>Mary</td>\n",
       "      <td>Ettienne</td>\n",
       "      <td>F</td>\n",
       "      <td>B</td>\n",
       "      <td>16</td>\n",
       "    </tr>\n",
       "    <tr>\n",
       "      <th>1</th>\n",
       "      <td>Charles</td>\n",
       "      <td>Looner</td>\n",
       "      <td>M</td>\n",
       "      <td>F</td>\n",
       "      <td>8</td>\n",
       "    </tr>\n",
       "    <tr>\n",
       "      <th>2</th>\n",
       "      <td>Betty</td>\n",
       "      <td>Franklin</td>\n",
       "      <td>F</td>\n",
       "      <td>A</td>\n",
       "      <td>24</td>\n",
       "    </tr>\n",
       "    <tr>\n",
       "      <th>3</th>\n",
       "      <td>Roger</td>\n",
       "      <td>Withers</td>\n",
       "      <td>M</td>\n",
       "      <td>C</td>\n",
       "      <td>5</td>\n",
       "    </tr>\n",
       "    <tr>\n",
       "      <th>4</th>\n",
       "      <td>John</td>\n",
       "      <td>Mulgrew</td>\n",
       "      <td>M</td>\n",
       "      <td>A</td>\n",
       "      <td>5</td>\n",
       "    </tr>\n",
       "  </tbody>\n",
       "</table>\n",
       "</div>"
      ],
      "text/plain": [
       "     Fname     Lname Gender Grade  Hours of Study\n",
       "0     Mary  Ettienne      F     B              16\n",
       "1  Charles    Looner      M     F               8\n",
       "2    Betty  Franklin      F     A              24\n",
       "3    Roger   Withers      M     C               5\n",
       "4     John   Mulgrew      M     A               5"
      ]
     },
     "execution_count": 34,
     "metadata": {},
     "output_type": "execute_result"
    }
   ],
   "source": [
    "df.head()"
   ]
  },
  {
   "cell_type": "code",
   "execution_count": 121,
   "metadata": {
    "scrolled": true
   },
   "outputs": [
    {
     "data": {
      "text/plain": [
       "count    999.000000\n",
       "mean      15.115115\n",
       "std        8.991187\n",
       "min        0.000000\n",
       "25%        7.000000\n",
       "50%       15.000000\n",
       "75%       23.000000\n",
       "max       30.000000\n",
       "Name: Hours of Study, dtype: float64"
      ]
     },
     "execution_count": 121,
     "metadata": {},
     "output_type": "execute_result"
    }
   ],
   "source": [
    "df['Hours of Study'].describe()"
   ]
  },
  {
   "cell_type": "code",
   "execution_count": 120,
   "metadata": {},
   "outputs": [
    {
     "data": {
      "text/plain": [
       "0"
      ]
     },
     "execution_count": 120,
     "metadata": {},
     "output_type": "execute_result"
    }
   ],
   "source": [
    "df['Hours of Study'].min()"
   ]
  },
  {
   "cell_type": "code",
   "execution_count": 7,
   "metadata": {},
   "outputs": [],
   "source": [
    "bins=[0,5,10,15,20,25,30]\n",
    "grouping_name='F E D C B A'.split()"
   ]
  },
  {
   "cell_type": "code",
   "execution_count": 8,
   "metadata": {},
   "outputs": [],
   "source": [
    "df['letter grade']=pd.cut(df['Hours of Study'],bins,labels=grouping_name)"
   ]
  },
  {
   "cell_type": "code",
   "execution_count": 140,
   "metadata": {},
   "outputs": [],
   "source": [
    "dff=df[0:5]"
   ]
  },
  {
   "cell_type": "code",
   "execution_count": 141,
   "metadata": {},
   "outputs": [
    {
     "data": {
      "text/html": [
       "<div>\n",
       "<style scoped>\n",
       "    .dataframe tbody tr th:only-of-type {\n",
       "        vertical-align: middle;\n",
       "    }\n",
       "\n",
       "    .dataframe tbody tr th {\n",
       "        vertical-align: top;\n",
       "    }\n",
       "\n",
       "    .dataframe thead th {\n",
       "        text-align: right;\n",
       "    }\n",
       "</style>\n",
       "<table border=\"1\" class=\"dataframe\">\n",
       "  <thead>\n",
       "    <tr style=\"text-align: right;\">\n",
       "      <th></th>\n",
       "      <th>Fname</th>\n",
       "      <th>Lname</th>\n",
       "      <th>Gender</th>\n",
       "      <th>Grade</th>\n",
       "      <th>Hours of Study</th>\n",
       "      <th>letter grade</th>\n",
       "    </tr>\n",
       "  </thead>\n",
       "  <tbody>\n",
       "    <tr>\n",
       "      <th>0</th>\n",
       "      <td>Mary</td>\n",
       "      <td>Ettienne</td>\n",
       "      <td>F</td>\n",
       "      <td>B</td>\n",
       "      <td>16</td>\n",
       "      <td>C</td>\n",
       "    </tr>\n",
       "    <tr>\n",
       "      <th>1</th>\n",
       "      <td>Charles</td>\n",
       "      <td>Looner</td>\n",
       "      <td>M</td>\n",
       "      <td>F</td>\n",
       "      <td>8</td>\n",
       "      <td>E</td>\n",
       "    </tr>\n",
       "    <tr>\n",
       "      <th>2</th>\n",
       "      <td>Betty</td>\n",
       "      <td>Franklin</td>\n",
       "      <td>F</td>\n",
       "      <td>A</td>\n",
       "      <td>24</td>\n",
       "      <td>B</td>\n",
       "    </tr>\n",
       "    <tr>\n",
       "      <th>3</th>\n",
       "      <td>Roger</td>\n",
       "      <td>Withers</td>\n",
       "      <td>M</td>\n",
       "      <td>C</td>\n",
       "      <td>5</td>\n",
       "      <td>F</td>\n",
       "    </tr>\n",
       "    <tr>\n",
       "      <th>4</th>\n",
       "      <td>John</td>\n",
       "      <td>Mulgrew</td>\n",
       "      <td>M</td>\n",
       "      <td>A</td>\n",
       "      <td>5</td>\n",
       "      <td>F</td>\n",
       "    </tr>\n",
       "  </tbody>\n",
       "</table>\n",
       "</div>"
      ],
      "text/plain": [
       "     Fname     Lname Gender Grade  Hours of Study letter grade\n",
       "0     Mary  Ettienne      F     B              16            C\n",
       "1  Charles    Looner      M     F               8            E\n",
       "2    Betty  Franklin      F     A              24            B\n",
       "3    Roger   Withers      M     C               5            F\n",
       "4     John   Mulgrew      M     A               5            F"
      ]
     },
     "execution_count": 141,
     "metadata": {},
     "output_type": "execute_result"
    }
   ],
   "source": [
    "dff"
   ]
  },
  {
   "cell_type": "code",
   "execution_count": 12,
   "metadata": {},
   "outputs": [
    {
     "data": {
      "text/plain": [
       "A    175\n",
       "D    175\n",
       "C    162\n",
       "F    162\n",
       "B    149\n",
       "E    143\n",
       "Name: letter grade, dtype: int64"
      ]
     },
     "execution_count": 12,
     "metadata": {},
     "output_type": "execute_result"
    }
   ],
   "source": [
    "pd.value_counts(df['letter grade'])"
   ]
  },
  {
   "cell_type": "code",
   "execution_count": 19,
   "metadata": {},
   "outputs": [],
   "source": [
    "bins=[0,15,30]\n",
    "status=['fail','pass']"
   ]
  },
  {
   "cell_type": "code",
   "execution_count": 20,
   "metadata": {},
   "outputs": [],
   "source": [
    "df['status_p_f']=pd.cut(df['Hours of Study'],bins,labels=status)"
   ]
  },
  {
   "cell_type": "code",
   "execution_count": 22,
   "metadata": {},
   "outputs": [
    {
     "data": {
      "text/html": [
       "<div>\n",
       "<style scoped>\n",
       "    .dataframe tbody tr th:only-of-type {\n",
       "        vertical-align: middle;\n",
       "    }\n",
       "\n",
       "    .dataframe tbody tr th {\n",
       "        vertical-align: top;\n",
       "    }\n",
       "\n",
       "    .dataframe thead th {\n",
       "        text-align: right;\n",
       "    }\n",
       "</style>\n",
       "<table border=\"1\" class=\"dataframe\">\n",
       "  <thead>\n",
       "    <tr style=\"text-align: right;\">\n",
       "      <th></th>\n",
       "      <th>Fname</th>\n",
       "      <th>Lname</th>\n",
       "      <th>Gender</th>\n",
       "      <th>Grade</th>\n",
       "      <th>Hours of Study</th>\n",
       "      <th>letter grade</th>\n",
       "      <th>status_p_f</th>\n",
       "    </tr>\n",
       "  </thead>\n",
       "  <tbody>\n",
       "    <tr>\n",
       "      <th>0</th>\n",
       "      <td>Mary</td>\n",
       "      <td>Ettienne</td>\n",
       "      <td>F</td>\n",
       "      <td>B</td>\n",
       "      <td>16</td>\n",
       "      <td>C</td>\n",
       "      <td>pass</td>\n",
       "    </tr>\n",
       "    <tr>\n",
       "      <th>1</th>\n",
       "      <td>Charles</td>\n",
       "      <td>Looner</td>\n",
       "      <td>M</td>\n",
       "      <td>F</td>\n",
       "      <td>8</td>\n",
       "      <td>E</td>\n",
       "      <td>fail</td>\n",
       "    </tr>\n",
       "    <tr>\n",
       "      <th>2</th>\n",
       "      <td>Betty</td>\n",
       "      <td>Franklin</td>\n",
       "      <td>F</td>\n",
       "      <td>A</td>\n",
       "      <td>24</td>\n",
       "      <td>B</td>\n",
       "      <td>pass</td>\n",
       "    </tr>\n",
       "    <tr>\n",
       "      <th>3</th>\n",
       "      <td>Roger</td>\n",
       "      <td>Withers</td>\n",
       "      <td>M</td>\n",
       "      <td>C</td>\n",
       "      <td>5</td>\n",
       "      <td>F</td>\n",
       "      <td>fail</td>\n",
       "    </tr>\n",
       "    <tr>\n",
       "      <th>4</th>\n",
       "      <td>John</td>\n",
       "      <td>Mulgrew</td>\n",
       "      <td>M</td>\n",
       "      <td>A</td>\n",
       "      <td>5</td>\n",
       "      <td>F</td>\n",
       "      <td>fail</td>\n",
       "    </tr>\n",
       "  </tbody>\n",
       "</table>\n",
       "</div>"
      ],
      "text/plain": [
       "     Fname     Lname Gender Grade  Hours of Study letter grade status_p_f\n",
       "0     Mary  Ettienne      F     B              16            C       pass\n",
       "1  Charles    Looner      M     F               8            E       fail\n",
       "2    Betty  Franklin      F     A              24            B       pass\n",
       "3    Roger   Withers      M     C               5            F       fail\n",
       "4     John   Mulgrew      M     A               5            F       fail"
      ]
     },
     "execution_count": 22,
     "metadata": {},
     "output_type": "execute_result"
    }
   ],
   "source": [
    "df.head()"
   ]
  },
  {
   "cell_type": "code",
   "execution_count": 23,
   "metadata": {},
   "outputs": [
    {
     "data": {
      "text/plain": [
       "pass    486\n",
       "fail    480\n",
       "Name: status_p_f, dtype: int64"
      ]
     },
     "execution_count": 23,
     "metadata": {},
     "output_type": "execute_result"
    }
   ],
   "source": [
    "pd.value_counts(df['status_p_f'])"
   ]
  },
  {
   "cell_type": "code",
   "execution_count": null,
   "metadata": {},
   "outputs": [],
   "source": []
  },
  {
   "cell_type": "markdown",
   "metadata": {},
   "source": [
    "# Group by"
   ]
  },
  {
   "cell_type": "code",
   "execution_count": 24,
   "metadata": {},
   "outputs": [],
   "source": [
    "import pandas as pd"
   ]
  },
  {
   "cell_type": "code",
   "execution_count": 51,
   "metadata": {},
   "outputs": [],
   "source": [
    "df=pd.DataFrame({'A':['foo','bar','foo','bar','foo','candy'],\n",
    "                 'B':['one','two','three','one','three','two'],\n",
    "                 'C':np.random.randn(6),\n",
    "                 'D':np.random.randn(6)})"
   ]
  },
  {
   "cell_type": "code",
   "execution_count": null,
   "metadata": {},
   "outputs": [],
   "source": []
  },
  {
   "cell_type": "code",
   "execution_count": 43,
   "metadata": {},
   "outputs": [
    {
     "data": {
      "text/html": [
       "<div>\n",
       "<style scoped>\n",
       "    .dataframe tbody tr th:only-of-type {\n",
       "        vertical-align: middle;\n",
       "    }\n",
       "\n",
       "    .dataframe tbody tr th {\n",
       "        vertical-align: top;\n",
       "    }\n",
       "\n",
       "    .dataframe thead th {\n",
       "        text-align: right;\n",
       "    }\n",
       "</style>\n",
       "<table border=\"1\" class=\"dataframe\">\n",
       "  <thead>\n",
       "    <tr style=\"text-align: right;\">\n",
       "      <th></th>\n",
       "      <th>A</th>\n",
       "      <th>B</th>\n",
       "      <th>C</th>\n",
       "      <th>D</th>\n",
       "    </tr>\n",
       "  </thead>\n",
       "  <tbody>\n",
       "    <tr>\n",
       "      <th>1</th>\n",
       "      <td>foo</td>\n",
       "      <td>one</td>\n",
       "      <td>2.486892</td>\n",
       "      <td>-0.508783</td>\n",
       "    </tr>\n",
       "    <tr>\n",
       "      <th>2</th>\n",
       "      <td>bar</td>\n",
       "      <td>two</td>\n",
       "      <td>1.031337</td>\n",
       "      <td>-0.610913</td>\n",
       "    </tr>\n",
       "    <tr>\n",
       "      <th>1</th>\n",
       "      <td>foo</td>\n",
       "      <td>three</td>\n",
       "      <td>-0.239719</td>\n",
       "      <td>-1.017730</td>\n",
       "    </tr>\n",
       "    <tr>\n",
       "      <th>2</th>\n",
       "      <td>bar</td>\n",
       "      <td>one</td>\n",
       "      <td>0.163809</td>\n",
       "      <td>0.000879</td>\n",
       "    </tr>\n",
       "    <tr>\n",
       "      <th>1</th>\n",
       "      <td>foo</td>\n",
       "      <td>three</td>\n",
       "      <td>1.286851</td>\n",
       "      <td>-0.354785</td>\n",
       "    </tr>\n",
       "    <tr>\n",
       "      <th>2</th>\n",
       "      <td>candy</td>\n",
       "      <td>two</td>\n",
       "      <td>1.137203</td>\n",
       "      <td>-1.107887</td>\n",
       "    </tr>\n",
       "  </tbody>\n",
       "</table>\n",
       "</div>"
      ],
      "text/plain": [
       "       A      B         C         D\n",
       "1    foo    one  2.486892 -0.508783\n",
       "2    bar    two  1.031337 -0.610913\n",
       "1    foo  three -0.239719 -1.017730\n",
       "2    bar    one  0.163809  0.000879\n",
       "1    foo  three  1.286851 -0.354785\n",
       "2  candy    two  1.137203 -1.107887"
      ]
     },
     "execution_count": 43,
     "metadata": {},
     "output_type": "execute_result"
    }
   ],
   "source": [
    "df"
   ]
  },
  {
   "cell_type": "code",
   "execution_count": 40,
   "metadata": {},
   "outputs": [
    {
     "name": "stdout",
     "output_type": "stream",
     "text": [
      "<pandas.core.groupby.groupby.DataFrameGroupBy object at 0x0000022AB4E8DA20>\n"
     ]
    }
   ],
   "source": [
    "grouped=df.groupby('A')\n",
    "print(grouped)"
   ]
  },
  {
   "cell_type": "code",
   "execution_count": 38,
   "metadata": {},
   "outputs": [
    {
     "name": "stdout",
     "output_type": "stream",
     "text": [
      "<pandas.core.groupby.groupby.DataFrameGroupBy object at 0x0000022AB4E8DE48>\n"
     ]
    }
   ],
   "source": [
    "grouped = df.groupby(['A', 'B'])\n",
    "print(grouped)"
   ]
  },
  {
   "cell_type": "code",
   "execution_count": 41,
   "metadata": {},
   "outputs": [
    {
     "data": {
      "text/html": [
       "<div>\n",
       "<style scoped>\n",
       "    .dataframe tbody tr th:only-of-type {\n",
       "        vertical-align: middle;\n",
       "    }\n",
       "\n",
       "    .dataframe tbody tr th {\n",
       "        vertical-align: top;\n",
       "    }\n",
       "\n",
       "    .dataframe thead th {\n",
       "        text-align: right;\n",
       "    }\n",
       "</style>\n",
       "<table border=\"1\" class=\"dataframe\">\n",
       "  <thead>\n",
       "    <tr style=\"text-align: right;\">\n",
       "      <th></th>\n",
       "      <th>A</th>\n",
       "      <th>B</th>\n",
       "      <th>C</th>\n",
       "      <th>D</th>\n",
       "    </tr>\n",
       "  </thead>\n",
       "  <tbody>\n",
       "    <tr>\n",
       "      <th>0</th>\n",
       "      <td>foo</td>\n",
       "      <td>one</td>\n",
       "      <td>-0.662961</td>\n",
       "      <td>-0.909283</td>\n",
       "    </tr>\n",
       "    <tr>\n",
       "      <th>1</th>\n",
       "      <td>bar</td>\n",
       "      <td>two</td>\n",
       "      <td>-0.107246</td>\n",
       "      <td>-0.786643</td>\n",
       "    </tr>\n",
       "    <tr>\n",
       "      <th>2</th>\n",
       "      <td>foo</td>\n",
       "      <td>three</td>\n",
       "      <td>-0.512840</td>\n",
       "      <td>-0.026111</td>\n",
       "    </tr>\n",
       "    <tr>\n",
       "      <th>3</th>\n",
       "      <td>bar</td>\n",
       "      <td>one</td>\n",
       "      <td>-0.337893</td>\n",
       "      <td>0.150412</td>\n",
       "    </tr>\n",
       "    <tr>\n",
       "      <th>4</th>\n",
       "      <td>foo</td>\n",
       "      <td>three</td>\n",
       "      <td>-1.173615</td>\n",
       "      <td>1.223590</td>\n",
       "    </tr>\n",
       "    <tr>\n",
       "      <th>5</th>\n",
       "      <td>candy</td>\n",
       "      <td>two</td>\n",
       "      <td>0.527380</td>\n",
       "      <td>0.758766</td>\n",
       "    </tr>\n",
       "  </tbody>\n",
       "</table>\n",
       "</div>"
      ],
      "text/plain": [
       "       A      B         C         D\n",
       "0    foo    one -0.662961 -0.909283\n",
       "1    bar    two -0.107246 -0.786643\n",
       "2    foo  three -0.512840 -0.026111\n",
       "3    bar    one -0.337893  0.150412\n",
       "4    foo  three -1.173615  1.223590\n",
       "5  candy    two  0.527380  0.758766"
      ]
     },
     "execution_count": 41,
     "metadata": {},
     "output_type": "execute_result"
    }
   ],
   "source": [
    "df"
   ]
  },
  {
   "cell_type": "code",
   "execution_count": 45,
   "metadata": {},
   "outputs": [],
   "source": [
    "g=df.groupby(level=0)"
   ]
  },
  {
   "cell_type": "code",
   "execution_count": 49,
   "metadata": {},
   "outputs": [
    {
     "name": "stdout",
     "output_type": "stream",
     "text": [
      "     A    B         C         D\n",
      "1  foo  one  2.486892 -0.508783\n",
      "2  bar  two  1.031337 -0.610913\n"
     ]
    }
   ],
   "source": [
    "print(g.first())"
   ]
  },
  {
   "cell_type": "code",
   "execution_count": 50,
   "metadata": {},
   "outputs": [
    {
     "name": "stdout",
     "output_type": "stream",
     "text": [
      "       A      B         C         D\n",
      "1    foo  three  1.286851 -0.354785\n",
      "2  candy    two  1.137203 -1.107887\n"
     ]
    }
   ],
   "source": [
    "print(g.last())"
   ]
  },
  {
   "cell_type": "code",
   "execution_count": 56,
   "metadata": {},
   "outputs": [
    {
     "data": {
      "text/html": [
       "<div>\n",
       "<style scoped>\n",
       "    .dataframe tbody tr th:only-of-type {\n",
       "        vertical-align: middle;\n",
       "    }\n",
       "\n",
       "    .dataframe tbody tr th {\n",
       "        vertical-align: top;\n",
       "    }\n",
       "\n",
       "    .dataframe thead th {\n",
       "        text-align: right;\n",
       "    }\n",
       "</style>\n",
       "<table border=\"1\" class=\"dataframe\">\n",
       "  <thead>\n",
       "    <tr style=\"text-align: right;\">\n",
       "      <th></th>\n",
       "      <th>C</th>\n",
       "      <th>D</th>\n",
       "    </tr>\n",
       "    <tr>\n",
       "      <th>A</th>\n",
       "      <th></th>\n",
       "      <th></th>\n",
       "    </tr>\n",
       "  </thead>\n",
       "  <tbody>\n",
       "    <tr>\n",
       "      <th>bar</th>\n",
       "      <td>0.208982</td>\n",
       "      <td>-1.630717</td>\n",
       "    </tr>\n",
       "    <tr>\n",
       "      <th>candy</th>\n",
       "      <td>-0.036392</td>\n",
       "      <td>-1.352942</td>\n",
       "    </tr>\n",
       "    <tr>\n",
       "      <th>foo</th>\n",
       "      <td>-1.030541</td>\n",
       "      <td>5.373398</td>\n",
       "    </tr>\n",
       "  </tbody>\n",
       "</table>\n",
       "</div>"
      ],
      "text/plain": [
       "              C         D\n",
       "A                        \n",
       "bar    0.208982 -1.630717\n",
       "candy -0.036392 -1.352942\n",
       "foo   -1.030541  5.373398"
      ]
     },
     "execution_count": 56,
     "metadata": {},
     "output_type": "execute_result"
    }
   ],
   "source": [
    "df.groupby(['A']).sum()"
   ]
  },
  {
   "cell_type": "code",
   "execution_count": 3,
   "metadata": {},
   "outputs": [],
   "source": [
    "df=pd.read_csv('D:\\\\DOWNLOADS\\\\DATA SCIENCE\\\\datasets\\\\datasets\\\\algebradata.csv')"
   ]
  },
  {
   "cell_type": "code",
   "execution_count": 4,
   "metadata": {},
   "outputs": [
    {
     "data": {
      "text/html": [
       "<div>\n",
       "<style scoped>\n",
       "    .dataframe tbody tr th:only-of-type {\n",
       "        vertical-align: middle;\n",
       "    }\n",
       "\n",
       "    .dataframe tbody tr th {\n",
       "        vertical-align: top;\n",
       "    }\n",
       "\n",
       "    .dataframe thead th {\n",
       "        text-align: right;\n",
       "    }\n",
       "</style>\n",
       "<table border=\"1\" class=\"dataframe\">\n",
       "  <thead>\n",
       "    <tr style=\"text-align: right;\">\n",
       "      <th></th>\n",
       "      <th>Fname</th>\n",
       "      <th>Lname</th>\n",
       "      <th>Gender</th>\n",
       "      <th>Grade</th>\n",
       "      <th>Hours of Study</th>\n",
       "    </tr>\n",
       "  </thead>\n",
       "  <tbody>\n",
       "    <tr>\n",
       "      <th>0</th>\n",
       "      <td>Mary</td>\n",
       "      <td>Ettienne</td>\n",
       "      <td>F</td>\n",
       "      <td>B</td>\n",
       "      <td>16</td>\n",
       "    </tr>\n",
       "    <tr>\n",
       "      <th>1</th>\n",
       "      <td>Charles</td>\n",
       "      <td>Looner</td>\n",
       "      <td>M</td>\n",
       "      <td>F</td>\n",
       "      <td>8</td>\n",
       "    </tr>\n",
       "    <tr>\n",
       "      <th>2</th>\n",
       "      <td>Betty</td>\n",
       "      <td>Franklin</td>\n",
       "      <td>F</td>\n",
       "      <td>A</td>\n",
       "      <td>24</td>\n",
       "    </tr>\n",
       "    <tr>\n",
       "      <th>3</th>\n",
       "      <td>Roger</td>\n",
       "      <td>Withers</td>\n",
       "      <td>M</td>\n",
       "      <td>C</td>\n",
       "      <td>5</td>\n",
       "    </tr>\n",
       "    <tr>\n",
       "      <th>4</th>\n",
       "      <td>John</td>\n",
       "      <td>Mulgrew</td>\n",
       "      <td>M</td>\n",
       "      <td>A</td>\n",
       "      <td>5</td>\n",
       "    </tr>\n",
       "  </tbody>\n",
       "</table>\n",
       "</div>"
      ],
      "text/plain": [
       "     Fname     Lname Gender Grade  Hours of Study\n",
       "0     Mary  Ettienne      F     B              16\n",
       "1  Charles    Looner      M     F               8\n",
       "2    Betty  Franklin      F     A              24\n",
       "3    Roger   Withers      M     C               5\n",
       "4     John   Mulgrew      M     A               5"
      ]
     },
     "execution_count": 4,
     "metadata": {},
     "output_type": "execute_result"
    }
   ],
   "source": [
    "df.head()"
   ]
  },
  {
   "cell_type": "code",
   "execution_count": 73,
   "metadata": {},
   "outputs": [
    {
     "data": {
      "text/html": [
       "<div>\n",
       "<style scoped>\n",
       "    .dataframe tbody tr th:only-of-type {\n",
       "        vertical-align: middle;\n",
       "    }\n",
       "\n",
       "    .dataframe tbody tr th {\n",
       "        vertical-align: top;\n",
       "    }\n",
       "\n",
       "    .dataframe thead th {\n",
       "        text-align: right;\n",
       "    }\n",
       "</style>\n",
       "<table border=\"1\" class=\"dataframe\">\n",
       "  <thead>\n",
       "    <tr style=\"text-align: right;\">\n",
       "      <th></th>\n",
       "      <th>Hours of Study</th>\n",
       "    </tr>\n",
       "    <tr>\n",
       "      <th>Gender</th>\n",
       "      <th></th>\n",
       "    </tr>\n",
       "  </thead>\n",
       "  <tbody>\n",
       "    <tr>\n",
       "      <th>F</th>\n",
       "      <td>8115</td>\n",
       "    </tr>\n",
       "    <tr>\n",
       "      <th>M</th>\n",
       "      <td>6985</td>\n",
       "    </tr>\n",
       "  </tbody>\n",
       "</table>\n",
       "</div>"
      ],
      "text/plain": [
       "        Hours of Study\n",
       "Gender                \n",
       "F                 8115\n",
       "M                 6985"
      ]
     },
     "execution_count": 73,
     "metadata": {},
     "output_type": "execute_result"
    }
   ],
   "source": [
    "df.groupby(['Gender']).sum()"
   ]
  },
  {
   "cell_type": "code",
   "execution_count": 76,
   "metadata": {},
   "outputs": [
    {
     "data": {
      "text/plain": [
       "pandas.core.frame.DataFrame"
      ]
     },
     "execution_count": 76,
     "metadata": {},
     "output_type": "execute_result"
    }
   ],
   "source": [
    "dfnew=df.groupby(['Gender']).sum()\n",
    "type(dfnew)"
   ]
  },
  {
   "cell_type": "code",
   "execution_count": 83,
   "metadata": {},
   "outputs": [],
   "source": [
    "f_hour=dfnew['Hours of Study'][0]\n",
    "m_hour=dfnew['Hours of Study'][1]"
   ]
  },
  {
   "cell_type": "code",
   "execution_count": 84,
   "metadata": {},
   "outputs": [],
   "source": [
    "f_count=pd.value_counts(df['Gender'])[0]\n",
    "m_count=pd.value_counts(df['Gender'])[1]"
   ]
  },
  {
   "cell_type": "code",
   "execution_count": 85,
   "metadata": {},
   "outputs": [
    {
     "name": "stdout",
     "output_type": "stream",
     "text": [
      "female are more hardworking\n"
     ]
    }
   ],
   "source": [
    "if (f_hour/f_count)>(m_hour/m_count):\n",
    "    print('female are more hardworking')\n",
    "else:\n",
    "    print('male are more hardworking')"
   ]
  },
  {
   "cell_type": "code",
   "execution_count": 88,
   "metadata": {},
   "outputs": [
    {
     "data": {
      "text/html": [
       "<div>\n",
       "<style scoped>\n",
       "    .dataframe tbody tr th:only-of-type {\n",
       "        vertical-align: middle;\n",
       "    }\n",
       "\n",
       "    .dataframe tbody tr th {\n",
       "        vertical-align: top;\n",
       "    }\n",
       "\n",
       "    .dataframe thead th {\n",
       "        text-align: right;\n",
       "    }\n",
       "</style>\n",
       "<table border=\"1\" class=\"dataframe\">\n",
       "  <thead>\n",
       "    <tr style=\"text-align: right;\">\n",
       "      <th></th>\n",
       "      <th>Hours of Study</th>\n",
       "    </tr>\n",
       "    <tr>\n",
       "      <th>Gender</th>\n",
       "      <th></th>\n",
       "    </tr>\n",
       "  </thead>\n",
       "  <tbody>\n",
       "    <tr>\n",
       "      <th>F</th>\n",
       "      <td>8115</td>\n",
       "    </tr>\n",
       "    <tr>\n",
       "      <th>M</th>\n",
       "      <td>6985</td>\n",
       "    </tr>\n",
       "  </tbody>\n",
       "</table>\n",
       "</div>"
      ],
      "text/plain": [
       "        Hours of Study\n",
       "Gender                \n",
       "F                 8115\n",
       "M                 6985"
      ]
     },
     "execution_count": 88,
     "metadata": {},
     "output_type": "execute_result"
    }
   ],
   "source": [
    "df.groupby(['Gender'],sort=False).sum()"
   ]
  },
  {
   "cell_type": "code",
   "execution_count": 90,
   "metadata": {},
   "outputs": [
    {
     "data": {
      "text/html": [
       "<div>\n",
       "<style scoped>\n",
       "    .dataframe tbody tr th:only-of-type {\n",
       "        vertical-align: middle;\n",
       "    }\n",
       "\n",
       "    .dataframe tbody tr th {\n",
       "        vertical-align: top;\n",
       "    }\n",
       "\n",
       "    .dataframe thead th {\n",
       "        text-align: right;\n",
       "    }\n",
       "</style>\n",
       "<table border=\"1\" class=\"dataframe\">\n",
       "  <thead>\n",
       "    <tr style=\"text-align: right;\">\n",
       "      <th></th>\n",
       "      <th>Fname</th>\n",
       "      <th>Lname</th>\n",
       "      <th>Gender</th>\n",
       "      <th>Grade</th>\n",
       "      <th>Hours of Study</th>\n",
       "    </tr>\n",
       "  </thead>\n",
       "  <tbody>\n",
       "    <tr>\n",
       "      <th>0</th>\n",
       "      <td>Mary</td>\n",
       "      <td>Ettienne</td>\n",
       "      <td>F</td>\n",
       "      <td>B</td>\n",
       "      <td>16</td>\n",
       "    </tr>\n",
       "    <tr>\n",
       "      <th>2</th>\n",
       "      <td>Betty</td>\n",
       "      <td>Franklin</td>\n",
       "      <td>F</td>\n",
       "      <td>A</td>\n",
       "      <td>24</td>\n",
       "    </tr>\n",
       "    <tr>\n",
       "      <th>5</th>\n",
       "      <td>Jada</td>\n",
       "      <td>Isaacson</td>\n",
       "      <td>F</td>\n",
       "      <td>C</td>\n",
       "      <td>30</td>\n",
       "    </tr>\n",
       "    <tr>\n",
       "      <th>7</th>\n",
       "      <td>August</td>\n",
       "      <td>Carter</td>\n",
       "      <td>F</td>\n",
       "      <td>C</td>\n",
       "      <td>11</td>\n",
       "    </tr>\n",
       "    <tr>\n",
       "      <th>8</th>\n",
       "      <td>Karen</td>\n",
       "      <td>Looner</td>\n",
       "      <td>F</td>\n",
       "      <td>A</td>\n",
       "      <td>12</td>\n",
       "    </tr>\n",
       "  </tbody>\n",
       "</table>\n",
       "</div>"
      ],
      "text/plain": [
       "    Fname     Lname Gender Grade  Hours of Study\n",
       "0    Mary  Ettienne      F     B              16\n",
       "2   Betty  Franklin      F     A              24\n",
       "5    Jada  Isaacson      F     C              30\n",
       "7  August    Carter      F     C              11\n",
       "8   Karen    Looner      F     A              12"
      ]
     },
     "execution_count": 90,
     "metadata": {},
     "output_type": "execute_result"
    }
   ],
   "source": [
    "df.groupby(['Gender']).get_group('F').head()"
   ]
  },
  {
   "cell_type": "code",
   "execution_count": 94,
   "metadata": {},
   "outputs": [
    {
     "data": {
      "text/plain": [
       "{'F': Int64Index([  0,   2,   5,   7,   8,  10,  11,  12,  15,  18,\n",
       "             ...\n",
       "             979, 980, 982, 987, 989, 990, 992, 995, 997, 998],\n",
       "            dtype='int64', length=518),\n",
       " 'M': Int64Index([  1,   3,   4,   6,   9,  13,  14,  16,  17,  19,\n",
       "             ...\n",
       "             981, 983, 984, 985, 986, 988, 991, 993, 994, 996],\n",
       "            dtype='int64', length=481)}"
      ]
     },
     "execution_count": 94,
     "metadata": {},
     "output_type": "execute_result"
    }
   ],
   "source": [
    "df.groupby('Gender').groups     #GroupBy object attributes"
   ]
  },
  {
   "cell_type": "code",
   "execution_count": 98,
   "metadata": {},
   "outputs": [],
   "source": [
    "record=df.duplicated(['Fname','Lname'])"
   ]
  },
  {
   "cell_type": "code",
   "execution_count": 99,
   "metadata": {
    "scrolled": true
   },
   "outputs": [
    {
     "data": {
      "text/plain": [
       "False    667\n",
       "True     332\n",
       "dtype: int64"
      ]
     },
     "execution_count": 99,
     "metadata": {},
     "output_type": "execute_result"
    }
   ],
   "source": [
    "pd.value_counts(record)"
   ]
  },
  {
   "cell_type": "code",
   "execution_count": 109,
   "metadata": {
    "collapsed": true
   },
   "outputs": [
    {
     "data": {
      "text/plain": [
       "{'Aaron Adams': Int64Index([845], dtype='int64'),\n",
       " 'Aaron Carter': Int64Index([396], dtype='int64'),\n",
       " 'Aaron Davidson': Int64Index([573], dtype='int64'),\n",
       " 'Aaron Ettienne': Int64Index([914, 964], dtype='int64'),\n",
       " 'Aaron Franklin': Int64Index([586], dtype='int64'),\n",
       " 'Aaron Harrison': Int64Index([195], dtype='int64'),\n",
       " 'Aaron Henderson': Int64Index([249], dtype='int64'),\n",
       " 'Aaron Isaacson': Int64Index([265], dtype='int64'),\n",
       " 'Aaron Jackson': Int64Index([88], dtype='int64'),\n",
       " 'Aaron Johnson': Int64Index([775], dtype='int64'),\n",
       " 'Aaron Kennedy': Int64Index([32], dtype='int64'),\n",
       " 'Aaron Looner': Int64Index([401], dtype='int64'),\n",
       " 'Aaron Martins': Int64Index([330], dtype='int64'),\n",
       " 'Aaron Patterson': Int64Index([656], dtype='int64'),\n",
       " 'Aaron Samuelson': Int64Index([921], dtype='int64'),\n",
       " 'Aaron Turner': Int64Index([157, 163, 535], dtype='int64'),\n",
       " 'Aaron Walters ': Int64Index([19, 848], dtype='int64'),\n",
       " 'Aaron Withers': Int64Index([400], dtype='int64'),\n",
       " 'Adam Baker': Int64Index([885], dtype='int64'),\n",
       " 'Adam Carter': Int64Index([556], dtype='int64'),\n",
       " 'Adam Ettienne': Int64Index([606, 850], dtype='int64'),\n",
       " 'Adam Franklin': Int64Index([945], dtype='int64'),\n",
       " 'Adam Isaacson': Int64Index([894, 900], dtype='int64'),\n",
       " 'Adam Kane': Int64Index([312, 901], dtype='int64'),\n",
       " 'Adam Looner': Int64Index([183, 592], dtype='int64'),\n",
       " 'Adam Michaels': Int64Index([467, 510, 779], dtype='int64'),\n",
       " 'Adam Monroe': Int64Index([789], dtype='int64'),\n",
       " 'Adam Moore': Int64Index([97, 137], dtype='int64'),\n",
       " 'Adam Patterson': Int64Index([221], dtype='int64'),\n",
       " 'Adam Rogers': Int64Index([52], dtype='int64'),\n",
       " 'Adam Samuelson': Int64Index([139], dtype='int64'),\n",
       " 'Adam Vaughn': Int64Index([13], dtype='int64'),\n",
       " 'Adam Walters ': Int64Index([743, 866], dtype='int64'),\n",
       " 'August Adams': Int64Index([240, 928], dtype='int64'),\n",
       " 'August Baker': Int64Index([685], dtype='int64'),\n",
       " 'August Carter': Int64Index([7], dtype='int64'),\n",
       " 'August Davidson': Int64Index([578, 821], dtype='int64'),\n",
       " 'August Franklin': Int64Index([944], dtype='int64'),\n",
       " 'August Henderson': Int64Index([579], dtype='int64'),\n",
       " 'August Kane': Int64Index([721, 855], dtype='int64'),\n",
       " 'August Kennedy': Int64Index([758], dtype='int64'),\n",
       " 'August Looner': Int64Index([268], dtype='int64'),\n",
       " 'August Michaels': Int64Index([290, 302], dtype='int64'),\n",
       " 'August Monroe': Int64Index([278, 600], dtype='int64'),\n",
       " 'August Moore': Int64Index([417], dtype='int64'),\n",
       " 'August Patterson': Int64Index([144], dtype='int64'),\n",
       " 'August Rogers': Int64Index([123], dtype='int64'),\n",
       " 'August Rose': Int64Index([367], dtype='int64'),\n",
       " 'August Sapp': Int64Index([466, 539, 701], dtype='int64'),\n",
       " 'August Sears': Int64Index([815], dtype='int64'),\n",
       " 'August Turner': Int64Index([164], dtype='int64'),\n",
       " 'August Vaughn': Int64Index([337], dtype='int64'),\n",
       " 'August Withers': Int64Index([296], dtype='int64'),\n",
       " 'Betty Baker': Int64Index([472, 920], dtype='int64'),\n",
       " 'Betty Davidson': Int64Index([677, 925], dtype='int64'),\n",
       " 'Betty Franklin': Int64Index([2], dtype='int64'),\n",
       " 'Betty Harrison': Int64Index([389], dtype='int64'),\n",
       " 'Betty Henderson': Int64Index([420], dtype='int64'),\n",
       " 'Betty Jackson': Int64Index([575, 617], dtype='int64'),\n",
       " 'Betty Johnson': Int64Index([83, 411], dtype='int64'),\n",
       " 'Betty Kennedy': Int64Index([113, 156], dtype='int64'),\n",
       " 'Betty Michaels': Int64Index([705], dtype='int64'),\n",
       " 'Betty Monroe': Int64Index([184], dtype='int64'),\n",
       " 'Betty Rose': Int64Index([234, 623], dtype='int64'),\n",
       " 'Betty Samuelson': Int64Index([287, 676], dtype='int64'),\n",
       " 'Betty Sapp': Int64Index([487, 818], dtype='int64'),\n",
       " 'Betty Sears': Int64Index([468, 505], dtype='int64'),\n",
       " 'Betty Turner': Int64Index([410], dtype='int64'),\n",
       " 'Betty Vaughn': Int64Index([516, 956], dtype='int64'),\n",
       " 'Betty Withers': Int64Index([435, 436, 538, 559], dtype='int64'),\n",
       " 'Brad Adams': Int64Index([861], dtype='int64'),\n",
       " 'Brad Baker': Int64Index([803], dtype='int64'),\n",
       " 'Brad Carter': Int64Index([150], dtype='int64'),\n",
       " 'Brad Harrison': Int64Index([118, 169], dtype='int64'),\n",
       " 'Brad Isaacson': Int64Index([490, 550, 580], dtype='int64'),\n",
       " 'Brad Johnson': Int64Index([634, 718], dtype='int64'),\n",
       " 'Brad Kane': Int64Index([208], dtype='int64'),\n",
       " 'Brad Kennedy': Int64Index([966], dtype='int64'),\n",
       " 'Brad Looner': Int64Index([68, 589], dtype='int64'),\n",
       " 'Brad Martins': Int64Index([288, 427], dtype='int64'),\n",
       " 'Brad Michaels': Int64Index([20, 941], dtype='int64'),\n",
       " 'Brad Mulgrew': Int64Index([547], dtype='int64'),\n",
       " 'Brad Rogers': Int64Index([166], dtype='int64'),\n",
       " 'Brad Samuelson': Int64Index([291], dtype='int64'),\n",
       " 'Brad Turner': Int64Index([478], dtype='int64'),\n",
       " 'Brad Walters ': Int64Index([140], dtype='int64'),\n",
       " 'Brad Withers': Int64Index([45], dtype='int64'),\n",
       " 'Carla Adams': Int64Index([63, 930], dtype='int64'),\n",
       " 'Carla Baker': Int64Index([318], dtype='int64'),\n",
       " 'Carla Ettienne': Int64Index([127, 134, 709], dtype='int64'),\n",
       " 'Carla Gerardo': Int64Index([80, 194, 641], dtype='int64'),\n",
       " 'Carla Harrison': Int64Index([434], dtype='int64'),\n",
       " 'Carla Henderson': Int64Index([340], dtype='int64'),\n",
       " 'Carla Isaacson': Int64Index([78, 480], dtype='int64'),\n",
       " 'Carla Jackson': Int64Index([197, 976], dtype='int64'),\n",
       " 'Carla Kennedy': Int64Index([321, 522, 554], dtype='int64'),\n",
       " 'Carla Michaels': Int64Index([746, 751, 910], dtype='int64'),\n",
       " 'Carla Patterson': Int64Index([508, 622], dtype='int64'),\n",
       " 'Carla Rogers': Int64Index([653, 919], dtype='int64'),\n",
       " 'Carla Samuelson': Int64Index([590], dtype='int64'),\n",
       " 'Carla Turner': Int64Index([655, 681], dtype='int64'),\n",
       " 'Carla Walters ': Int64Index([713], dtype='int64'),\n",
       " 'Charles Baker': Int64Index([89, 203], dtype='int64'),\n",
       " 'Charles Carter': Int64Index([397], dtype='int64'),\n",
       " 'Charles Davidson': Int64Index([512, 658], dtype='int64'),\n",
       " 'Charles Ettienne': Int64Index([593, 640], dtype='int64'),\n",
       " 'Charles Harrison': Int64Index([581], dtype='int64'),\n",
       " 'Charles Henderson': Int64Index([688], dtype='int64'),\n",
       " 'Charles Jackson': Int64Index([633], dtype='int64'),\n",
       " 'Charles Johnson': Int64Index([237, 283, 922], dtype='int64'),\n",
       " 'Charles Kane': Int64Index([328, 975], dtype='int64'),\n",
       " 'Charles Looner': Int64Index([1], dtype='int64'),\n",
       " 'Charles Martins': Int64Index([213], dtype='int64'),\n",
       " 'Charles Michaels': Int64Index([437, 831], dtype='int64'),\n",
       " 'Charles Monroe': Int64Index([834], dtype='int64'),\n",
       " 'Charles Patterson': Int64Index([711], dtype='int64'),\n",
       " 'Charles Rogers': Int64Index([768], dtype='int64'),\n",
       " 'Charles Samuelson': Int64Index([819], dtype='int64'),\n",
       " 'Charles Sapp': Int64Index([168], dtype='int64'),\n",
       " 'Charles Vaughn': Int64Index([267, 786], dtype='int64'),\n",
       " 'Charles Walters ': Int64Index([847], dtype='int64'),\n",
       " 'David Baker': Int64Index([274], dtype='int64'),\n",
       " 'David Gerardo': Int64Index([574, 674], dtype='int64'),\n",
       " 'David Harrison': Int64Index([698], dtype='int64'),\n",
       " 'David Henderson': Int64Index([662], dtype='int64'),\n",
       " 'David Isaacson': Int64Index([568], dtype='int64'),\n",
       " 'David Jackson': Int64Index([985], dtype='int64'),\n",
       " 'David Johnson': Int64Index([714, 771], dtype='int64'),\n",
       " 'David Martins': Int64Index([358, 527], dtype='int64'),\n",
       " 'David Michaels': Int64Index([319], dtype='int64'),\n",
       " 'David Monroe': Int64Index([800], dtype='int64'),\n",
       " 'David Mulgrew': Int64Index([394], dtype='int64'),\n",
       " 'David Samuelson': Int64Index([174], dtype='int64'),\n",
       " 'David Sapp': Int64Index([25], dtype='int64'),\n",
       " 'David Turner': Int64Index([223], dtype='int64'),\n",
       " 'David Vaughn': Int64Index([859], dtype='int64'),\n",
       " 'David Walters ': Int64Index([732], dtype='int64'),\n",
       " 'David Withers': Int64Index([730], dtype='int64'),\n",
       " 'Denise Carter': Int64Index([529], dtype='int64'),\n",
       " 'Denise Ettienne': Int64Index([413, 525, 555, 987], dtype='int64'),\n",
       " 'Denise Franklin': Int64Index([175, 327], dtype='int64'),\n",
       " 'Denise Harrison': Int64Index([651], dtype='int64'),\n",
       " 'Denise Henderson': Int64Index([201, 627], dtype='int64'),\n",
       " 'Denise Johnson': Int64Index([806], dtype='int64'),\n",
       " 'Denise Looner': Int64Index([754, 886], dtype='int64'),\n",
       " 'Denise Martins': Int64Index([46, 982], dtype='int64'),\n",
       " 'Denise Michaels': Int64Index([412, 680, 762], dtype='int64'),\n",
       " 'Denise Monroe': Int64Index([231, 765, 929], dtype='int64'),\n",
       " 'Denise Moore': Int64Index([546, 974], dtype='int64'),\n",
       " 'Denise Rose': Int64Index([15, 235], dtype='int64'),\n",
       " 'Denise Sapp': Int64Index([280], dtype='int64'),\n",
       " 'Denise Vaughn': Int64Index([207], dtype='int64'),\n",
       " 'Denise Withers': Int64Index([679], dtype='int64'),\n",
       " 'Evelyn Adams': Int64Index([190], dtype='int64'),\n",
       " 'Evelyn Carter': Int64Index([143, 439, 441], dtype='int64'),\n",
       " 'Evelyn Gerardo': Int64Index([136], dtype='int64'),\n",
       " 'Evelyn Henderson': Int64Index([878], dtype='int64'),\n",
       " 'Evelyn Isaacson': Int64Index([742], dtype='int64'),\n",
       " 'Evelyn Jackson': Int64Index([465], dtype='int64'),\n",
       " 'Evelyn Johnson': Int64Index([785, 853], dtype='int64'),\n",
       " 'Evelyn Kane': Int64Index([266, 816], dtype='int64'),\n",
       " 'Evelyn Kennedy': Int64Index([160], dtype='int64'),\n",
       " 'Evelyn Samuelson': Int64Index([181, 206], dtype='int64'),\n",
       " 'Evelyn Sapp': Int64Index([423], dtype='int64'),\n",
       " 'Evelyn Turner': Int64Index([756], dtype='int64'),\n",
       " 'Evelyn Vaughn': Int64Index([802, 978], dtype='int64'),\n",
       " 'Evelyn Withers': Int64Index([404, 544], dtype='int64'),\n",
       " 'Francine Adams': Int64Index([537, 971], dtype='int64'),\n",
       " 'Francine Davidson': Int64Index([47, 90, 331], dtype='int64'),\n",
       " 'Francine Harrison': Int64Index([475], dtype='int64'),\n",
       " 'Francine Henderson': Int64Index([619], dtype='int64'),\n",
       " 'Francine Johnson': Int64Index([452], dtype='int64'),\n",
       " 'Francine Kennedy': Int64Index([675], dtype='int64'),\n",
       " 'Francine Looner': Int64Index([543], dtype='int64'),\n",
       " 'Francine Martins': Int64Index([277, 446], dtype='int64'),\n",
       " 'Francine Monroe': Int64Index([49], dtype='int64'),\n",
       " 'Francine Mulgrew': Int64Index([875], dtype='int64'),\n",
       " 'Francine Rogers': Int64Index([115], dtype='int64'),\n",
       " 'Francine Samuelson': Int64Index([755], dtype='int64'),\n",
       " 'Francine Sapp': Int64Index([241], dtype='int64'),\n",
       " 'Francine Turner': Int64Index([450, 882], dtype='int64'),\n",
       " 'Francine Vaughn': Int64Index([53], dtype='int64'),\n",
       " 'Francine Walters ': Int64Index([595], dtype='int64'),\n",
       " 'Frank Carter': Int64Index([387], dtype='int64'),\n",
       " 'Frank Davidson': Int64Index([119], dtype='int64'),\n",
       " 'Frank Ettienne': Int64Index([399, 734, 782], dtype='int64'),\n",
       " 'Frank Harrison': Int64Index([667], dtype='int64'),\n",
       " 'Frank Isaacson': Int64Index([824], dtype='int64'),\n",
       " 'Frank Jackson': Int64Index([110], dtype='int64'),\n",
       " 'Frank Johnson': Int64Index([794], dtype='int64'),\n",
       " 'Frank Looner': Int64Index([31], dtype='int64'),\n",
       " 'Frank Monroe': Int64Index([613], dtype='int64'),\n",
       " 'Frank Mulgrew': Int64Index([462], dtype='int64'),\n",
       " 'Frank Samuelson': Int64Index([519], dtype='int64'),\n",
       " 'Frank Sapp': Int64Index([74], dtype='int64'),\n",
       " 'Frank Turner': Int64Index([345], dtype='int64'),\n",
       " 'Frank Withers': Int64Index([176, 960], dtype='int64'),\n",
       " 'Harold Adams': Int64Index([710], dtype='int64'),\n",
       " 'Harold Davidson': Int64Index([769], dtype='int64'),\n",
       " 'Harold Ettienne': Int64Index([635], dtype='int64'),\n",
       " 'Harold Franklin': Int64Index([696], dtype='int64'),\n",
       " 'Harold Gerardo': Int64Index([587], dtype='int64'),\n",
       " 'Harold Kane': Int64Index([238], dtype='int64'),\n",
       " 'Harold Kennedy': Int64Index([577, 753], dtype='int64'),\n",
       " 'Harold Looner': Int64Index([994], dtype='int64'),\n",
       " 'Harold Mulgrew': Int64Index([576], dtype='int64'),\n",
       " 'Harold Rogers': Int64Index([242], dtype='int64'),\n",
       " 'Harold Samuelson': Int64Index([199], dtype='int64'),\n",
       " 'Harold Sapp': Int64Index([324, 601, 957], dtype='int64'),\n",
       " 'Harold Sears': Int64Index([202, 343, 678], dtype='int64'),\n",
       " 'Harold Turner': Int64Index([155, 611], dtype='int64'),\n",
       " 'Harold Walters ': Int64Index([652], dtype='int64'),\n",
       " 'Jack Carter': Int64Index([275], dtype='int64'),\n",
       " 'Jack Davidson': Int64Index([533], dtype='int64'),\n",
       " 'Jack Harrison': Int64Index([58], dtype='int64'),\n",
       " 'Jack Isaacson': Int64Index([405, 954], dtype='int64'),\n",
       " 'Jack Jackson': Int64Index([722], dtype='int64'),\n",
       " 'Jack Kane': Int64Index([129], dtype='int64'),\n",
       " 'Jack Kennedy': Int64Index([292], dtype='int64'),\n",
       " 'Jack Looner': Int64Index([414], dtype='int64'),\n",
       " 'Jack Martins': Int64Index([473, 565], dtype='int64'),\n",
       " 'Jack Monroe': Int64Index([744], dtype='int64'),\n",
       " 'Jack Moore': Int64Index([842], dtype='int64'),\n",
       " 'Jack Mulgrew': Int64Index([542], dtype='int64'),\n",
       " 'Jack Patterson': Int64Index([668], dtype='int64'),\n",
       " 'Jack Rose': Int64Index([279, 932], dtype='int64'),\n",
       " 'Jack Samuelson': Int64Index([908], dtype='int64'),\n",
       " 'Jack Sapp': Int64Index([429], dtype='int64'),\n",
       " 'Jack Sears': Int64Index([219, 702], dtype='int64'),\n",
       " 'Jack Turner': Int64Index([632], dtype='int64'),\n",
       " 'Jack Vaughn': Int64Index([881], dtype='int64'),\n",
       " 'Jackie Adams': Int64Index([840], dtype='int64'),\n",
       " 'Jackie Baker': Int64Index([403], dtype='int64'),\n",
       " 'Jackie Carter': Int64Index([304], dtype='int64'),\n",
       " 'Jackie Harrison': Int64Index([243], dtype='int64'),\n",
       " 'Jackie Isaacson': Int64Index([584], dtype='int64'),\n",
       " 'Jackie Johnson': Int64Index([26, 557, 938], dtype='int64'),\n",
       " 'Jackie Kennedy': Int64Index([295, 750], dtype='int64'),\n",
       " 'Jackie Looner': Int64Index([965], dtype='int64'),\n",
       " 'Jackie Martins': Int64Index([774], dtype='int64'),\n",
       " 'Jackie Moore': Int64Index([375], dtype='int64'),\n",
       " 'Jackie Mulgrew': Int64Index([178], dtype='int64'),\n",
       " 'Jackie Rose': Int64Index([75], dtype='int64'),\n",
       " 'Jackie Samuelson': Int64Index([322, 469, 828], dtype='int64'),\n",
       " 'Jackie Sapp': Int64Index([177, 477], dtype='int64'),\n",
       " 'Jackie Turner': Int64Index([245, 273], dtype='int64'),\n",
       " 'Jackie Walters ': Int64Index([29, 712], dtype='int64'),\n",
       " 'Jackie Withers': Int64Index([549], dtype='int64'),\n",
       " 'Jada Adams': Int64Index([149, 364, 961], dtype='int64'),\n",
       " 'Jada Davidson': Int64Index([737], dtype='int64'),\n",
       " 'Jada Franklin': Int64Index([430], dtype='int64'),\n",
       " 'Jada Harrison': Int64Index([94, 518], dtype='int64'),\n",
       " 'Jada Henderson': Int64Index([112, 970], dtype='int64'),\n",
       " 'Jada Isaacson': Int64Index([5, 402, 644, 951], dtype='int64'),\n",
       " 'Jada Jackson': Int64Index([18], dtype='int64'),\n",
       " 'Jada Johnson': Int64Index([524], dtype='int64'),\n",
       " 'Jada Kane': Int64Index([564, 846], dtype='int64'),\n",
       " 'Jada Kennedy': Int64Index([497], dtype='int64'),\n",
       " 'Jada Looner': Int64Index([583, 835], dtype='int64'),\n",
       " 'Jada Martins': Int64Index([161], dtype='int64'),\n",
       " 'Jada Michaels': Int64Index([84], dtype='int64'),\n",
       " 'Jada Moore': Int64Index([558], dtype='int64'),\n",
       " 'Jada Rogers': Int64Index([725, 841], dtype='int64'),\n",
       " 'Jada Sapp': Int64Index([646], dtype='int64'),\n",
       " 'Jada Sears': Int64Index([379], dtype='int64'),\n",
       " 'Jada Turner': Int64Index([114], dtype='int64'),\n",
       " 'Jada Withers': Int64Index([289], dtype='int64'),\n",
       " 'John Carter': Int64Index([6], dtype='int64'),\n",
       " 'John Davidson': Int64Index([120], dtype='int64'),\n",
       " 'John Ettienne': Int64Index([788], dtype='int64'),\n",
       " 'John Franklin': Int64Index([706], dtype='int64'),\n",
       " 'John Gerardo': Int64Index([793, 813], dtype='int64'),\n",
       " 'John Henderson': Int64Index([30], dtype='int64'),\n",
       " 'John Jackson': Int64Index([934], dtype='int64'),\n",
       " 'John Johnson': Int64Index([852], dtype='int64'),\n",
       " 'John Michaels': Int64Index([306], dtype='int64'),\n",
       " 'John Monroe': Int64Index([39, 704, 904], dtype='int64'),\n",
       " 'John Moore': Int64Index([507], dtype='int64'),\n",
       " 'John Mulgrew': Int64Index([4, 406, 717, 870, 903], dtype='int64'),\n",
       " 'John Rose': Int64Index([628], dtype='int64'),\n",
       " 'John Sapp': Int64Index([916], dtype='int64'),\n",
       " 'John Sears': Int64Index([540], dtype='int64'),\n",
       " 'John Turner': Int64Index([781, 873], dtype='int64'),\n",
       " 'John Vaughn': Int64Index([384], dtype='int64'),\n",
       " 'John Walters ': Int64Index([93, 509], dtype='int64'),\n",
       " 'Karen Adams': Int64Index([348], dtype='int64'),\n",
       " 'Karen Ettienne': Int64Index([69, 307], dtype='int64'),\n",
       " 'Karen Franklin': Int64Index([445, 629, 906], dtype='int64'),\n",
       " 'Karen Gerardo': Int64Index([27], dtype='int64'),\n",
       " 'Karen Looner': Int64Index([8, 461, 990], dtype='int64'),\n",
       " 'Karen Martins': Int64Index([967], dtype='int64'),\n",
       " 'Karen Michaels': Int64Index([246], dtype='int64'),\n",
       " 'Karen Moore': Int64Index([225, 607, 874], dtype='int64'),\n",
       " 'Karen Mulgrew': Int64Index([832], dtype='int64'),\n",
       " 'Karen Rogers': Int64Index([645], dtype='int64'),\n",
       " 'Karen Samuelson': Int64Index([38], dtype='int64'),\n",
       " 'Karen Sears': Int64Index([282, 416], dtype='int64'),\n",
       " 'Karen Turner': Int64Index([56], dtype='int64'),\n",
       " 'Karen Vaughn': Int64Index([121], dtype='int64'),\n",
       " 'Karen Walters ': Int64Index([980], dtype='int64'),\n",
       " 'Larry Baker': Int64Index([220], dtype='int64'),\n",
       " 'Larry Davidson': Int64Index([884], dtype='int64'),\n",
       " 'Larry Ettienne': Int64Index([428], dtype='int64'),\n",
       " 'Larry Franklin': Int64Index([986], dtype='int64'),\n",
       " 'Larry Gerardo': Int64Index([228, 502, 594], dtype='int64'),\n",
       " 'Larry Harrison': Int64Index([218], dtype='int64'),\n",
       " 'Larry Henderson': Int64Index([91, 103], dtype='int64'),\n",
       " 'Larry Isaacson': Int64Index([669, 778], dtype='int64'),\n",
       " 'Larry Jackson': Int64Index([79], dtype='int64'),\n",
       " 'Larry Kane': Int64Index([85, 963], dtype='int64'),\n",
       " 'Larry Kennedy': Int64Index([326, 763], dtype='int64'),\n",
       " 'Larry Michaels': Int64Index([442], dtype='int64'),\n",
       " 'Larry Monroe': Int64Index([839], dtype='int64'),\n",
       " 'Larry Mulgrew': Int64Index([269], dtype='int64'),\n",
       " 'Larry Patterson': Int64Index([969], dtype='int64'),\n",
       " 'Larry Rogers': Int64Index([366], dtype='int64'),\n",
       " 'Larry Rose': Int64Index([857], dtype='int64'),\n",
       " 'Larry Samuelson': Int64Index([23, 715, 984], dtype='int64'),\n",
       " 'Larry Sapp': Int64Index([305, 438, 791], dtype='int64'),\n",
       " 'Larry Vaughn': Int64Index([523], dtype='int64'),\n",
       " 'Larry Withers': Int64Index([699], dtype='int64'),\n",
       " 'Lisa Adams': Int64Index([381, 814], dtype='int64'),\n",
       " 'Lisa Baker': Int64Index([376, 671], dtype='int64'),\n",
       " 'Lisa Davidson': Int64Index([536], dtype='int64'),\n",
       " 'Lisa Ettienne': Int64Index([227, 979], dtype='int64'),\n",
       " 'Lisa Franklin': Int64Index([514], dtype='int64'),\n",
       " 'Lisa Harrison': Int64Index([335, 458], dtype='int64'),\n",
       " 'Lisa Kennedy': Int64Index([741], dtype='int64'),\n",
       " 'Lisa Looner': Int64Index([849], dtype='int64'),\n",
       " 'Lisa Michaels': Int64Index([451], dtype='int64'),\n",
       " 'Lisa Mulgrew': Int64Index([907], dtype='int64'),\n",
       " 'Lisa Patterson': Int64Index([365], dtype='int64'),\n",
       " 'Lisa Rogers': Int64Index([989], dtype='int64'),\n",
       " 'Lisa Rose': Int64Index([104], dtype='int64'),\n",
       " 'Lisa Samuelson': Int64Index([493], dtype='int64'),\n",
       " 'Lisa Turner': Int64Index([62], dtype='int64'),\n",
       " 'Lisa Vaughn': Int64Index([686], dtype='int64'),\n",
       " 'Lisa Walters ': Int64Index([210, 526], dtype='int64'),\n",
       " 'Lisa Withers': Int64Index([918], dtype='int64'),\n",
       " 'Martin Adams': Int64Index([784], dtype='int64'),\n",
       " 'Martin Baker': Int64Index([211, 333], dtype='int64'),\n",
       " 'Martin Davidson': Int64Index([572], dtype='int64'),\n",
       " 'Martin Franklin': Int64Index([117, 983, 996], dtype='int64'),\n",
       " 'Martin Harrison': Int64Index([173], dtype='int64'),\n",
       " 'Martin Isaacson': Int64Index([363, 864], dtype='int64'),\n",
       " 'Martin Jackson': Int64Index([739], dtype='int64'),\n",
       " 'Martin Johnson': Int64Index([488], dtype='int64'),\n",
       " 'Martin Kane': Int64Index([342], dtype='int64'),\n",
       " 'Martin Kennedy': Int64Index([236], dtype='int64'),\n",
       " 'Martin Looner': Int64Index([310], dtype='int64'),\n",
       " 'Martin Martins': Int64Index([351], dtype='int64'),\n",
       " 'Martin Michaels': Int64Index([902], dtype='int64'),\n",
       " 'Martin Monroe': Int64Index([408], dtype='int64'),\n",
       " 'Martin Moore': Int64Index([650, 749], dtype='int64'),\n",
       " 'Martin Rogers': Int64Index([258], dtype='int64'),\n",
       " 'Martin Rose': Int64Index([790], dtype='int64'),\n",
       " 'Martin Samuelson': Int64Index([37], dtype='int64'),\n",
       " 'Martin Turner': Int64Index([362], dtype='int64'),\n",
       " 'Martin Vaughn': Int64Index([664, 729], dtype='int64'),\n",
       " 'Mary Adams': Int64Index([86], dtype='int64'),\n",
       " 'Mary Baker': Int64Index([649], dtype='int64'),\n",
       " 'Mary Carter': Int64Index([398], dtype='int64'),\n",
       " 'Mary Ettienne': Int64Index([0], dtype='int64'),\n",
       " 'Mary Franklin': Int64Index([877], dtype='int64'),\n",
       " 'Mary Isaacson': Int64Index([602], dtype='int64'),\n",
       " 'Mary Jackson': Int64Index([687], dtype='int64'),\n",
       " 'Mary Johnson': Int64Index([359], dtype='int64'),\n",
       " 'Mary Kane': Int64Index([10, 76], dtype='int64'),\n",
       " 'Mary Kennedy': Int64Index([72], dtype='int64'),\n",
       " 'Mary Looner': Int64Index([837], dtype='int64'),\n",
       " 'Mary Monroe': Int64Index([973], dtype='int64'),\n",
       " 'Mary Mulgrew': Int64Index([102, 270], dtype='int64'),\n",
       " 'Mary Rogers': Int64Index([597], dtype='int64'),\n",
       " 'Mary Rose': Int64Index([215, 876], dtype='int64'),\n",
       " 'Mary Samuelson': Int64Index([615], dtype='int64'),\n",
       " 'Mary Turner': Int64Index([293], dtype='int64'),\n",
       " 'Mary Vaughn': Int64Index([511], dtype='int64'),\n",
       " 'Mary Walters ': Int64Index([43, 229], dtype='int64'),\n",
       " 'Mike Adams': Int64Index([444, 796], dtype='int64'),\n",
       " 'Mike Baker': Int64Index([924], dtype='int64'),\n",
       " 'Mike Isaacson': Int64Index([232], dtype='int64'),\n",
       " 'Mike Jackson': Int64Index([541], dtype='int64'),\n",
       " 'Mike Kane': Int64Index([917], dtype='int64'),\n",
       " 'Mike Martins': Int64Index([528], dtype='int64'),\n",
       " 'Mike Michaels': Int64Index([552], dtype='int64'),\n",
       " 'Mike Monroe': Int64Index([630, 972], dtype='int64'),\n",
       " 'Mike Moore': Int64Index([455], dtype='int64'),\n",
       " 'Mike Rogers': Int64Index([760], dtype='int64'),\n",
       " 'Mike Rose': Int64Index([355], dtype='int64'),\n",
       " 'Mike Sapp': Int64Index([993], dtype='int64'),\n",
       " 'Mike Sears': Int64Index([499, 777], dtype='int64'),\n",
       " 'Mike Turner': Int64Index([138], dtype='int64'),\n",
       " 'Mike Vaughn': Int64Index([657], dtype='int64'),\n",
       " 'Nicole Adams': Int64Index([167, 692], dtype='int64'),\n",
       " 'Nicole Carter': Int64Index([648], dtype='int64'),\n",
       " 'Nicole Davidson': Int64Index([827], dtype='int64'),\n",
       " 'Nicole Gerardo': Int64Index([591], dtype='int64'),\n",
       " 'Nicole Harrison': Int64Index([419], dtype='int64'),\n",
       " 'Nicole Henderson': Int64Index([482, 997], dtype='int64'),\n",
       " 'Nicole Jackson': Int64Index([887], dtype='int64'),\n",
       " 'Nicole Johnson': Int64Index([665], dtype='int64'),\n",
       " 'Nicole Kane': Int64Index([185], dtype='int64'),\n",
       " 'Nicole Martins': Int64Index([872], dtype='int64'),\n",
       " 'Nicole Monroe': Int64Index([422, 898], dtype='int64'),\n",
       " 'Nicole Moore': Int64Index([474], dtype='int64'),\n",
       " 'Nicole Mulgrew': Int64Index([867], dtype='int64'),\n",
       " 'Nicole Patterson': Int64Index([96], dtype='int64'),\n",
       " 'Nicole Rose': Int64Index([35, 927], dtype='int64'),\n",
       " 'Nicole Samuelson': Int64Index([371, 684], dtype='int64'),\n",
       " 'Nicole Sears': Int64Index([799], dtype='int64'),\n",
       " 'Nicole Turner': Int64Index([308], dtype='int64'),\n",
       " 'Nicole Vaughn': Int64Index([604], dtype='int64'),\n",
       " 'Nicole Withers': Int64Index([48, 257, 733], dtype='int64'),\n",
       " 'Oliver Adams': Int64Index([988], dtype='int64'),\n",
       " 'Oliver Baker': Int64Index([726], dtype='int64'),\n",
       " 'Oliver Carter': Int64Index([642], dtype='int64'),\n",
       " 'Oliver Ettienne': Int64Index([133], dtype='int64'),\n",
       " 'Oliver Franklin': Int64Index([125, 862], dtype='int64'),\n",
       " 'Oliver Gerardo': Int64Index([16, 349], dtype='int64'),\n",
       " 'Oliver Henderson': Int64Index([28, 172, 792], dtype='int64'),\n",
       " 'Oliver Isaacson': Int64Index([612, 697], dtype='int64'),\n",
       " 'Oliver Johnson': Int64Index([187, 476], dtype='int64'),\n",
       " 'Oliver Kennedy': Int64Index([735, 946], dtype='int64'),\n",
       " 'Oliver Martins': Int64Index([672], dtype='int64'),\n",
       " 'Oliver Monroe': Int64Index([654], dtype='int64'),\n",
       " 'Oliver Moore': Int64Index([77, 239], dtype='int64'),\n",
       " 'Oliver Samuelson': Int64Index([787], dtype='int64'),\n",
       " 'Oliver Sapp': Int64Index([99, 513], dtype='int64'),\n",
       " 'Oliver Sears': Int64Index([317, 352], dtype='int64'),\n",
       " 'Oliver Turner': Int64Index([388, 740, 865], dtype='int64'),\n",
       " 'Oliver Withers': Int64Index([22], dtype='int64'),\n",
       " 'Onika Adams': Int64Index([42], dtype='int64'),\n",
       " 'Onika Baker': Int64Index([621], dtype='int64'),\n",
       " 'Onika Carter': Int64Index([498], dtype='int64'),\n",
       " 'Onika Ettienne': Int64Index([95], dtype='int64'),\n",
       " 'Onika Franklin': Int64Index([896], dtype='int64'),\n",
       " 'Onika Gerardo': Int64Index([109, 496], dtype='int64'),\n",
       " 'Onika Harrison': Int64Index([569], dtype='int64'),\n",
       " 'Onika Henderson': Int64Index([338, 888], dtype='int64'),\n",
       " 'Onika Isaacson': Int64Index([309, 456], dtype='int64'),\n",
       " 'Onika Jackson': Int64Index([618], dtype='int64'),\n",
       " 'Onika Kane': Int64Index([299, 316], dtype='int64'),\n",
       " 'Onika Kennedy': Int64Index([147, 192], dtype='int64'),\n",
       " 'Onika Michaels': Int64Index([638], dtype='int64'),\n",
       " 'Onika Patterson': Int64Index([869], dtype='int64'),\n",
       " 'Onika Samuelson': Int64Index([205, 395], dtype='int64'),\n",
       " 'Onika Sapp': Int64Index([801], dtype='int64'),\n",
       " 'Onika Sears': Int64Index([66], dtype='int64'),\n",
       " 'Onika Turner': Int64Index([454, 691, 892], dtype='int64'),\n",
       " 'Paula Baker': Int64Index([570], dtype='int64'),\n",
       " 'Paula Carter': Int64Index([182, 661], dtype='int64'),\n",
       " 'Paula Ettienne': Int64Index([248, 294], dtype='int64'),\n",
       " 'Paula Gerardo': Int64Index([105, 224, 259], dtype='int64'),\n",
       " 'Paula Jackson': Int64Index([65, 390, 610], dtype='int64'),\n",
       " 'Paula Johnson': Int64Index([433], dtype='int64'),\n",
       " 'Paula Looner': Int64Index([54, 222], dtype='int64'),\n",
       " 'Paula Monroe': Int64Index([356], dtype='int64'),\n",
       " 'Paula Moore': Int64Index([262, 373, 560, 947, 995], dtype='int64'),\n",
       " 'Paula Mulgrew': Int64Index([11], dtype='int64'),\n",
       " 'Paula Patterson': Int64Index([949], dtype='int64'),\n",
       " 'Paula Rogers': Int64Index([101, 116, 247], dtype='int64'),\n",
       " 'Paula Rose': Int64Index([272, 895], dtype='int64'),\n",
       " 'Paula Samuelson': Int64Index([217], dtype='int64'),\n",
       " 'Paula Vaughn': Int64Index([407, 738], dtype='int64'),\n",
       " 'Paula Walters ': Int64Index([347], dtype='int64'),\n",
       " 'Peter Adams': Int64Index([826], dtype='int64'),\n",
       " 'Peter Baker': Int64Index([165], dtype='int64'),\n",
       " 'Peter Carter': Int64Index([339, 991], dtype='int64'),\n",
       " 'Peter Franklin': Int64Index([162], dtype='int64'),\n",
       " 'Peter Harrison': Int64Index([716, 851], dtype='int64'),\n",
       " 'Peter Isaacson': Int64Index([889], dtype='int64'),\n",
       " 'Peter Jackson': Int64Index([724], dtype='int64'),\n",
       " 'Peter Kane': Int64Index([17], dtype='int64'),\n",
       " 'Peter Kennedy': Int64Index([251, 426], dtype='int64'),\n",
       " 'Peter Looner': Int64Index([962], dtype='int64'),\n",
       " 'Peter Martins': Int64Index([34, 336], dtype='int64'),\n",
       " 'Peter Michaels': Int64Index([87], dtype='int64'),\n",
       " 'Peter Mulgrew': Int64Index([357, 838, 943], dtype='int64'),\n",
       " 'Peter Patterson': Int64Index([216], dtype='int64'),\n",
       " 'Peter Rose': Int64Index([57], dtype='int64'),\n",
       " 'Peter Sapp': Int64Index([953], dtype='int64'),\n",
       " 'Peter Sears': Int64Index([14, 253, 369], dtype='int64'),\n",
       " 'Peter Withers': Int64Index([471], dtype='int64'),\n",
       " 'Roger Baker': Int64Index([71], dtype='int64'),\n",
       " 'Roger Carter': Int64Index([255], dtype='int64'),\n",
       " 'Roger Davidson': Int64Index([448], dtype='int64'),\n",
       " 'Roger Ettienne': Int64Index([464, 695], dtype='int64'),\n",
       " 'Roger Franklin': Int64Index([531], dtype='int64'),\n",
       " 'Roger Jackson': Int64Index([131, 370], dtype='int64'),\n",
       " 'Roger Johnson': Int64Index([70], dtype='int64'),\n",
       " 'Roger Kennedy': Int64Index([350], dtype='int64'),\n",
       " 'Roger Martins': Int64Index([171, 626], dtype='int64'),\n",
       " 'Roger Moore': Int64Index([431, 955], dtype='int64'),\n",
       " 'Roger Mulgrew': Int64Index([297], dtype='int64'),\n",
       " 'Roger Rogers': Int64Index([36, 843], dtype='int64'),\n",
       " 'Roger Samuelson': Int64Index([323], dtype='int64'),\n",
       " 'Roger Vaughn': Int64Index([491, 770], dtype='int64'),\n",
       " 'Roger Walters ': Int64Index([723, 807], dtype='int64'),\n",
       " 'Roger Withers': Int64Index([3, 60], dtype='int64'),\n",
       " 'Ronelle Adams': Int64Index([21, 449, 620, 825], dtype='int64'),\n",
       " 'Ronelle Davidson': Int64Index([41, 817], dtype='int64'),\n",
       " 'Ronelle Jackson': Int64Index([59, 915], dtype='int64'),\n",
       " 'Ronelle Martins': Int64Index([341], dtype='int64'),\n",
       " 'Ronelle Michaels': Int64Index([214, 811], dtype='int64'),\n",
       " 'Ronelle Monroe': Int64Index([346, 719], dtype='int64'),\n",
       " 'Ronelle Moore': Int64Index([141], dtype='int64'),\n",
       " 'Ronelle Mulgrew': Int64Index([261], dtype='int64'),\n",
       " 'Ronelle Patterson': Int64Index([609, 736], dtype='int64'),\n",
       " 'Ronelle Rogers': Int64Index([286, 320, 382], dtype='int64'),\n",
       " 'Ronelle Samuelson': Int64Index([64, 301, 764], dtype='int64'),\n",
       " 'Ronelle Vaughn': Int64Index([188, 553], dtype='int64'),\n",
       " 'Ronelle Withers': Int64Index([810], dtype='int64'),\n",
       " 'Sam Adams': Int64Index([822], dtype='int64'),\n",
       " 'Sam Baker': Int64Index([332], dtype='int64'),\n",
       " 'Sam Carter': Int64Index([457, 501], dtype='int64'),\n",
       " 'Sam Ettienne': Int64Index([334], dtype='int64'),\n",
       " 'Sam Franklin': Int64Index([981], dtype='int64'),\n",
       " 'Sam Gerardo': Int64Index([100, 625], dtype='int64'),\n",
       " 'Sam Harrison': Int64Index([226, 596, 682, 747, 776, 890], dtype='int64'),\n",
       " 'Sam Henderson': Int64Index([55, 158, 260, 700], dtype='int64'),\n",
       " 'Sam Isaacson': Int64Index([391, 495, 582], dtype='int64'),\n",
       " 'Sam Jackson': Int64Index([209, 871, 942], dtype='int64'),\n",
       " 'Sam Johnson': Int64Index([368, 912], dtype='int64'),\n",
       " 'Sam Kennedy': Int64Index([146, 708, 880], dtype='int64'),\n",
       " 'Sam Martins': Int64Index([313, 453, 489, 520], dtype='int64'),\n",
       " 'Sam Moore': Int64Index([731], dtype='int64'),\n",
       " 'Sam Mulgrew': Int64Index([154, 285, 759, 959], dtype='int64'),\n",
       " 'Sam Patterson': Int64Index([923], dtype='int64'),\n",
       " 'Sam Rogers': Int64Index([254, 659, 795], dtype='int64'),\n",
       " 'Sam Samuelson': Int64Index([329, 571, 911], dtype='int64'),\n",
       " 'Sam Sapp': Int64Index([636], dtype='int64'),\n",
       " 'Sam Sears': Int64Index([106, 186, 189, 567], dtype='int64'),\n",
       " 'Sam Turner': Int64Index([393, 830], dtype='int64'),\n",
       " 'Sam Vaughn': Int64Index([256], dtype='int64'),\n",
       " 'Sam Walters ': Int64Index([9, 24, 151, 761], dtype='int64'),\n",
       " 'Sam Withers': Int64Index([614, 897], dtype='int64'),\n",
       " 'Samantha Adams': Int64Index([856], dtype='int64'),\n",
       " 'Samantha Baker': Int64Index([948, 992], dtype='int64'),\n",
       " 'Samantha Carter': Int64Index([660], dtype='int64'),\n",
       " 'Samantha Gerardo': Int64Index([534], dtype='int64'),\n",
       " 'Samantha Harrison': Int64Index([81, 812], dtype='int64'),\n",
       " 'Samantha Henderson': Int64Index([12, 689, 968], dtype='int64'),\n",
       " 'Samantha Isaacson': Int64Index([212, 298, 383], dtype='int64'),\n",
       " 'Samantha Looner': Int64Index([122, 360, 694], dtype='int64'),\n",
       " 'Samantha Martins': Int64Index([913], dtype='int64'),\n",
       " 'Samantha Michaels': Int64Index([92, 643], dtype='int64'),\n",
       " 'Samantha Monroe': Int64Index([82, 492], dtype='int64'),\n",
       " 'Samantha Moore': Int64Index([392], dtype='int64'),\n",
       " 'Samantha Rogers': Int64Index([797], dtype='int64'),\n",
       " 'Samantha Rose': Int64Index([484, 909], dtype='int64'),\n",
       " 'Samantha Samuelson': Int64Index([805], dtype='int64'),\n",
       " 'Samantha Turner': Int64Index([693], dtype='int64'),\n",
       " 'Samantha Vaughn': Int64Index([515, 588], dtype='int64'),\n",
       " 'Samantha Withers': Int64Index([783], dtype='int64'),\n",
       " 'Tanya Adams': Int64Index([233], dtype='int64'),\n",
       " 'Tanya Baker': Int64Index([354, 772], dtype='int64'),\n",
       " 'Tanya Harrison': Int64Index([683], dtype='int64'),\n",
       " 'Tanya Jackson': Int64Index([939], dtype='int64'),\n",
       " 'Tanya Johnson': Int64Index([447], dtype='int64'),\n",
       " 'Tanya Monroe': Int64Index([486], dtype='int64'),\n",
       " 'Tanya Mulgrew': Int64Index([752], dtype='int64'),\n",
       " 'Tanya Rogers': Int64Index([858], dtype='int64'),\n",
       " 'Tanya Rose': Int64Index([545, 637], dtype='int64'),\n",
       " 'Tanya Sapp': Int64Index([483], dtype='int64'),\n",
       " 'Tanya Sears': Int64Index([820], dtype='int64'),\n",
       " 'Tanya Turner': Int64Index([690], dtype='int64'),\n",
       " 'Tanya Vaughn': Int64Index([191], dtype='int64'),\n",
       " 'Tom Carter': Int64Index([432, 809], dtype='int64'),\n",
       " 'Tom Davidson': Int64Index([40, 344, 521, 833], dtype='int64'),\n",
       " 'Tom Ettienne': Int64Index([548], dtype='int64'),\n",
       " 'Tom Franklin': Int64Index([153], dtype='int64'),\n",
       " 'Tom Harrison': Int64Index([459], dtype='int64'),\n",
       " 'Tom Henderson': Int64Index([126], dtype='int64'),\n",
       " 'Tom Isaacson': Int64Index([532, 673, 823], dtype='int64'),\n",
       " 'Tom Looner': Int64Index([639], dtype='int64'),\n",
       " 'Tom Martins': Int64Index([107, 180], dtype='int64'),\n",
       " 'Tom Monroe': Int64Index([128], dtype='int64'),\n",
       " 'Tom Moore': Int64Index([111, 931], dtype='int64'),\n",
       " 'Tom Mulgrew': Int64Index([624], dtype='int64'),\n",
       " 'Tom Samuelson': Int64Index([551], dtype='int64'),\n",
       " 'Tom Sapp': Int64Index([50], dtype='int64'),\n",
       " 'Tom Sears': Int64Index([252], dtype='int64'),\n",
       " 'Veronica Baker': Int64Index([608, 670], dtype='int64'),\n",
       " 'Veronica Davidson': Int64Index([563], dtype='int64'),\n",
       " 'Veronica Franklin': Int64Index([936], dtype='int64'),\n",
       " 'Veronica Gerardo': Int64Index([179, 264], dtype='int64'),\n",
       " 'Veronica Harrison': Int64Index([998], dtype='int64'),\n",
       " 'Veronica Henderson': Int64Index([860, 899], dtype='int64'),\n",
       " 'Veronica Isaacson': Int64Index([193], dtype='int64'),\n",
       " 'Veronica Jackson': Int64Index([599], dtype='int64'),\n",
       " 'Veronica Kennedy': Int64Index([409], dtype='int64'),\n",
       " 'Veronica Looner': Int64Index([170], dtype='int64'),\n",
       " 'Veronica Martins': Int64Index([73], dtype='int64'),\n",
       " 'Veronica Michaels': Int64Index([503, 666], dtype='int64'),\n",
       " 'Veronica Monroe': Int64Index([51, 463], dtype='int64'),\n",
       " 'Veronica Moore': Int64Index([933, 958], dtype='int64'),\n",
       " 'Veronica Mulgrew': Int64Index([504], dtype='int64'),\n",
       " 'Veronica Rose': Int64Index([481, 663, 863], dtype='int64'),\n",
       " 'Veronica Samuelson': Int64Index([148], dtype='int64'),\n",
       " 'Veronica Vaughn': Int64Index([605], dtype='int64'),\n",
       " 'Victor Adams': Int64Index([745], dtype='int64'),\n",
       " 'Victor Carter': Int64Index([506], dtype='int64'),\n",
       " 'Victor Davidson': Int64Index([124], dtype='int64'),\n",
       " 'Victor Gerardo': Int64Index([130], dtype='int64'),\n",
       " 'Victor Harrison': Int64Index([300, 703], dtype='int64'),\n",
       " 'Victor Henderson': Int64Index([440], dtype='int64'),\n",
       " 'Victor Kane': Int64Index([562, 808], dtype='int64'),\n",
       " 'Victor Looner': Int64Index([977], dtype='int64'),\n",
       " 'Victor Michaels': Int64Index([152], dtype='int64'),\n",
       " 'Victor Monroe': Int64Index([380, 836], dtype='int64'),\n",
       " 'Victor Moore': Int64Index([145, 926], dtype='int64'),\n",
       " 'Victor Rogers': Int64Index([385, 940], dtype='int64'),\n",
       " 'Victor Sapp': Int64Index([494], dtype='int64'),\n",
       " 'Victor Vaughn': Int64Index([425], dtype='int64'),\n",
       " 'Victoria Adams': Int64Index([98, 766], dtype='int64'),\n",
       " 'Victoria Gerardo': Int64Index([204, 325, 530], dtype='int64'),\n",
       " 'Victoria Jackson': Int64Index([230, 421], dtype='int64'),\n",
       " 'Victoria Johnson': Int64Index([374], dtype='int64'),\n",
       " 'Victoria Kane': Int64Index([33, 707], dtype='int64'),\n",
       " 'Victoria Kennedy': Int64Index([727], dtype='int64'),\n",
       " 'Victoria Martins': Int64Index([470], dtype='int64'),\n",
       " 'Victoria Michaels': Int64Index([198], dtype='int64'),\n",
       " 'Victoria Moore': Int64Index([159], dtype='int64'),\n",
       " 'Victoria Mulgrew': Int64Index([372], dtype='int64'),\n",
       " 'Victoria Rogers': Int64Index([284, 315], dtype='int64'),\n",
       " 'Victoria Rose': Int64Index([378, 616], dtype='int64'),\n",
       " 'Victoria Samuelson': Int64Index([603], dtype='int64'),\n",
       " 'Victoria Sapp': Int64Index([311], dtype='int64'),\n",
       " 'Victoria Turner': Int64Index([500, 647], dtype='int64'),\n",
       " 'Victoria Vaughn': Int64Index([893], dtype='int64'),\n",
       " 'Victoria Walters ': Int64Index([196, 720], dtype='int64'),\n",
       " 'Walter Adams': Int64Index([108], dtype='int64'),\n",
       " 'Walter Ettienne': Int64Index([479], dtype='int64'),\n",
       " 'Walter Franklin': Int64Index([631, 868], dtype='int64'),\n",
       " 'Walter Harrison': Int64Index([61, 829], dtype='int64'),\n",
       " 'Walter Isaacson': Int64Index([424], dtype='int64'),\n",
       " 'Walter Jackson': Int64Index([728], dtype='int64'),\n",
       " 'Walter Johnson': Int64Index([386, 757], dtype='int64'),\n",
       " 'Walter Kane': Int64Index([561], dtype='int64'),\n",
       " 'Walter Kennedy': Int64Index([844], dtype='int64'),\n",
       " 'Walter Looner': Int64Index([276], dtype='int64'),\n",
       " 'Walter Martins': Int64Index([281], dtype='int64'),\n",
       " 'Walter Monroe': Int64Index([361, 566], dtype='int64'),\n",
       " 'Walter Moore': Int64Index([935], dtype='int64'),\n",
       " 'Walter Mulgrew': Int64Index([773], dtype='int64'),\n",
       " 'Walter Sapp': Int64Index([598, 804], dtype='int64'),\n",
       " 'Walter Sears': Int64Index([250], dtype='int64'),\n",
       " 'india Baker': Int64Index([44], dtype='int64'),\n",
       " 'india Davidson': Int64Index([244, 460, 517, 585], dtype='int64'),\n",
       " 'india Franklin': Int64Index([415], dtype='int64'),\n",
       " 'india Gerardo': Int64Index([377], dtype='int64'),\n",
       " 'india Harrison': Int64Index([937], dtype='int64'),\n",
       " 'india Henderson': Int64Index([142], dtype='int64'),\n",
       " 'india Isaacson': Int64Index([485], dtype='int64'),\n",
       " 'india Jackson': Int64Index([950], dtype='int64'),\n",
       " 'india Kane': Int64Index([891], dtype='int64'),\n",
       " 'india Kennedy': Int64Index([263, 303], dtype='int64'),\n",
       " 'india Monroe': Int64Index([200, 314], dtype='int64'),\n",
       " 'india Mulgrew': Int64Index([353], dtype='int64'),\n",
       " 'india Rogers': Int64Index([905, 952], dtype='int64'),\n",
       " 'india Rose': Int64Index([854], dtype='int64'),\n",
       " 'india Samuelson': Int64Index([135, 780], dtype='int64'),\n",
       " 'india Sapp': Int64Index([132, 883], dtype='int64'),\n",
       " 'india Sears': Int64Index([443, 879], dtype='int64'),\n",
       " 'india Turner': Int64Index([271, 748], dtype='int64'),\n",
       " 'india Vaughn': Int64Index([767, 798], dtype='int64'),\n",
       " 'india Withers': Int64Index([67, 418], dtype='int64')}"
      ]
     },
     "execution_count": 109,
     "metadata": {},
     "output_type": "execute_result"
    }
   ],
   "source": [
    "df['Full']=df['Fname']+[\" \"]+df['Lname']\n",
    "df.groupby('Full').groups"
   ]
  },
  {
   "cell_type": "raw",
   "metadata": {},
   "source": []
  },
  {
   "cell_type": "code",
   "execution_count": null,
   "metadata": {},
   "outputs": [],
   "source": [
    "list(filter(fun,seq))"
   ]
  },
  {
   "cell_type": "markdown",
   "metadata": {},
   "source": [
    "# Groupby multi-indexing"
   ]
  },
  {
   "cell_type": "code",
   "execution_count": 113,
   "metadata": {},
   "outputs": [],
   "source": [
    "arrays = [['bar', 'bar', 'baz', 'baz', 'foo', 'foo', 'qux', 'qux'], ['one', 'two', 'one', 'two', 'one', 'two', 'one', 'two']]"
   ]
  },
  {
   "cell_type": "code",
   "execution_count": 114,
   "metadata": {},
   "outputs": [],
   "source": [
    "index=pd.MultiIndex.from_arrays(arrays,names=['first','second'])"
   ]
  },
  {
   "cell_type": "code",
   "execution_count": 118,
   "metadata": {},
   "outputs": [
    {
     "data": {
      "text/plain": [
       "first  second\n",
       "bar    one      -0.694833\n",
       "       two      -1.820561\n",
       "baz    one      -0.700858\n",
       "       two      -0.823872\n",
       "foo    one      -1.026065\n",
       "       two      -0.183023\n",
       "qux    one       1.481013\n",
       "       two       0.976481\n",
       "dtype: float64"
      ]
     },
     "execution_count": 118,
     "metadata": {},
     "output_type": "execute_result"
    }
   ],
   "source": [
    "s=pd.Series(np.random.randn(8),index=index)\n",
    "s"
   ]
  },
  {
   "cell_type": "code",
   "execution_count": 121,
   "metadata": {},
   "outputs": [
    {
     "data": {
      "text/plain": [
       "second\n",
       "one   -0.940743\n",
       "two   -1.850974\n",
       "dtype: float64"
      ]
     },
     "execution_count": 121,
     "metadata": {},
     "output_type": "execute_result"
    }
   ],
   "source": [
    "s.groupby(level=1).sum()"
   ]
  },
  {
   "cell_type": "code",
   "execution_count": 122,
   "metadata": {},
   "outputs": [
    {
     "data": {
      "text/plain": [
       "second\n",
       "one   -0.940743\n",
       "two   -1.850974\n",
       "dtype: float64"
      ]
     },
     "execution_count": 122,
     "metadata": {},
     "output_type": "execute_result"
    }
   ],
   "source": [
    "s.sum(level=1)"
   ]
  },
  {
   "cell_type": "code",
   "execution_count": 123,
   "metadata": {},
   "outputs": [
    {
     "name": "stdout",
     "output_type": "stream",
     "text": [
      "first  second\n",
      "bar    one      -0.694833\n",
      "       two      -1.820561\n",
      "baz    one      -0.700858\n",
      "       two      -0.823872\n",
      "foo    one      -1.026065\n",
      "       two      -0.183023\n",
      "qux    one       1.481013\n",
      "       two       0.976481\n",
      "dtype: float64\n"
     ]
    }
   ],
   "source": [
    "print(s.groupby(level=['first', 'second']).sum())"
   ]
  },
  {
   "cell_type": "code",
   "execution_count": 126,
   "metadata": {},
   "outputs": [
    {
     "data": {
      "text/plain": [
       "second  first\n",
       "one     bar     -0.694833\n",
       "        baz     -0.700858\n",
       "        foo     -1.026065\n",
       "        qux      1.481013\n",
       "two     bar     -1.820561\n",
       "        baz     -0.823872\n",
       "        foo     -0.183023\n",
       "        qux      0.976481\n",
       "dtype: float64"
      ]
     },
     "execution_count": 126,
     "metadata": {},
     "output_type": "execute_result"
    }
   ],
   "source": [
    "s.groupby([pd.Grouper(level=1), 'first']).sum()"
   ]
  },
  {
   "cell_type": "markdown",
   "metadata": {},
   "source": [
    "# Aggregation"
   ]
  },
  {
   "cell_type": "code",
   "execution_count": 8,
   "metadata": {},
   "outputs": [],
   "source": [
    "import numpy as np\n",
    "import pandas as pd"
   ]
  },
  {
   "cell_type": "code",
   "execution_count": 7,
   "metadata": {
    "scrolled": true
   },
   "outputs": [
    {
     "data": {
      "text/html": [
       "<div>\n",
       "<style scoped>\n",
       "    .dataframe tbody tr th:only-of-type {\n",
       "        vertical-align: middle;\n",
       "    }\n",
       "\n",
       "    .dataframe tbody tr th {\n",
       "        vertical-align: top;\n",
       "    }\n",
       "\n",
       "    .dataframe thead th {\n",
       "        text-align: right;\n",
       "    }\n",
       "</style>\n",
       "<table border=\"1\" class=\"dataframe\">\n",
       "  <thead>\n",
       "    <tr style=\"text-align: right;\">\n",
       "      <th></th>\n",
       "      <th>Fname</th>\n",
       "      <th>Lname</th>\n",
       "      <th>Gender</th>\n",
       "      <th>Grade</th>\n",
       "      <th>Hours of Study</th>\n",
       "    </tr>\n",
       "  </thead>\n",
       "  <tbody>\n",
       "    <tr>\n",
       "      <th>0</th>\n",
       "      <td>Mary</td>\n",
       "      <td>Ettienne</td>\n",
       "      <td>F</td>\n",
       "      <td>B</td>\n",
       "      <td>16</td>\n",
       "    </tr>\n",
       "    <tr>\n",
       "      <th>1</th>\n",
       "      <td>Charles</td>\n",
       "      <td>Looner</td>\n",
       "      <td>M</td>\n",
       "      <td>F</td>\n",
       "      <td>8</td>\n",
       "    </tr>\n",
       "    <tr>\n",
       "      <th>2</th>\n",
       "      <td>Betty</td>\n",
       "      <td>Franklin</td>\n",
       "      <td>F</td>\n",
       "      <td>A</td>\n",
       "      <td>24</td>\n",
       "    </tr>\n",
       "    <tr>\n",
       "      <th>3</th>\n",
       "      <td>Roger</td>\n",
       "      <td>Withers</td>\n",
       "      <td>M</td>\n",
       "      <td>C</td>\n",
       "      <td>5</td>\n",
       "    </tr>\n",
       "    <tr>\n",
       "      <th>4</th>\n",
       "      <td>John</td>\n",
       "      <td>Mulgrew</td>\n",
       "      <td>M</td>\n",
       "      <td>A</td>\n",
       "      <td>5</td>\n",
       "    </tr>\n",
       "  </tbody>\n",
       "</table>\n",
       "</div>"
      ],
      "text/plain": [
       "     Fname     Lname Gender Grade  Hours of Study\n",
       "0     Mary  Ettienne      F     B              16\n",
       "1  Charles    Looner      M     F               8\n",
       "2    Betty  Franklin      F     A              24\n",
       "3    Roger   Withers      M     C               5\n",
       "4     John   Mulgrew      M     A               5"
      ]
     },
     "execution_count": 7,
     "metadata": {},
     "output_type": "execute_result"
    }
   ],
   "source": [
    "df.head()"
   ]
  },
  {
   "cell_type": "code",
   "execution_count": 11,
   "metadata": {
    "scrolled": false
   },
   "outputs": [
    {
     "name": "stdout",
     "output_type": "stream",
     "text": [
      "        Hours of Study\n",
      "Gender                \n",
      "F                 8115\n",
      "M                 6985\n"
     ]
    }
   ],
   "source": [
    "grp=df.groupby('Gender')\n",
    "print(grp.agg(np.sum))"
   ]
  },
  {
   "cell_type": "code",
   "execution_count": 17,
   "metadata": {},
   "outputs": [
    {
     "name": "stdout",
     "output_type": "stream",
     "text": [
      "              Hours of Study\n",
      "Gender Grade                \n",
      "F      A           18.904762\n",
      "       B           15.919643\n",
      "       C           14.386139\n",
      "       D           14.044248\n",
      "       F            4.833333\n",
      "M      A           16.664062\n",
      "       B           15.860465\n",
      "       C           14.093750\n",
      "       D           15.116071\n",
      "       F            7.491525\n"
     ]
    }
   ],
   "source": [
    "group=df.groupby(['Gender','Grade'])\n",
    "print(group.aggregate(np.mean))"
   ]
  },
  {
   "cell_type": "code",
   "execution_count": 23,
   "metadata": {},
   "outputs": [
    {
     "name": "stdout",
     "output_type": "stream",
     "text": [
      "  Gender Grade  Hours of Study\n",
      "0      F     A       18.904762\n",
      "1      F     B       15.919643\n",
      "2      F     C       14.386139\n",
      "3      F     D       14.044248\n",
      "4      F     F        4.833333\n",
      "5      M     A       16.664062\n",
      "6      M     B       15.860465\n",
      "7      M     C       14.093750\n",
      "8      M     D       15.116071\n",
      "9      M     F        7.491525\n"
     ]
    }
   ],
   "source": [
    "group=df.groupby(['Gender','Grade'],as_index=False)\n",
    "print(group.aggregate(np.mean))"
   ]
  },
  {
   "cell_type": "code",
   "execution_count": 20,
   "metadata": {},
   "outputs": [
    {
     "name": "stdout",
     "output_type": "stream",
     "text": [
      "  Gender Grade  Hours of Study\n",
      "0      F     A       18.904762\n",
      "1      F     B       15.919643\n",
      "2      F     C       14.386139\n",
      "3      F     D       14.044248\n",
      "4      F     F        4.833333\n",
      "5      M     A       16.664062\n",
      "6      M     B       15.860465\n",
      "7      M     C       14.093750\n",
      "8      M     D       15.116071\n",
      "9      M     F        7.491525\n"
     ]
    }
   ],
   "source": [
    "print(df.groupby(['Gender','Grade'], as_index=False).mean())"
   ]
  },
  {
   "cell_type": "code",
   "execution_count": 37,
   "metadata": {},
   "outputs": [
    {
     "name": "stdout",
     "output_type": "stream",
     "text": [
      "Gender  Grade\n",
      "F       A        168\n",
      "        B        112\n",
      "        C        101\n",
      "        D        113\n",
      "        F         24\n",
      "M       A        128\n",
      "        B         86\n",
      "        C         96\n",
      "        D        112\n",
      "        F         59\n",
      "dtype: int64\n"
     ]
    }
   ],
   "source": [
    "grouped=df.groupby(['Gender','Grade'])\n",
    "print(grouped.size())"
   ]
  },
  {
   "cell_type": "code",
   "execution_count": 54,
   "metadata": {},
   "outputs": [
    {
     "name": "stdout",
     "output_type": "stream",
     "text": [
      "              Fname  Lname  Hours of Study\n",
      "Gender Grade                              \n",
      "F      A        168    168             168\n",
      "       B        112    112             112\n",
      "       C        101    101             101\n",
      "       D        113    113             113\n",
      "       F         24     24              24\n",
      "M      A        128    128             128\n",
      "       B         86     86              86\n",
      "       C         96     96              96\n",
      "       D        112    112             112\n",
      "       F         59     59              59\n"
     ]
    }
   ],
   "source": [
    "grouped=df.groupby(['Gender','Grade'])\n",
    "print(grouped.count())"
   ]
  },
  {
   "cell_type": "code",
   "execution_count": 53,
   "metadata": {},
   "outputs": [
    {
     "data": {
      "text/html": [
       "<div>\n",
       "<style scoped>\n",
       "    .dataframe tbody tr th:only-of-type {\n",
       "        vertical-align: middle;\n",
       "    }\n",
       "\n",
       "    .dataframe tbody tr th {\n",
       "        vertical-align: top;\n",
       "    }\n",
       "\n",
       "    .dataframe thead tr th {\n",
       "        text-align: left;\n",
       "    }\n",
       "\n",
       "    .dataframe thead tr:last-of-type th {\n",
       "        text-align: right;\n",
       "    }\n",
       "</style>\n",
       "<table border=\"1\" class=\"dataframe\">\n",
       "  <thead>\n",
       "    <tr>\n",
       "      <th></th>\n",
       "      <th colspan=\"8\" halign=\"left\">Hours of Study</th>\n",
       "    </tr>\n",
       "    <tr>\n",
       "      <th></th>\n",
       "      <th>count</th>\n",
       "      <th>mean</th>\n",
       "      <th>std</th>\n",
       "      <th>min</th>\n",
       "      <th>25%</th>\n",
       "      <th>50%</th>\n",
       "      <th>75%</th>\n",
       "      <th>max</th>\n",
       "    </tr>\n",
       "    <tr>\n",
       "      <th>Gender</th>\n",
       "      <th></th>\n",
       "      <th></th>\n",
       "      <th></th>\n",
       "      <th></th>\n",
       "      <th></th>\n",
       "      <th></th>\n",
       "      <th></th>\n",
       "      <th></th>\n",
       "    </tr>\n",
       "  </thead>\n",
       "  <tbody>\n",
       "    <tr>\n",
       "      <th>F</th>\n",
       "      <td>518.0</td>\n",
       "      <td>15.666023</td>\n",
       "      <td>8.952618</td>\n",
       "      <td>0.0</td>\n",
       "      <td>9.0</td>\n",
       "      <td>15.0</td>\n",
       "      <td>23.0</td>\n",
       "      <td>30.0</td>\n",
       "    </tr>\n",
       "    <tr>\n",
       "      <th>M</th>\n",
       "      <td>481.0</td>\n",
       "      <td>14.521830</td>\n",
       "      <td>9.004168</td>\n",
       "      <td>0.0</td>\n",
       "      <td>7.0</td>\n",
       "      <td>15.0</td>\n",
       "      <td>22.0</td>\n",
       "      <td>30.0</td>\n",
       "    </tr>\n",
       "  </tbody>\n",
       "</table>\n",
       "</div>"
      ],
      "text/plain": [
       "       Hours of Study                                                 \n",
       "                count       mean       std  min  25%   50%   75%   max\n",
       "Gender                                                                \n",
       "F               518.0  15.666023  8.952618  0.0  9.0  15.0  23.0  30.0\n",
       "M               481.0  14.521830  9.004168  0.0  7.0  15.0  22.0  30.0"
      ]
     },
     "execution_count": 53,
     "metadata": {},
     "output_type": "execute_result"
    }
   ],
   "source": [
    "grouped.describe()"
   ]
  },
  {
   "cell_type": "markdown",
   "metadata": {},
   "source": [
    "### aggregate funtion\n",
    "mean()\n",
    "sum()\n",
    "size()\n",
    "count()\n",
    "std()\n",
    "var()\n",
    "sem()\n",
    "describe()\n",
    "first()\n",
    "last()\n",
    "nth()\n",
    "min()\n",
    "max()"
   ]
  },
  {
   "cell_type": "code",
   "execution_count": 41,
   "metadata": {},
   "outputs": [
    {
     "name": "stdout",
     "output_type": "stream",
     "text": [
      "               sum       mean       std\n",
      "Gender Grade                           \n",
      "F      A      3176  18.904762  7.641079\n",
      "       B      1783  15.919643  9.069440\n",
      "       C      1453  14.386139  8.954295\n",
      "       D      1587  14.044248  9.122568\n",
      "       F       116   4.833333  2.713359\n",
      "M      A      2133  16.664062  9.317055\n",
      "       B      1364  15.860465  8.613482\n",
      "       C      1353  14.093750  9.187037\n",
      "       D      1693  15.116071  8.535823\n",
      "       F       442   7.491525  5.516036\n"
     ]
    }
   ],
   "source": [
    "print(grouped['Hours of Study'].agg([np.sum, np.mean, np.std]))"
   ]
  },
  {
   "cell_type": "code",
   "execution_count": 48,
   "metadata": {},
   "outputs": [
    {
     "name": "stdout",
     "output_type": "stream",
     "text": [
      "         sum       mean       std        var  amin  amax  size\n",
      "Gender                                                        \n",
      "F       8115  15.666023  8.952618  80.149366     0    30   518\n",
      "M       6985  14.521830  9.004168  81.075043     0    30   481\n"
     ]
    }
   ],
   "source": [
    "grouped=df.groupby('Gender')\n",
    "print(grouped['Hours of Study'].agg([np.sum,np.mean,np.std,np.var,np.min,np.max,np.size]))"
   ]
  },
  {
   "cell_type": "code",
   "execution_count": 51,
   "metadata": {},
   "outputs": [
    {
     "name": "stdout",
     "output_type": "stream",
     "text": [
      "       Hours of Study                     \n",
      "                  foo        bar       baz\n",
      "Gender                                    \n",
      "F                8115  15.666023  8.952618\n",
      "M                6985  14.521830  9.004168\n"
     ]
    }
   ],
   "source": [
    "print((grouped.agg([np.sum, np.mean, np.std])\n",
    "       .rename(columns={'sum': 'foo', 'mean': 'bar', 'std': 'baz'})))\n"
   ]
  },
  {
   "cell_type": "code",
   "execution_count": null,
   "metadata": {},
   "outputs": [],
   "source": [
    "grouped = df.groupby('A')\n",
    "print(grouped.agg({'C' : np.sum,'D' : lambda x: np.std(x, ddof=1)}))"
   ]
  },
  {
   "cell_type": "code",
   "execution_count": null,
   "metadata": {},
   "outputs": [],
   "source": []
  },
  {
   "cell_type": "markdown",
   "metadata": {},
   "source": [
    "# MERGE"
   ]
  },
  {
   "cell_type": "code",
   "execution_count": 100,
   "metadata": {},
   "outputs": [],
   "source": [
    "import numpy as np\n",
    "import pandas as pd"
   ]
  },
  {
   "cell_type": "code",
   "execution_count": 64,
   "metadata": {},
   "outputs": [],
   "source": [
    "left_df=pd.DataFrame(data=[[0,'one'],[1,'two'],[2,'three'],[3,'four']],columns=['id','left_side'],index=None)"
   ]
  },
  {
   "cell_type": "code",
   "execution_count": 82,
   "metadata": {},
   "outputs": [
    {
     "data": {
      "text/html": [
       "<div>\n",
       "<style scoped>\n",
       "    .dataframe tbody tr th:only-of-type {\n",
       "        vertical-align: middle;\n",
       "    }\n",
       "\n",
       "    .dataframe tbody tr th {\n",
       "        vertical-align: top;\n",
       "    }\n",
       "\n",
       "    .dataframe thead th {\n",
       "        text-align: right;\n",
       "    }\n",
       "</style>\n",
       "<table border=\"1\" class=\"dataframe\">\n",
       "  <thead>\n",
       "    <tr style=\"text-align: right;\">\n",
       "      <th></th>\n",
       "      <th>left_side</th>\n",
       "    </tr>\n",
       "    <tr>\n",
       "      <th>id</th>\n",
       "      <th></th>\n",
       "    </tr>\n",
       "  </thead>\n",
       "  <tbody>\n",
       "    <tr>\n",
       "      <th>0</th>\n",
       "      <td>one</td>\n",
       "    </tr>\n",
       "    <tr>\n",
       "      <th>1</th>\n",
       "      <td>two</td>\n",
       "    </tr>\n",
       "    <tr>\n",
       "      <th>2</th>\n",
       "      <td>three</td>\n",
       "    </tr>\n",
       "    <tr>\n",
       "      <th>3</th>\n",
       "      <td>four</td>\n",
       "    </tr>\n",
       "  </tbody>\n",
       "</table>\n",
       "</div>"
      ],
      "text/plain": [
       "   left_side\n",
       "id          \n",
       "0        one\n",
       "1        two\n",
       "2      three\n",
       "3       four"
      ]
     },
     "execution_count": 82,
     "metadata": {},
     "output_type": "execute_result"
    }
   ],
   "source": [
    "left_df.set_index('id',inplace=True)\n",
    "left_df\n"
   ]
  },
  {
   "cell_type": "code",
   "execution_count": 63,
   "metadata": {},
   "outputs": [
    {
     "data": {
      "text/html": [
       "<div>\n",
       "<style scoped>\n",
       "    .dataframe tbody tr th:only-of-type {\n",
       "        vertical-align: middle;\n",
       "    }\n",
       "\n",
       "    .dataframe tbody tr th {\n",
       "        vertical-align: top;\n",
       "    }\n",
       "\n",
       "    .dataframe thead th {\n",
       "        text-align: right;\n",
       "    }\n",
       "</style>\n",
       "<table border=\"1\" class=\"dataframe\">\n",
       "  <thead>\n",
       "    <tr style=\"text-align: right;\">\n",
       "      <th></th>\n",
       "      <th>id</th>\n",
       "      <th>right_side</th>\n",
       "    </tr>\n",
       "  </thead>\n",
       "  <tbody>\n",
       "    <tr>\n",
       "      <th>0</th>\n",
       "      <td>0</td>\n",
       "      <td>oneone</td>\n",
       "    </tr>\n",
       "    <tr>\n",
       "      <th>1</th>\n",
       "      <td>1</td>\n",
       "      <td>twotwo</td>\n",
       "    </tr>\n",
       "    <tr>\n",
       "      <th>2</th>\n",
       "      <td>0</td>\n",
       "      <td>threethree</td>\n",
       "    </tr>\n",
       "    <tr>\n",
       "      <th>3</th>\n",
       "      <td>3</td>\n",
       "      <td>fourfour</td>\n",
       "    </tr>\n",
       "  </tbody>\n",
       "</table>\n",
       "</div>"
      ],
      "text/plain": [
       "   id  right_side\n",
       "0   0      oneone\n",
       "1   1      twotwo\n",
       "2   0  threethree\n",
       "3   3    fourfour"
      ]
     },
     "execution_count": 63,
     "metadata": {},
     "output_type": "execute_result"
    }
   ],
   "source": [
    "right_df=pd.DataFrame(data=[[0,'oneone'],[1,'twotwo'],[0,'threethree'],[3,'fourfour']],columns=['id','right_side'],index=None)\n",
    "right_df"
   ]
  },
  {
   "cell_type": "code",
   "execution_count": 68,
   "metadata": {},
   "outputs": [
    {
     "data": {
      "text/html": [
       "<div>\n",
       "<style scoped>\n",
       "    .dataframe tbody tr th:only-of-type {\n",
       "        vertical-align: middle;\n",
       "    }\n",
       "\n",
       "    .dataframe tbody tr th {\n",
       "        vertical-align: top;\n",
       "    }\n",
       "\n",
       "    .dataframe thead th {\n",
       "        text-align: right;\n",
       "    }\n",
       "</style>\n",
       "<table border=\"1\" class=\"dataframe\">\n",
       "  <thead>\n",
       "    <tr style=\"text-align: right;\">\n",
       "      <th></th>\n",
       "      <th>id</th>\n",
       "      <th>left_side</th>\n",
       "      <th>right_side</th>\n",
       "    </tr>\n",
       "  </thead>\n",
       "  <tbody>\n",
       "    <tr>\n",
       "      <th>0</th>\n",
       "      <td>0</td>\n",
       "      <td>one</td>\n",
       "      <td>oneone</td>\n",
       "    </tr>\n",
       "    <tr>\n",
       "      <th>1</th>\n",
       "      <td>0</td>\n",
       "      <td>one</td>\n",
       "      <td>threethree</td>\n",
       "    </tr>\n",
       "    <tr>\n",
       "      <th>2</th>\n",
       "      <td>1</td>\n",
       "      <td>two</td>\n",
       "      <td>twotwo</td>\n",
       "    </tr>\n",
       "    <tr>\n",
       "      <th>3</th>\n",
       "      <td>2</td>\n",
       "      <td>three</td>\n",
       "      <td>NaN</td>\n",
       "    </tr>\n",
       "    <tr>\n",
       "      <th>4</th>\n",
       "      <td>3</td>\n",
       "      <td>four</td>\n",
       "      <td>fourfour</td>\n",
       "    </tr>\n",
       "  </tbody>\n",
       "</table>\n",
       "</div>"
      ],
      "text/plain": [
       "   id left_side  right_side\n",
       "0   0       one      oneone\n",
       "1   0       one  threethree\n",
       "2   1       two      twotwo\n",
       "3   2     three         NaN\n",
       "4   3      four    fourfour"
      ]
     },
     "execution_count": 68,
     "metadata": {},
     "output_type": "execute_result"
    }
   ],
   "source": [
    "pd.merge(left=left_df,right=right_df,on='id',how='left')    #left merge"
   ]
  },
  {
   "cell_type": "code",
   "execution_count": 101,
   "metadata": {},
   "outputs": [],
   "source": [
    "df1=pd.DataFrame({'HPI':[80,85,88,85],\n",
    "                 'Int_rate':[2,3,2,2],\n",
    "                 'US_GDP_Thousands':[50,55,65,55]},\n",
    "                 index=[2001,2002,2003,2004])\n",
    "df2=pd.DataFrame({'HPI':[80,85,88,85],\n",
    "                  'Int_rate':[2,3,2,2],\n",
    "                  'US_GDP_Thousands':[50,55,65,55]},\n",
    "                 index=[2005,2006,2007,2008])\n",
    "df3=pd.DataFrame({'HPI':[80,85,88,85],\n",
    "                  'Int_rate':[7,8,9,6],\n",
    "                  'Low_tier_HPI':[50,52,50,53]},\n",
    "                 index=[2001,2002,2003,2004])"
   ]
  },
  {
   "cell_type": "code",
   "execution_count": 102,
   "metadata": {},
   "outputs": [
    {
     "name": "stdout",
     "output_type": "stream",
     "text": [
      "      HPI  Int_rate  US_GDP_Thousands\n",
      "2001   80         2                50\n",
      "2002   85         3                55\n",
      "2003   88         2                65\n",
      "2004   85         2                55\n",
      "      HPI  Int_rate  US_GDP_Thousands\n",
      "2005   80         2                50\n",
      "2006   85         3                55\n",
      "2007   88         2                65\n",
      "2008   85         2                55\n",
      "      HPI  Int_rate  Low_tier_HPI\n",
      "2001   80         7            50\n",
      "2002   85         8            52\n",
      "2003   88         9            50\n",
      "2004   85         6            53\n"
     ]
    }
   ],
   "source": [
    "print(df1)\n",
    "print(df2)\n",
    "print(df3)"
   ]
  },
  {
   "cell_type": "code",
   "execution_count": 103,
   "metadata": {},
   "outputs": [
    {
     "data": {
      "text/html": [
       "<div>\n",
       "<style scoped>\n",
       "    .dataframe tbody tr th:only-of-type {\n",
       "        vertical-align: middle;\n",
       "    }\n",
       "\n",
       "    .dataframe tbody tr th {\n",
       "        vertical-align: top;\n",
       "    }\n",
       "\n",
       "    .dataframe thead th {\n",
       "        text-align: right;\n",
       "    }\n",
       "</style>\n",
       "<table border=\"1\" class=\"dataframe\">\n",
       "  <thead>\n",
       "    <tr style=\"text-align: right;\">\n",
       "      <th></th>\n",
       "      <th>HPI</th>\n",
       "      <th>Int_rate_x</th>\n",
       "      <th>US_GDP_Thousands_x</th>\n",
       "      <th>Int_rate_y</th>\n",
       "      <th>US_GDP_Thousands_y</th>\n",
       "    </tr>\n",
       "  </thead>\n",
       "  <tbody>\n",
       "    <tr>\n",
       "      <th>0</th>\n",
       "      <td>80</td>\n",
       "      <td>2</td>\n",
       "      <td>50</td>\n",
       "      <td>2</td>\n",
       "      <td>50</td>\n",
       "    </tr>\n",
       "    <tr>\n",
       "      <th>1</th>\n",
       "      <td>85</td>\n",
       "      <td>3</td>\n",
       "      <td>55</td>\n",
       "      <td>3</td>\n",
       "      <td>55</td>\n",
       "    </tr>\n",
       "    <tr>\n",
       "      <th>2</th>\n",
       "      <td>85</td>\n",
       "      <td>3</td>\n",
       "      <td>55</td>\n",
       "      <td>2</td>\n",
       "      <td>55</td>\n",
       "    </tr>\n",
       "    <tr>\n",
       "      <th>3</th>\n",
       "      <td>85</td>\n",
       "      <td>2</td>\n",
       "      <td>55</td>\n",
       "      <td>3</td>\n",
       "      <td>55</td>\n",
       "    </tr>\n",
       "    <tr>\n",
       "      <th>4</th>\n",
       "      <td>85</td>\n",
       "      <td>2</td>\n",
       "      <td>55</td>\n",
       "      <td>2</td>\n",
       "      <td>55</td>\n",
       "    </tr>\n",
       "    <tr>\n",
       "      <th>5</th>\n",
       "      <td>88</td>\n",
       "      <td>2</td>\n",
       "      <td>65</td>\n",
       "      <td>2</td>\n",
       "      <td>65</td>\n",
       "    </tr>\n",
       "  </tbody>\n",
       "</table>\n",
       "</div>"
      ],
      "text/plain": [
       "   HPI  Int_rate_x  US_GDP_Thousands_x  Int_rate_y  US_GDP_Thousands_y\n",
       "0   80           2                  50           2                  50\n",
       "1   85           3                  55           3                  55\n",
       "2   85           3                  55           2                  55\n",
       "3   85           2                  55           3                  55\n",
       "4   85           2                  55           2                  55\n",
       "5   88           2                  65           2                  65"
      ]
     },
     "execution_count": 103,
     "metadata": {},
     "output_type": "execute_result"
    }
   ],
   "source": [
    "pd.merge(df1,df2,on=['HPI'])"
   ]
  },
  {
   "cell_type": "code",
   "execution_count": 104,
   "metadata": {},
   "outputs": [
    {
     "data": {
      "text/html": [
       "<div>\n",
       "<style scoped>\n",
       "    .dataframe tbody tr th:only-of-type {\n",
       "        vertical-align: middle;\n",
       "    }\n",
       "\n",
       "    .dataframe tbody tr th {\n",
       "        vertical-align: top;\n",
       "    }\n",
       "\n",
       "    .dataframe thead th {\n",
       "        text-align: right;\n",
       "    }\n",
       "</style>\n",
       "<table border=\"1\" class=\"dataframe\">\n",
       "  <thead>\n",
       "    <tr style=\"text-align: right;\">\n",
       "      <th></th>\n",
       "      <th>HPI</th>\n",
       "      <th>Int_rate</th>\n",
       "      <th>US_GDP_Thousands_x</th>\n",
       "      <th>US_GDP_Thousands_y</th>\n",
       "    </tr>\n",
       "  </thead>\n",
       "  <tbody>\n",
       "    <tr>\n",
       "      <th>0</th>\n",
       "      <td>80</td>\n",
       "      <td>2</td>\n",
       "      <td>50</td>\n",
       "      <td>50</td>\n",
       "    </tr>\n",
       "    <tr>\n",
       "      <th>1</th>\n",
       "      <td>85</td>\n",
       "      <td>3</td>\n",
       "      <td>55</td>\n",
       "      <td>55</td>\n",
       "    </tr>\n",
       "    <tr>\n",
       "      <th>2</th>\n",
       "      <td>88</td>\n",
       "      <td>2</td>\n",
       "      <td>65</td>\n",
       "      <td>65</td>\n",
       "    </tr>\n",
       "    <tr>\n",
       "      <th>3</th>\n",
       "      <td>85</td>\n",
       "      <td>2</td>\n",
       "      <td>55</td>\n",
       "      <td>55</td>\n",
       "    </tr>\n",
       "  </tbody>\n",
       "</table>\n",
       "</div>"
      ],
      "text/plain": [
       "   HPI  Int_rate  US_GDP_Thousands_x  US_GDP_Thousands_y\n",
       "0   80         2                  50                  50\n",
       "1   85         3                  55                  55\n",
       "2   88         2                  65                  65\n",
       "3   85         2                  55                  55"
      ]
     },
     "execution_count": 104,
     "metadata": {},
     "output_type": "execute_result"
    }
   ],
   "source": [
    "pd.merge(df1,df2,on=['HPI','Int_rate'])"
   ]
  },
  {
   "cell_type": "code",
   "execution_count": 105,
   "metadata": {},
   "outputs": [],
   "source": [
    "merge_13=pd.merge(df1,df3,on='HPI')"
   ]
  },
  {
   "cell_type": "code",
   "execution_count": 106,
   "metadata": {},
   "outputs": [],
   "source": [
    "merge_13.set_index('HPI',inplace=True)"
   ]
  },
  {
   "cell_type": "code",
   "execution_count": 108,
   "metadata": {
    "scrolled": true
   },
   "outputs": [
    {
     "name": "stdout",
     "output_type": "stream",
     "text": [
      "     Int_rate_x  US_GDP_Thousands  Int_rate_y  Low_tier_HPI\n",
      "HPI                                                        \n",
      "80            2                50           7            50\n",
      "85            3                55           8            52\n",
      "85            3                55           6            53\n",
      "85            2                55           8            52\n",
      "85            2                55           6            53\n",
      "88            2                65           9            50\n"
     ]
    }
   ],
   "source": [
    "print(merge_13)"
   ]
  },
  {
   "cell_type": "code",
   "execution_count": 109,
   "metadata": {},
   "outputs": [],
   "source": [
    "df1 = pd.DataFrame({                                  #redefine dataframes df1 and df3\n",
    "                    'Int_rate':[2, 3, 2, 2],\n",
    "                    'US_GDP_Thousands':[50, 55, 65, 55],\n",
    "                    'Year':[2001, 2002, 2003, 2004]\n",
    "                    })\n",
    "\n",
    "df3 = pd.DataFrame({\n",
    "                    'Unemployment':[7, 8, 9, 6],\n",
    "                    'Low_tier_HPI':[50, 52, 50, 53],\n",
    "                    'Year':[2001, 2003, 2004, 2005]})\n"
   ]
  },
  {
   "cell_type": "code",
   "execution_count": 110,
   "metadata": {},
   "outputs": [
    {
     "name": "stdout",
     "output_type": "stream",
     "text": [
      "   Int_rate  US_GDP_Thousands  Year  Unemployment  Low_tier_HPI\n",
      "0         2                50  2001             7            50\n",
      "1         2                65  2003             8            52\n",
      "2         2                55  2004             9            50\n"
     ]
    }
   ],
   "source": [
    "merged = pd.merge(df1,df3, on='Year')\n",
    "print(merged)"
   ]
  },
  {
   "cell_type": "code",
   "execution_count": 112,
   "metadata": {},
   "outputs": [
    {
     "name": "stdout",
     "output_type": "stream",
     "text": [
      "      Int_rate  US_GDP_Thousands  Unemployment  Low_tier_HPI\n",
      "Year                                                        \n",
      "2001         2                50             7            50\n",
      "2003         2                65             8            52\n",
      "2004         2                55             9            50\n"
     ]
    }
   ],
   "source": [
    "merged = pd.merge(df1,df3, on='Year')           #making year as index\n",
    "merged.set_index('Year', inplace=True)          #Notice how 2005 and 2002 are just totally missing?\n",
    "print(merged)                                  #Merge will natively just merge existing/shared data.                       "
   ]
  },
  {
   "cell_type": "code",
   "execution_count": 113,
   "metadata": {},
   "outputs": [
    {
     "name": "stdout",
     "output_type": "stream",
     "text": [
      "      Int_rate  US_GDP_Thousands  Unemployment  Low_tier_HPI\n",
      "Year                                                        \n",
      "2001         2                50           7.0          50.0\n",
      "2002         3                55           NaN           NaN\n",
      "2003         2                65           8.0          52.0\n",
      "2004         2                55           9.0          50.0\n"
     ]
    }
   ],
   "source": [
    "merged = pd.merge(df1,df3, on='Year', how='left')    #similary for right outer inner(which is default)\n",
    "merged.set_index('Year', inplace=True)\n",
    "print(merged)"
   ]
  },
  {
   "cell_type": "markdown",
   "metadata": {},
   "source": [
    "# JOINING"
   ]
  },
  {
   "cell_type": "code",
   "execution_count": 114,
   "metadata": {},
   "outputs": [
    {
     "name": "stdout",
     "output_type": "stream",
     "text": [
      "      Int_rate  US_GDP_Thousands  Unemployment  Low_tier_HPI\n",
      "Year                                                        \n",
      "2001       2.0              50.0           7.0          50.0\n",
      "2002       3.0              55.0           NaN           NaN\n",
      "2003       2.0              65.0           8.0          52.0\n",
      "2004       2.0              55.0           9.0          50.0\n",
      "2005       NaN               NaN           6.0          53.0\n"
     ]
    }
   ],
   "source": [
    "df1.set_index('Year', inplace=True)\n",
    "df3.set_index('Year', inplace=True)\n",
    "joined = df1.join(df3, how=\"outer\")\n",
    "print(joined)"
   ]
  },
  {
   "cell_type": "markdown",
   "metadata": {},
   "source": [
    "# CONCATENATION AND APPENDING"
   ]
  },
  {
   "cell_type": "code",
   "execution_count": 115,
   "metadata": {},
   "outputs": [],
   "source": [
    "df1 = pd.DataFrame({'HPI':[80,85,88,85],\n",
    "                                'Int_rate':[2, 3, 2, 2],\n",
    "                                'US_GDP_Thousands':[50, 55, 65, 55]},\n",
    "                                index = [2001, 2002, 2003, 2004])\n",
    "\n",
    "df2 = pd.DataFrame({'HPI':[80,85,88,85],\n",
    "                                'Int_rate':[2, 3, 2, 2],\n",
    "                                'US_GDP_Thousands':[50, 55, 65, 55]},\n",
    "                                index = [2005, 2006, 2007, 2008])\n",
    "\n",
    "df3 = pd.DataFrame({'HPI':[80,85,88,85],\n",
    "                                'Int_rate':[2, 3, 2, 2],\n",
    "                                'Low_tier_HPI':[50, 52, 50, 53]},\n",
    "                                index = [2001, 2002, 2003, 2004])"
   ]
  },
  {
   "cell_type": "code",
   "execution_count": 116,
   "metadata": {
    "scrolled": true
   },
   "outputs": [
    {
     "name": "stdout",
     "output_type": "stream",
     "text": [
      "      HPI  Int_rate  US_GDP_Thousands\n",
      "2001   80         2                50\n",
      "2002   85         3                55\n",
      "2003   88         2                65\n",
      "2004   85         2                55\n",
      "2005   80         2                50\n",
      "2006   85         3                55\n",
      "2007   88         2                65\n",
      "2008   85         2                55\n"
     ]
    }
   ],
   "source": [
    "Concat_1_2 = pd.concat([df1, df2])\n",
    "print(Concat_1_2)"
   ]
  },
  {
   "cell_type": "code",
   "execution_count": 124,
   "metadata": {},
   "outputs": [
    {
     "name": "stdout",
     "output_type": "stream",
     "text": [
      "      HPI  Int_rate  Low_tier_HPI  US_GDP_Thousands\n",
      "2001   80         2           NaN              50.0\n",
      "2002   85         3           NaN              55.0\n",
      "2003   88         2           NaN              65.0\n",
      "2004   85         2           NaN              55.0\n",
      "2001   80         2          50.0               NaN\n",
      "2002   85         3          52.0               NaN\n",
      "2003   88         2          50.0               NaN\n",
      "2004   85         2          53.0               NaN\n"
     ]
    },
    {
     "name": "stderr",
     "output_type": "stream",
     "text": [
      "C:\\Users\\Windows\\Anaconda3\\lib\\site-packages\\ipykernel_launcher.py:1: FutureWarning: Sorting because non-concatenation axis is not aligned. A future version\n",
      "of pandas will change to not sort by default.\n",
      "\n",
      "To accept the future behavior, pass 'sort=False'.\n",
      "\n",
      "To retain the current behavior and silence the warning, pass 'sort=True'.\n",
      "\n",
      "  \"\"\"Entry point for launching an IPython kernel.\n"
     ]
    }
   ],
   "source": [
    "Concat_1_3 = pd.concat([df1, df3])\n",
    "print(Concat_1_3)"
   ]
  },
  {
   "cell_type": "code",
   "execution_count": 121,
   "metadata": {},
   "outputs": [
    {
     "name": "stdout",
     "output_type": "stream",
     "text": [
      "      HPI  Int_rate  Low_tier_HPI  US_GDP_Thousands\n",
      "2001   80         2           NaN              50.0\n",
      "2002   85         3           NaN              55.0\n",
      "2003   88         2           NaN              65.0\n",
      "2004   85         2           NaN              55.0\n",
      "2005   80         2           NaN              50.0\n",
      "2006   85         3           NaN              55.0\n",
      "2007   88         2           NaN              65.0\n",
      "2008   85         2           NaN              55.0\n",
      "2001   80         2          50.0               NaN\n",
      "2002   85         3          52.0               NaN\n",
      "2003   88         2          50.0               NaN\n",
      "2004   85         2          53.0               NaN\n"
     ]
    },
    {
     "name": "stderr",
     "output_type": "stream",
     "text": [
      "C:\\Users\\Windows\\Anaconda3\\lib\\site-packages\\ipykernel_launcher.py:1: FutureWarning: Sorting because non-concatenation axis is not aligned. A future version\n",
      "of pandas will change to not sort by default.\n",
      "\n",
      "To accept the future behavior, pass 'sort=False'.\n",
      "\n",
      "To retain the current behavior and silence the warning, pass 'sort=True'.\n",
      "\n",
      "  \"\"\"Entry point for launching an IPython kernel.\n"
     ]
    }
   ],
   "source": [
    "Concat_1_2_3 = pd.concat([df1,df2,df3])\n",
    "print(Concat_1_2_3)"
   ]
  },
  {
   "cell_type": "code",
   "execution_count": 122,
   "metadata": {},
   "outputs": [
    {
     "name": "stdout",
     "output_type": "stream",
     "text": [
      "      HPI  Int_rate  US_GDP_Thousands\n",
      "2001   80         2                50\n",
      "2002   85         3                55\n",
      "2003   88         2                65\n",
      "2004   85         2                55\n",
      "2005   80         2                50\n",
      "2006   85         3                55\n",
      "2007   88         2                65\n",
      "2008   85         2                55\n"
     ]
    }
   ],
   "source": [
    "Append_1_2 = df1.append(df2)                    #APPENDING\n",
    "print(Append_1_2)"
   ]
  },
  {
   "cell_type": "code",
   "execution_count": 123,
   "metadata": {},
   "outputs": [
    {
     "name": "stdout",
     "output_type": "stream",
     "text": [
      "      HPI  Int_rate  Low_tier_HPI  US_GDP_Thousands\n",
      "2001   80         2           NaN              50.0\n",
      "2002   85         3           NaN              55.0\n",
      "2003   88         2           NaN              65.0\n",
      "2004   85         2           NaN              55.0\n",
      "2001   80         2          50.0               NaN\n",
      "2002   85         3          52.0               NaN\n",
      "2003   88         2          50.0               NaN\n",
      "2004   85         2          53.0               NaN\n"
     ]
    },
    {
     "name": "stderr",
     "output_type": "stream",
     "text": [
      "C:\\Users\\Windows\\Anaconda3\\lib\\site-packages\\pandas\\core\\frame.py:6211: FutureWarning: Sorting because non-concatenation axis is not aligned. A future version\n",
      "of pandas will change to not sort by default.\n",
      "\n",
      "To accept the future behavior, pass 'sort=False'.\n",
      "\n",
      "To retain the current behavior and silence the warning, pass 'sort=True'.\n",
      "\n",
      "  sort=sort)\n"
     ]
    }
   ],
   "source": [
    "Append_1_3 = df1.append(df3)                            #SAME INDEX\n",
    "print(Append_1_3)"
   ]
  },
  {
   "cell_type": "code",
   "execution_count": null,
   "metadata": {},
   "outputs": [],
   "source": []
  }
 ],
 "metadata": {
  "kernelspec": {
   "display_name": "Python 3",
   "language": "python",
   "name": "python3"
  },
  "language_info": {
   "codemirror_mode": {
    "name": "ipython",
    "version": 3
   },
   "file_extension": ".py",
   "mimetype": "text/x-python",
   "name": "python",
   "nbconvert_exporter": "python",
   "pygments_lexer": "ipython3",
   "version": "3.7.0"
  }
 },
 "nbformat": 4,
 "nbformat_minor": 2
}
