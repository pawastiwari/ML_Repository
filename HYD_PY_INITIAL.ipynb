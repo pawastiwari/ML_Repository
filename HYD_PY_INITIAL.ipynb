{
 "cells": [
  {
   "cell_type": "code",
   "execution_count": 67,
   "metadata": {},
   "outputs": [
    {
     "name": "stdout",
     "output_type": "stream",
     "text": [
      "a\n",
      "aaaaaaaaaa\n"
     ]
    }
   ],
   "source": [
    "a=input()\n",
    "print(a*10)"
   ]
  },
  {
   "cell_type": "code",
   "execution_count": 68,
   "metadata": {},
   "outputs": [
    {
     "name": "stdout",
     "output_type": "stream",
     "text": [
      "enter the value b3\n",
      "3\n"
     ]
    }
   ],
   "source": [
    "b=input(\"enter the value b\")\n",
    "print(b)"
   ]
  },
  {
   "cell_type": "code",
   "execution_count": 73,
   "metadata": {},
   "outputs": [
    {
     "name": "stdout",
     "output_type": "stream",
     "text": [
      "1\n"
     ]
    }
   ],
   "source": [
    "for x in range(1):\n",
    "    x=input()"
   ]
  },
  {
   "cell_type": "code",
   "execution_count": 107,
   "metadata": {},
   "outputs": [
    {
     "name": "stdout",
     "output_type": "stream",
     "text": [
      "input the value1 2\n",
      "1 2\n"
     ]
    }
   ],
   "source": [
    "a,b=input('input the value').split()\n",
    "print(a,b,sep=' ')"
   ]
  },
  {
   "cell_type": "code",
   "execution_count": 3,
   "metadata": {},
   "outputs": [
    {
     "name": "stdout",
     "output_type": "stream",
     "text": [
      "input the base12\n",
      "input the height12\n",
      "72.0\n"
     ]
    }
   ],
   "source": [
    "base=input('input the base')\n",
    "height=input('input the height')\n",
    "area=(int(base)*int(height))*.5\n",
    "print(area)"
   ]
  },
  {
   "cell_type": "code",
   "execution_count": 13,
   "metadata": {},
   "outputs": [],
   "source": [
    "x=0b1001"
   ]
  },
  {
   "cell_type": "code",
   "execution_count": 15,
   "metadata": {},
   "outputs": [],
   "source": [
    "x<<=2"
   ]
  },
  {
   "cell_type": "code",
   "execution_count": 17,
   "metadata": {},
   "outputs": [
    {
     "data": {
      "text/plain": [
       "36"
      ]
     },
     "execution_count": 17,
     "metadata": {},
     "output_type": "execute_result"
    }
   ],
   "source": [
    "x"
   ]
  },
  {
   "cell_type": "code",
   "execution_count": 18,
   "metadata": {},
   "outputs": [],
   "source": [
    "x>>=1"
   ]
  },
  {
   "cell_type": "code",
   "execution_count": 19,
   "metadata": {},
   "outputs": [
    {
     "data": {
      "text/plain": [
       "18"
      ]
     },
     "execution_count": 19,
     "metadata": {},
     "output_type": "execute_result"
    }
   ],
   "source": [
    "x"
   ]
  },
  {
   "cell_type": "code",
   "execution_count": 20,
   "metadata": {},
   "outputs": [],
   "source": [
    "x=12"
   ]
  },
  {
   "cell_type": "code",
   "execution_count": 21,
   "metadata": {},
   "outputs": [],
   "source": [
    "x>>=2"
   ]
  },
  {
   "cell_type": "code",
   "execution_count": 22,
   "metadata": {},
   "outputs": [
    {
     "data": {
      "text/plain": [
       "3"
      ]
     },
     "execution_count": 22,
     "metadata": {},
     "output_type": "execute_result"
    }
   ],
   "source": [
    "x"
   ]
  },
  {
   "cell_type": "code",
   "execution_count": 23,
   "metadata": {},
   "outputs": [],
   "source": [
    "x=1\n",
    "y=2\n",
    "z=3"
   ]
  },
  {
   "cell_type": "code",
   "execution_count": 25,
   "metadata": {},
   "outputs": [],
   "source": [
    "x+=y+9"
   ]
  },
  {
   "cell_type": "code",
   "execution_count": 26,
   "metadata": {},
   "outputs": [
    {
     "data": {
      "text/plain": [
       "12"
      ]
     },
     "execution_count": 26,
     "metadata": {},
     "output_type": "execute_result"
    }
   ],
   "source": [
    "x"
   ]
  },
  {
   "cell_type": "code",
   "execution_count": 27,
   "metadata": {},
   "outputs": [
    {
     "data": {
      "text/plain": [
       "93.93877551020408"
      ]
     },
     "execution_count": 27,
     "metadata": {},
     "output_type": "execute_result"
    }
   ],
   "source": [
    "18*8/7**2-8+99\n"
   ]
  },
  {
   "cell_type": "code",
   "execution_count": 29,
   "metadata": {},
   "outputs": [],
   "source": [
    "def get_name():\n",
    "    a=input(\"provide your name\")\n",
    "    print(a)"
   ]
  },
  {
   "cell_type": "code",
   "execution_count": 32,
   "metadata": {},
   "outputs": [
    {
     "name": "stdout",
     "output_type": "stream",
     "text": [
      "provide your namekapil\n",
      "kapil\n"
     ]
    }
   ],
   "source": [
    "get_name()"
   ]
  },
  {
   "cell_type": "code",
   "execution_count": 1,
   "metadata": {},
   "outputs": [
    {
     "name": "stdout",
     "output_type": "stream",
     "text": [
      "23\n",
      "odd\n"
     ]
    }
   ],
   "source": [
    "num=int(input())                    #even odd\n",
    "if num%2==0:\n",
    "    print('even')\n",
    "else:\n",
    "    print('odd')"
   ]
  },
  {
   "cell_type": "code",
   "execution_count": 10,
   "metadata": {},
   "outputs": [
    {
     "name": "stdout",
     "output_type": "stream",
     "text": [
      "input the characterA\n",
      "a\n"
     ]
    }
   ],
   "source": [
    "char=input(\"input the character\")              #case changer\n",
    "if char>=\"a\" and char<=\"z\":\n",
    "    con=ord(char)-32\n",
    "    con=chr(con)\n",
    "elif char>=\"A\" and char<=\"z\":\n",
    "    con=ord(char)+32\n",
    "    con=chr(con)    \n",
    "print(con)    "
   ]
  },
  {
   "cell_type": "code",
   "execution_count": 17,
   "metadata": {},
   "outputs": [
    {
     "name": "stdout",
     "output_type": "stream",
     "text": [
      "12\n",
      "40\n",
      "12\n",
      "fail in 12 12\n"
     ]
    }
   ],
   "source": [
    "a=int(input())                                   #pass fail\n",
    "b=int(input())\n",
    "c=int(input())\n",
    "if a>=40:\n",
    "    if b>=40:\n",
    "        if c>=40:\n",
    "            print(\"pass in\",a,b,c)\n",
    "        else:\n",
    "            print(\"fail in\",c)\n",
    "    else:\n",
    "        if c>=40:\n",
    "            print(\"fail in\",b)\n",
    "        else:\n",
    "            print(\"fail in\",b,c)\n",
    "else:\n",
    "    if b>=40:\n",
    "        if c>=40:\n",
    "            print(\"fail in\",a)\n",
    "        else:\n",
    "            print(\"fail in\",a,c)\n",
    "    else:\n",
    "        if c>=40:\n",
    "            print(\"pass in\",b,c)\n",
    "        else:\n",
    "            print(\"fail in all subjects\")"
   ]
  },
  {
   "cell_type": "code",
   "execution_count": 13,
   "metadata": {
    "collapsed": true
   },
   "outputs": [
    {
     "name": "stdout",
     "output_type": "stream",
     "text": [
      "0\n",
      "1\n",
      "2\n",
      "3\n",
      "4\n",
      "5\n",
      "6\n",
      "7\n",
      "8\n",
      "9\n"
     ]
    }
   ],
   "source": [
    "a=48\n",
    "while a<58:\n",
    "    print(chr(a))\n",
    "    a+=1"
   ]
  },
  {
   "cell_type": "code",
   "execution_count": 16,
   "metadata": {
    "collapsed": true
   },
   "outputs": [
    {
     "name": "stdout",
     "output_type": "stream",
     "text": [
      "65\n",
      "66\n",
      "67\n",
      "68\n",
      "69\n",
      "70\n",
      "71\n",
      "72\n",
      "73\n",
      "74\n",
      "75\n",
      "76\n",
      "77\n",
      "78\n",
      "79\n",
      "80\n",
      "81\n",
      "82\n",
      "83\n",
      "84\n",
      "85\n",
      "86\n",
      "87\n",
      "88\n",
      "89\n",
      "90\n"
     ]
    }
   ],
   "source": [
    "a='A'                  #number without use of number\n",
    "while a<=\"Z\":\n",
    "    print(ord(a))\n",
    "    a=chr(ord(a)+1)"
   ]
  },
  {
   "cell_type": "code",
   "execution_count": 24,
   "metadata": {},
   "outputs": [
    {
     "name": "stdout",
     "output_type": "stream",
     "text": [
      "1221\n",
      "4\n"
     ]
    }
   ],
   "source": [
    "num=int(input())            #length of number\n",
    "i=0\n",
    "if num==0:\n",
    "    i=1\n",
    "else:\n",
    "    while num!=0:\n",
    "        i+=1\n",
    "        num//=10\n",
    "    print(i)\n",
    "    "
   ]
  },
  {
   "cell_type": "code",
   "execution_count": 29,
   "metadata": {},
   "outputs": [
    {
     "name": "stdout",
     "output_type": "stream",
     "text": [
      "9999999999999999999999999\n",
      "225\n"
     ]
    }
   ],
   "source": [
    "a=int(input())         #sum of the numbers in input\n",
    "c=0\n",
    "while a!=0:\n",
    "    b=a%10\n",
    "    a=a//10\n",
    "    c=c+b\n",
    "print(c)\n",
    "    "
   ]
  },
  {
   "cell_type": "code",
   "execution_count": 44,
   "metadata": {},
   "outputs": [
    {
     "name": "stdout",
     "output_type": "stream",
     "text": [
      "number please123\n",
      "321\n"
     ]
    }
   ],
   "source": [
    "a=int(input(\"number please\"))                #reversing the string\n",
    "\n",
    "d=0\n",
    "\n",
    "while a!=0:\n",
    "    n=len(str(a))\n",
    "    b=a%10\n",
    "    c=10**(n-1)*b\n",
    "    d=d+c\n",
    "    a=a//10\n",
    "    n=n-1\n",
    "print(d)"
   ]
  },
  {
   "cell_type": "code",
   "execution_count": null,
   "metadata": {},
   "outputs": [],
   "source": [
    "a=int(input())\n",
    "while a>=0:\n",
    "    num=a\n",
    "    num1=num\n",
    "    s=0\n",
    "    while num!=0:\n",
    "        r=num%10\n",
    "        s=s+r**3\n",
    "        num=num//10\n",
    "    if num1==s:\n",
    "        print(num1,\" is amstrong number\")\n",
    "    a-=1    "
   ]
  },
  {
   "cell_type": "code",
   "execution_count": 4,
   "metadata": {},
   "outputs": [
    {
     "name": "stdout",
     "output_type": "stream",
     "text": [
      "enter user id:-kappa\n",
      "enter password:-123\n",
      "access granted\n"
     ]
    }
   ],
   "source": [
    "username=input('enter user id:-')                      #login page\n",
    "if username=='kappa' or username=='KAPPA':\n",
    "    password=input('enter password:-')\n",
    "    if password == '123':\n",
    "        print('access granted')\n",
    "    else:\n",
    "        print('wrong password')\n",
    "else:\n",
    "    print('invalid user id')"
   ]
  },
  {
   "cell_type": "code",
   "execution_count": 1,
   "metadata": {},
   "outputs": [
    {
     "name": "stdout",
     "output_type": "stream",
     "text": [
      "number of table ?:2\n",
      "2 * 1 is = 2\n",
      "2 * 2 is = 4\n",
      "2 * 3 is = 6\n",
      "2 * 4 is = 8\n",
      "2 * 5 is = 10\n",
      "2 * 6 is = 12\n",
      "2 * 7 is = 14\n",
      "2 * 8 is = 16\n",
      "2 * 9 is = 18\n",
      "2 * 10 is = 20\n"
     ]
    }
   ],
   "source": [
    "a=1\n",
    "num=int(input('number of table ?:'))\n",
    "while a<=10:\n",
    "    print(num,'*',a,'is','=',num*a)\n",
    "    a+=1"
   ]
  },
  {
   "cell_type": "code",
   "execution_count": 4,
   "metadata": {},
   "outputs": [
    {
     "name": "stdout",
     "output_type": "stream",
     "text": [
      "2 prime\n",
      "3 prime\n",
      "5 prime\n",
      "7 prime\n",
      "11 prime\n",
      "13 prime\n",
      "17 prime\n",
      "19 prime\n",
      "23 prime\n",
      "29 prime\n",
      "31 prime\n",
      "37 prime\n"
     ]
    }
   ],
   "source": [
    "a=1\n",
    "while a<40:\n",
    "    count=0\n",
    "    i=1\n",
    "    for i in range(1,a+1):\n",
    "        if a%i==0:\n",
    "            count=count+1\n",
    "\n",
    "    if count==2:\n",
    "        print(a,'prime')\n",
    "    a+=1\n"
   ]
  },
  {
   "cell_type": "code",
   "execution_count": null,
   "metadata": {},
   "outputs": [],
   "source": []
  }
 ],
 "metadata": {
  "kernelspec": {
   "display_name": "Python 3",
   "language": "python",
   "name": "python3"
  },
  "language_info": {
   "codemirror_mode": {
    "name": "ipython",
    "version": 3
   },
   "file_extension": ".py",
   "mimetype": "text/x-python",
   "name": "python",
   "nbconvert_exporter": "python",
   "pygments_lexer": "ipython3",
   "version": "3.7.3"
  }
 },
 "nbformat": 4,
 "nbformat_minor": 2
}
